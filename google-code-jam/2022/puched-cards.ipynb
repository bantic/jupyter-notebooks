{
 "cells": [
  {
   "cell_type": "code",
   "execution_count": 13,
   "metadata": {},
   "outputs": [
    {
     "name": "stdout",
     "output_type": "stream",
     "text": [
      "..+-+-+-+\n",
      "..|.|.|.|\n",
      "+-+-+-+-+\n",
      "|.|.|.|.|\n",
      "+-+-+-+-+\n",
      "|.|.|.|.|\n",
      "+-+-+-+-+\n",
      "|.|.|.|.|\n",
      "+-+-+-+-+\n",
      "|.|.|.|.|\n",
      "+-+-+-+-+\n"
     ]
    }
   ],
   "source": [
    "def solve(r,c):\n",
    "  out = []\n",
    "  out.append(\"..\" + \"+-\" * (c-1) + \"+\")\n",
    "  out.append(\"..\" + \"|.\" * (c-1) + \"|\")\n",
    "  for _ in range(r-1):\n",
    "    out.append(\"+-\"*c + \"+\")\n",
    "    out.append(\"|.\"*c + \"|\")\n",
    "  out.append(\"+-\"*c + \"+\")\n",
    "  return \"\\n\".join(out)\n",
    "\n",
    "print(solve(5,4))"
   ]
  },
  {
   "cell_type": "code",
   "execution_count": 14,
   "metadata": {},
   "outputs": [
    {
     "data": {
      "text/plain": [
       "[3, 4]"
      ]
     },
     "execution_count": 14,
     "metadata": {},
     "output_type": "execute_result"
    }
   ],
   "source": [
    "list(map(int, \"3 4\".split(\" \")))"
   ]
  },
  {
   "cell_type": "code",
   "execution_count": 17,
   "metadata": {},
   "outputs": [
    {
     "data": {
      "text/plain": [
       "6"
      ]
     },
     "execution_count": 17,
     "metadata": {},
     "output_type": "execute_result"
    }
   ],
   "source": [
    "sum([1,2,3])"
   ]
  },
  {
   "cell_type": "code",
   "execution_count": 18,
   "metadata": {},
   "outputs": [
    {
     "data": {
      "text/plain": [
       "1000000"
      ]
     },
     "execution_count": 18,
     "metadata": {},
     "output_type": "execute_result"
    }
   ],
   "source": [
    "10**6"
   ]
  },
  {
   "cell_type": "code",
   "execution_count": 19,
   "metadata": {},
   "outputs": [
    {
     "data": {
      "text/plain": [
       "1000000"
      ]
     },
     "execution_count": 19,
     "metadata": {},
     "output_type": "execute_result"
    }
   ],
   "source": [
    "sum([699508, 148041, 152451, 0])"
   ]
  },
  {
   "cell_type": "code",
   "execution_count": null,
   "metadata": {},
   "outputs": [],
   "source": []
  }
 ],
 "metadata": {
  "interpreter": {
   "hash": "e5ae0e46400f3560ad53c5c1d06bedba469291c033ddb228c717272182c7127f"
  },
  "kernelspec": {
   "display_name": "Python 3.10.0 64-bit ('3.10.0')",
   "language": "python",
   "name": "python3"
  },
  "language_info": {
   "codemirror_mode": {
    "name": "ipython",
    "version": 3
   },
   "file_extension": ".py",
   "mimetype": "text/x-python",
   "name": "python",
   "nbconvert_exporter": "python",
   "pygments_lexer": "ipython3",
   "version": "3.10.0"
  },
  "orig_nbformat": 4
 },
 "nbformat": 4,
 "nbformat_minor": 2
}
