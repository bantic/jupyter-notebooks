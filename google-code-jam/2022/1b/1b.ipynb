{
 "cells": [
  {
   "cell_type": "code",
   "execution_count": 12,
   "metadata": {},
   "outputs": [],
   "source": [
    "INPUT = \"\"\"\n",
    "4\n",
    "2\n",
    "1 5\n",
    "4\n",
    "1 4 2 3\n",
    "5\n",
    "10 10 10 10 10\n",
    "4\n",
    "7 1 3 1000000\n",
    "\"\"\".strip().splitlines()"
   ]
  },
  {
   "cell_type": "code",
   "execution_count": 28,
   "metadata": {},
   "outputs": [
    {
     "name": "stdout",
     "output_type": "stream",
     "text": [
      "Case #1: 2\n",
      "Case #2: 3\n",
      "Case #3: 5\n",
      "Case #4: 2\n"
     ]
    }
   ],
   "source": [
    "import sys\n",
    "try: INPUT\n",
    "except NameError: INPUT = [line for line in sys.stdin]\n",
    "\n",
    "idx = 0\n",
    "def nextl():\n",
    "  global idx\n",
    "  l = INPUT[idx]\n",
    "  idx += 1\n",
    "  return l\n",
    "\n",
    "from collections import deque\n",
    "\n",
    "def solve(nums):\n",
    "  cnt = 0\n",
    "  prev = -1\n",
    "  while len(nums):\n",
    "    # print(\"nums {}\".format(nums))\n",
    "    cur = None\n",
    "    if nums[0] < nums[-1]:\n",
    "      # print(\"popleft\")\n",
    "      cur = nums.popleft()\n",
    "    else:\n",
    "      cur = nums.pop()\n",
    "    if cur >= prev:\n",
    "      cnt += 1\n",
    "      prev = cur\n",
    "  return cnt\n",
    "\n",
    "T = int(nextl())\n",
    "for case in range(T):\n",
    "  N = nextl()\n",
    "  nums = deque(map(int, nextl().split()))\n",
    "  case += 1\n",
    "  print(\"Case #{}: {}\".format(case, solve(nums)))"
   ]
  },
  {
   "cell_type": "code",
   "execution_count": 21,
   "metadata": {},
   "outputs": [
    {
     "data": {
      "text/plain": [
       "(1, 3)"
      ]
     },
     "execution_count": 21,
     "metadata": {},
     "output_type": "execute_result"
    }
   ],
   "source": [
    "d = deque([1,2,3])\n",
    "d[0],d[-1]"
   ]
  },
  {
   "cell_type": "code",
   "execution_count": null,
   "metadata": {},
   "outputs": [],
   "source": []
  }
 ],
 "metadata": {
  "interpreter": {
   "hash": "bdb7d175af1dd3c1cd9e8cbbe92f5abe5885049c99d2c8d24a8bf57996789ea1"
  },
  "kernelspec": {
   "display_name": "Python 3.7.4 64-bit",
   "language": "python",
   "name": "python3"
  },
  "language_info": {
   "codemirror_mode": {
    "name": "ipython",
    "version": 3
   },
   "file_extension": ".py",
   "mimetype": "text/x-python",
   "name": "python",
   "nbconvert_exporter": "python",
   "pygments_lexer": "ipython3",
   "version": "3.7.4"
  },
  "orig_nbformat": 4
 },
 "nbformat": 4,
 "nbformat_minor": 2
}
