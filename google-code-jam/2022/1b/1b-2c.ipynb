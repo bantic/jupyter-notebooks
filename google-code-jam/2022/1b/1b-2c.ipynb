{
  "cells": [
    {
      "cell_type": "code",
      "execution_count": 12,
      "metadata": {},
      "outputs": [],
      "source": [
        "INPUT = \"\"\"\n",
        "4\n",
        "2\n",
        "1 5\n",
        "4\n",
        "1 4 2 3\n",
        "5\n",
        "10 10 10 10 10\n",
        "4\n",
        "7 1 3 1000000\n",
        "\"\"\".strip().splitlines()"
      ]
    },
    {
      "cell_type": "code",
      "execution_count": null,
      "metadata": {},
      "outputs": [],
      "source": [
        "0 1 0 1 1 0 0 0\n",
        "0 0 0 1 0 0 0 0\n",
        "0 1 0 0 1 0 0 0  # 2\n",
        "1 1 0 0 0 0 0 0 \n",
        "1 0 0 0 1 0 0 0  # 2\n",
        "0 1 0 1 0 1 0 1\n",
        "1 1 0 1 1 1 0 1 . # 6\n",
        "0 1 0 1 0 1 0 1\n",
        "1 0 0 0 1 0 0 0 # 2\n",
        "0 1 0 1 0 0 0 0 #\n",
        "1 1 0 1 1 0 0 0 # 4\n",
        "1 0 1 0 1 0 1 0\n",
        "0 1 1 1 0 0 1 0 # 3\n",
        "0 1 0 1 0 1 0 0\n",
        "0 0 1 0 0 1 1 0 # 3\n",
        "0 1 0 1 0 1 0 0 #\n",
        "0 1 1 1 0 0 1 0 # 4\n",
        "1 1 1 1 0 0 0 0\n",
        "1 0 0 0 0 0 1 0 # 2\n",
        "1 1 0 0 0 0 0 0\n",
        "0 1 0 0 0 0 1 0 # 2\n",
        "0 1 1 0 0 0 0 0\n",
        "0 0 1 0 0 0 1 0 # 2\n",
        "0 0 1 1 0 0 0 0\n",
        "0 0 0 1 0 0 1 0 # 2\n",
        "0 0 0 1 1 0 0 0\n",
        "0 0 0 0 1 0 1 0 # 2\n",
        "0 0 0 0 1 1 0 0\n",
        "0 0 0 0 0 1 1 0 # 2\n",
        "0 0 0 0 0 1 1 0\n",
        "0 0 0 0 0 0 0 0 # 0\n",
        "\n",
        "0 1 0 1 1 0 1 1 # 5\n",
        "1 1 1 1 1 0 0 0\n",
        "1 0 1 0 0 0 1 1 # 4\n",
        "1 1 1 1 0 0 0 0\n",
        "0 1 0 1 0 0 1 1 # 4\n",
        "0 1 1 1 1 0 0 0 \n",
        "0 0 1 0 1 0 1 1 # 4\n",
        "0 0 1 1 1 1 0 0\n",
        "0 0 0 1 0 1 1 1 # 4\n",
        "0 0 0 1 1 1 1 0 \n",
        "0 0 0 0 1 0 0 1 # 2\n",
        "1 1 0 0 0 0 0 0\n",
        "1 1 0 0 1 0 0 1 # 4\n",
        "1 1 1 1 0 0 0 0\n",
        "0 0 1 1 1 0 0 1 # 4\n",
        "0 1 1 1 1 0 0 0\n",
        "0 1 0 0 0 0 0 1 # 2\n",
        "0 1 1 0 0 0 0 0\n",
        "0 0 1 0 0 0 0 1 # 2\n",
        "0 0 1 1 0 0 0 0\n",
        "0 0 0 1 0 0 0 1 #2\n",
        "0 0 0 1 1 0 0 0\n",
        "0 0 0 0 1 0 0 1 # 2\n",
        "0 0 0 0 1 1 0 0\n",
        "0 0 0 0 0 1 0 1 # 2\n",
        "0 0 0 0 0 1 1 0\n",
        "0 0 0 0 0 0 1 1 # 2\n",
        "0 0 0 0 0 0 1 1 # 2\n",
        "0 0 0 0 0 0 0 0\n",
        "\n",
        "1 1 0 1 1 0 1 1 # 6\n",
        "1 1 1 1 1 1 0 0\n",
        "0 0 1 0 0 1 0 0 # 2\n",
        "1 1 0 0 0 0 0 0\n",
        "1 1 1 0 0 1 0 0 # 4\n",
        "1 1 1 1 0 0 0 0\n",
        "0 0 0 1 0 1 0 0 # 2\n",
        "0 1 1 0 0 0 0 0\n",
        "0 1 1 1 0 1 0 0 # 4\n",
        "0 1 1 1 1 0 0 0\n",
        "0 0 0 0 1 1 0 0 # 2\n",
        "0 0 1 1 0 0 0 0\n",
        "0 0 1 1 1 1 0 0 # 4\n",
        "0 0 1 1 1 1 0 0\n",
        "0 0 0 0 0 0 0 0"
      ]
    },
    {
      "cell_type": "code",
      "execution_count": 28,
      "metadata": {},
      "outputs": [
        {
          "name": "stdout",
          "output_type": "stream",
          "text": [
            "Case #1: 2\n",
            "Case #2: 3\n",
            "Case #3: 5\n",
            "Case #4: 2\n"
          ]
        }
      ],
      "source": [
        "import sys\n",
        "try: INPUT\n",
        "except NameError: INPUT = [line for line in sys.stdin]\n",
        "\n",
        "idx = 0\n",
        "def nextl():\n",
        "  global idx\n",
        "  l = INPUT[idx]\n",
        "  idx += 1\n",
        "  return l\n",
        "\n",
        "from collections import deque\n",
        "\n",
        "def solve():\n",
        " p\n",
        "\n",
        "T = int(nextl())\n",
        "for case in range(T):\n",
        "  N = nextl()\n",
        "  nums = deque(map(int, nextl().split()))\n",
        "  case += 1\n",
        "  print(\"Case #{}: {}\".format(case, solve(nums)))"
      ]
    },
    {
      "cell_type": "code",
      "execution_count": 21,
      "metadata": {},
      "outputs": [
        {
          "data": {
            "text/plain": [
              "(1, 3)"
            ]
          },
          "execution_count": 21,
          "metadata": {},
          "output_type": "execute_result"
        }
      ],
      "source": [
        "d = deque([1,2,3])\n",
        "d[0],d[-1]"
      ]
    },
    {
      "cell_type": "code",
      "execution_count": 7,
      "metadata": {},
      "outputs": [
        {
          "data": {
            "text/plain": [
              "'00110000'"
            ]
          },
          "execution_count": 7,
          "metadata": {},
          "output_type": "execute_result"
        }
      ],
      "source": [
        "x = \"11000000\"\n",
        "rot = 8 - 2 \n",
        "x[rot:] + x[:rot]"
      ]
    },
    {
      "cell_type": "code",
      "execution_count": 12,
      "metadata": {},
      "outputs": [
        {
          "data": {
            "text/plain": [
              "'10100001'"
            ]
          },
          "execution_count": 12,
          "metadata": {},
          "output_type": "execute_result"
        }
      ],
      "source": [
        "import random\n",
        "POS = [0,1,2,3,4,5,6,7]\n",
        "def makeGuess(ones):\n",
        "  one_pos = random.sample(POS, ones)\n",
        "  return ''.join(map(str, [\n",
        "    1 if idx in one_pos else 0 for idx in range(8)\n",
        "  ]))\n",
        "\n",
        "makeGuess(3)\n"
      ]
    },
    {
      "cell_type": "code",
      "execution_count": null,
      "metadata": {},
      "outputs": [],
      "source": []
    }
  ],
  "metadata": {
    "interpreter": {
      "hash": "bdb7d175af1dd3c1cd9e8cbbe92f5abe5885049c99d2c8d24a8bf57996789ea1"
    },
    "kernelspec": {
      "display_name": "Python 3.7.4 64-bit",
      "language": "python",
      "name": "python3"
    },
    "language_info": {
      "codemirror_mode": {
        "name": "ipython",
        "version": 3
      },
      "file_extension": ".py",
      "mimetype": "text/x-python",
      "name": "python",
      "nbconvert_exporter": "python",
      "pygments_lexer": "ipython3",
      "version": "3.7.4"
    },
    "orig_nbformat": 4
  },
  "nbformat": 4,
  "nbformat_minor": 2
}
