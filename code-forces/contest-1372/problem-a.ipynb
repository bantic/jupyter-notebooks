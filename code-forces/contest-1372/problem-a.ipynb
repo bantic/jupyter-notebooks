{
 "cells": [
  {
   "cell_type": "code",
   "execution_count": 6,
   "metadata": {},
   "outputs": [
    {
     "name": "stdout",
     "output_type": "stream",
     "text": [
      "2\n",
      "1\n",
      "1\n",
      "5\n",
      "1 1 1 1 1\n"
     ]
    }
   ],
   "source": [
    "def solve(l):\n",
    "    return ' '.join(map(str, [1] * l))\n",
    "\n",
    "def main():\n",
    "    t = int(input())\n",
    "    for _ in range(t):\n",
    "        l = int(input())\n",
    "        print(solve(l))\n",
    "        \n",
    "main()\n"
   ]
  },
  {
   "cell_type": "code",
   "execution_count": null,
   "metadata": {},
   "outputs": [],
   "source": []
  }
 ],
 "metadata": {
  "kernelspec": {
   "display_name": "Python 3",
   "language": "python",
   "name": "python3"
  },
  "language_info": {
   "codemirror_mode": {
    "name": "ipython",
    "version": 3
   },
   "file_extension": ".py",
   "mimetype": "text/x-python",
   "name": "python",
   "nbconvert_exporter": "python",
   "pygments_lexer": "ipython3",
   "version": "3.7.1"
  }
 },
 "nbformat": 4,
 "nbformat_minor": 2
}
