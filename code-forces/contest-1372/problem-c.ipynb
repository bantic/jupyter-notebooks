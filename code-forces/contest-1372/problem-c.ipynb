{
 "cells": [
  {
   "cell_type": "code",
   "execution_count": 2,
   "metadata": {},
   "outputs": [
    {
     "data": {
      "text/plain": [
       "'3 2 4 5 1 6 7'"
      ]
     },
     "execution_count": 2,
     "metadata": {},
     "output_type": "execute_result"
    }
   ],
   "source": [
    "\"3 2 4 5 1 6 7\""
   ]
  },
  {
   "cell_type": "code",
   "execution_count": 70,
   "metadata": {
    "scrolled": false
   },
   "outputs": [],
   "source": [
    "from itertools import permutations\n",
    "\n",
    "# list(permutations(list(range(1,8)), 7))"
   ]
  },
  {
   "cell_type": "code",
   "execution_count": 5,
   "metadata": {},
   "outputs": [
    {
     "data": {
      "text/plain": [
       "(1, 2)"
      ]
     },
     "execution_count": 5,
     "metadata": {},
     "output_type": "execute_result"
    }
   ],
   "source": [
    "2, 4, 3, 5, 7, 1, 6\n",
    "1, 2, 4, 3, 5, 6, 7\n",
    "1, 2, 3, 4, 5, 6, 7\n",
    "\n",
    "3,4,2,5,1\n",
    "1,2,3,4,5\n"
   ]
  },
  {
   "cell_type": "code",
   "execution_count": 97,
   "metadata": {},
   "outputs": [],
   "source": [
    "def trim_start(xs):\n",
    "    i = 0\n",
    "    while i < len(xs):\n",
    "        if xs[i] != i+1:\n",
    "            return (xs[i:],i)\n",
    "        i += 1\n",
    "    return (xs[i:], i)\n",
    "\n",
    "def trim_end(xs):\n",
    "    i = len(xs)\n",
    "    while i > 0:\n",
    "        if xs[i-1] != i:\n",
    "            return xs[:i]\n",
    "        i -= 1\n",
    "    return xs[:i]\n",
    "\n",
    "def in_place_count(xs, offset):\n",
    "    count = 0\n",
    "    for i,v in enumerate(xs):\n",
    "        if i+1+offset == v:\n",
    "            count += 1\n",
    "    return count\n",
    "\n",
    "\n",
    "def solve(xs):\n",
    "    xs = trim_end(xs)\n",
    "    xs, offset = trim_start(xs)\n",
    "    if len(xs) == 0:\n",
    "        return 0\n",
    "    count = in_place_count(xs, offset)\n",
    "    if count == 0:\n",
    "        return 1\n",
    "    else:\n",
    "        return 2\n",
    "        \n",
    "assert(solve([3,2,4,5,1,6,7])==2)\n",
    "assert(solve([1, 5, 3, 4, 2, 6])==2)\n",
    "assert(solve(list(map(int,\"1 5 3 4 6 2\".split(' ')))) == 2)\n",
    "assert(solve([2,3,1]) == 1)\n",
    "\n",
    "def main():\n",
    "    t = int(input())\n",
    "    for _ in range(t):\n",
    "        n = int(input())\n",
    "        xs = list(map(int, input().split(' ')))\n",
    "        print(solve(xs))\n",
    "        \n",
    "main()"
   ]
  },
  {
   "cell_type": "code",
   "execution_count": 90,
   "metadata": {},
   "outputs": [
    {
     "data": {
      "text/plain": [
       "[3, 2, 4, 5, 1, 6, 7]"
      ]
     },
     "execution_count": 90,
     "metadata": {},
     "output_type": "execute_result"
    }
   ],
   "source": [
    "list(map(int, '3 2 4 5 1 6 7'.split(' ')))"
   ]
  },
  {
   "cell_type": "code",
   "execution_count": null,
   "metadata": {},
   "outputs": [],
   "source": []
  }
 ],
 "metadata": {
  "kernelspec": {
   "display_name": "Python 3",
   "language": "python",
   "name": "python3"
  },
  "language_info": {
   "codemirror_mode": {
    "name": "ipython",
    "version": 3
   },
   "file_extension": ".py",
   "mimetype": "text/x-python",
   "name": "python",
   "nbconvert_exporter": "python",
   "pygments_lexer": "ipython3",
   "version": "3.7.1"
  }
 },
 "nbformat": 4,
 "nbformat_minor": 2
}
