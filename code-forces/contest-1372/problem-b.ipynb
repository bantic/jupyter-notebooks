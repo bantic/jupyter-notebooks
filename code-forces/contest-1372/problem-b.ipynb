{
 "cells": [
  {
   "cell_type": "code",
   "execution_count": 78,
   "metadata": {},
   "outputs": [
    {
     "name": "stdout",
     "output_type": "stream",
     "text": [
      "1\n",
      "53\n",
      "1 52\n"
     ]
    }
   ],
   "source": [
    "import functools\n",
    "\n",
    "\n",
    "@functools.lru_cache(maxsize=None)   \n",
    "def factor(n, startFrom=2):\n",
    "    \"\"\"returns a list of prime factors of n,\n",
    "    knowing min possible >= startFrom.\"\"\"\n",
    "    if n <= 1:  return [ ]\n",
    "    d = startFrom\n",
    "    factors = [ ]\n",
    "    while n >= d*d:\n",
    "      if n % d == 0:\n",
    "        factors.append(d)\n",
    "        n = n/d\n",
    "      else:\n",
    "        d += 1 + d % 2  # 2 -> 3, odd -> odd + 2\n",
    "    factors.append(n)\n",
    "    return factors\n",
    "\n",
    "def product(xs):\n",
    "    prod = 1\n",
    "    for x in xs:\n",
    "        prod *= x\n",
    "    return prod\n",
    "\n",
    "def largest_proper_factor(n):\n",
    "    factors = factor(n)\n",
    "    if len(factors) > 1:\n",
    "        return product(factors[1:])\n",
    "    else:\n",
    "        return 1\n",
    "\n",
    "def solve(n):\n",
    "    if n % 2 == 0:\n",
    "        return [n//2,n//2]\n",
    "    else:\n",
    "        max_factor = int(largest_proper_factor(n))\n",
    "        return [max_factor, n-max_factor]\n",
    "\n",
    "def format_solve(n):\n",
    "    return ' '.join(map(str,solve(n)))\n",
    "\n",
    "def main():\n",
    "    t = int(input())\n",
    "    for _ in range(t):\n",
    "        n = int(input())\n",
    "        print(format_solve(n))\n",
    "        \n",
    "main()"
   ]
  },
  {
   "cell_type": "code",
   "execution_count": 77,
   "metadata": {},
   "outputs": [
    {
     "data": {
      "text/plain": [
       "[21, 42]"
      ]
     },
     "execution_count": 77,
     "metadata": {},
     "output_type": "execute_result"
    }
   ],
   "source": [
    "# 63 -> 21, 42\n",
    "solve(63)"
   ]
  },
  {
   "cell_type": "code",
   "execution_count": 68,
   "metadata": {},
   "outputs": [
    {
     "data": {
      "text/plain": [
       "[3, 3, 7.0]"
      ]
     },
     "execution_count": 68,
     "metadata": {},
     "output_type": "execute_result"
    }
   ],
   "source": [
    "factor(63)"
   ]
  },
  {
   "cell_type": "code",
   "execution_count": null,
   "metadata": {},
   "outputs": [],
   "source": []
  }
 ],
 "metadata": {
  "kernelspec": {
   "display_name": "Python 3",
   "language": "python",
   "name": "python3"
  },
  "language_info": {
   "codemirror_mode": {
    "name": "ipython",
    "version": 3
   },
   "file_extension": ".py",
   "mimetype": "text/x-python",
   "name": "python",
   "nbconvert_exporter": "python",
   "pygments_lexer": "ipython3",
   "version": "3.7.1"
  }
 },
 "nbformat": 4,
 "nbformat_minor": 2
}
