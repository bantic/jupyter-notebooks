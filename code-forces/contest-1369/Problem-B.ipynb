{
 "cells": [
  {
   "cell_type": "markdown",
   "metadata": {},
   "source": [
    "# Problem B"
   ]
  },
  {
   "cell_type": "code",
   "execution_count": 40,
   "metadata": {},
   "outputs": [
    {
     "name": "stdout",
     "output_type": "stream",
     "text": [
      "0 1\n"
     ]
    },
    {
     "data": {
      "text/plain": [
       "'01'"
      ]
     },
     "execution_count": 40,
     "metadata": {},
     "output_type": "execute_result"
    }
   ],
   "source": [
    "import re\n",
    "from functools import cmp_to_key\n",
    "\n",
    "def memoize(f):\n",
    "    memo = {}\n",
    "    def helper(x):\n",
    "        if x not in memo:            \n",
    "            memo[x] = f(x)\n",
    "        return memo[x]\n",
    "    return helper\n",
    "\n",
    "def compare(x,y):\n",
    "    if len(x) < len(y):\n",
    "        return -1\n",
    "    elif len(y) < len(x):\n",
    "        return 1\n",
    "    else:\n",
    "        for idx in range(len(x)):\n",
    "            i_x = int(x[idx])\n",
    "            i_y = int(y[idx])\n",
    "            if i_x < i_y:\n",
    "                return -1\n",
    "            elif i_y < i_x:\n",
    "                return 1\n",
    "    return 0\n",
    "\n",
    "def solve_old(s):\n",
    "    stack = [s]\n",
    "    out = []\n",
    "    while len(stack) > 0:\n",
    "        s = stack.pop()\n",
    "        if s.count('10') == 0:\n",
    "            out.append(s)\n",
    "        else:\n",
    "            new_s = [replacer(s, match.span(), '0') for match in re.finditer('1+0+', s)]\n",
    "            stack.extend(new_s)\n",
    "    return sorted(out, key=cmp_to_key(compare))[0]\n",
    "\n",
    "def solve_old2(s):\n",
    "    while s.count('10') > 0:\n",
    "        *_, last_match = re.finditer('1+0+', s)\n",
    "        s = replacer(s, last_match.span(), replacement='0')        \n",
    "    return s\n",
    "\n",
    "def solve(xs):\n",
    "    prefix = 0\n",
    "    suffix = 0\n",
    "    middle = ''\n",
    "    for idx in range(len(xs)):\n",
    "        if xs[idx] != 0:\n",
    "            break\n",
    "        else:\n",
    "            prefix += 1\n",
    "    for idx in range(len(xs)-1,-1,-1):\n",
    "        if xs[idx] != 1:\n",
    "            break\n",
    "        else:\n",
    "            suffix += 1\n",
    "    if len(xs) > prefix + suffix:\n",
    "        middle = '0'\n",
    "    return '0'*prefix + middle + '1' * suffix\n",
    "            \n",
    "\n",
    "def replacer(s, span, replacement='0'):\n",
    "    return s[:span[0]] + replacement + s[span[1]:]\n",
    "\n",
    "def main():\n",
    "    T = int(input())\n",
    "    for _ in range(T):\n",
    "        l = int(input())\n",
    "        s = list(map(int, input()))\n",
    "        print(solve(s))\n",
    "        \n",
    "main()"
   ]
  }
 ],
 "metadata": {
  "kernelspec": {
   "display_name": "Python 3",
   "language": "python",
   "name": "python3"
  },
  "language_info": {
   "codemirror_mode": {
    "name": "ipython",
    "version": 3
   },
   "file_extension": ".py",
   "mimetype": "text/x-python",
   "name": "python",
   "nbconvert_exporter": "python",
   "pygments_lexer": "ipython3",
   "version": "3.7.6"
  }
 },
 "nbformat": 4,
 "nbformat_minor": 4
}
