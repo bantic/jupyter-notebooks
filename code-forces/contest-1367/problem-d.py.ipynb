{
 "cells": [
  {
   "cell_type": "code",
   "execution_count": 6,
   "metadata": {},
   "outputs": [
    {
     "data": {
      "text/plain": [
       "'bbc'"
      ]
     },
     "execution_count": 6,
     "metadata": {},
     "output_type": "execute_result"
    }
   ],
   "source": [
    "def solve(s,l,m):\n",
    "    s = sorted(set(s))\n",
    "    slots = [None for _ in range(l)]\n",
    "    while any([slot is None for slot in slots]):\n",
    "        m_indices = []\n",
    "        for (idx,v) in enumerate(m):\n",
    "            if v == 0 and slots[idx] is None:\n",
    "                slots[idx] = s[-1]\n",
    "                m_indices.append(idx)\n",
    "        s = s[0:-1]\n",
    "        for idx in range(l):\n",
    "            if slots[idx] is None:\n",
    "                diffs = [abs(idx-other_idx) for other_idx in m_indices]\n",
    "                m[idx] -= sum(diffs)\n",
    "    return ''.join(slots)\n",
    "\n",
    "solve('abac', 3, [2,1,0])\n",
    "# solve('abc', 1, [0])\n",
    "# solve('abba', 3, [1,0,1])\n",
    "# solve('ecoosdcefr', 10, [38, 13, 24, 14, 11, 5, 3, 24, 17, 0])"
   ]
  },
  {
   "cell_type": "code",
   "execution_count": 7,
   "metadata": {},
   "outputs": [],
   "source": [
    "def main():\n",
    "    T = int(input())\n",
    "    for _ in range(T):\n",
    "        s = input()\n",
    "        l = int(input())\n",
    "        m = list(map(int, input().split(' ')))\n",
    "        print(solve(s,l,m))"
   ]
  },
  {
   "cell_type": "code",
   "execution_count": null,
   "metadata": {},
   "outputs": [],
   "source": [
    "main()"
   ]
  }
 ],
 "metadata": {
  "kernelspec": {
   "display_name": "Python 3",
   "language": "python",
   "name": "python3"
  },
  "language_info": {
   "codemirror_mode": {
    "name": "ipython",
    "version": 3
   },
   "file_extension": ".py",
   "mimetype": "text/x-python",
   "name": "python",
   "nbconvert_exporter": "python",
   "pygments_lexer": "ipython3",
   "version": "3.7.6"
  }
 },
 "nbformat": 4,
 "nbformat_minor": 4
}
