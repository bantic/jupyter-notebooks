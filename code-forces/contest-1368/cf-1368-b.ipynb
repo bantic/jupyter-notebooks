{
 "cells": [
  {
   "cell_type": "code",
   "execution_count": 12,
   "metadata": {},
   "outputs": [
    {
     "data": {
      "text/plain": [
       "'ccooddeeforces'"
      ]
     },
     "execution_count": 12,
     "metadata": {},
     "output_type": "execute_result"
    }
   ],
   "source": [
    "def mult(arr):\n",
    "    out = 1\n",
    "    for i in arr:\n",
    "        out *= i\n",
    "    return out\n",
    "\n",
    "def solve(k):\n",
    "    repeats = [1 for _ in range(len('codeforces'))]\n",
    "    next_idx = -1\n",
    "    while k > mult(repeats):\n",
    "        next_idx += 1\n",
    "        next_idx = next_idx % len('codeforces')\n",
    "        repeats[next_idx] += 1\n",
    "    repeats = [i*'codeforces'[idx] for (idx,i) in enumerate(repeats)]\n",
    "    return ''.join(repeats)"
   ]
  },
  {
   "cell_type": "code",
   "execution_count": 13,
   "metadata": {},
   "outputs": [],
   "source": [
    "def main():\n",
    "    k = int(input())\n",
    "    print(solve(k))"
   ]
  },
  {
   "cell_type": "code",
   "execution_count": 14,
   "metadata": {},
   "outputs": [
    {
     "name": "stdout",
     "output_type": "stream",
     "text": [
      "3\n",
      "ccoodeforces\n"
     ]
    }
   ],
   "source": [
    "main()"
   ]
  },
  {
   "cell_type": "code",
   "execution_count": null,
   "metadata": {},
   "outputs": [],
   "source": []
  }
 ],
 "metadata": {
  "kernelspec": {
   "display_name": "Python 3",
   "language": "python",
   "name": "python3"
  },
  "language_info": {
   "codemirror_mode": {
    "name": "ipython",
    "version": 3
   },
   "file_extension": ".py",
   "mimetype": "text/x-python",
   "name": "python",
   "nbconvert_exporter": "python",
   "pygments_lexer": "ipython3",
   "version": "3.7.6"
  }
 },
 "nbformat": 4,
 "nbformat_minor": 4
}
