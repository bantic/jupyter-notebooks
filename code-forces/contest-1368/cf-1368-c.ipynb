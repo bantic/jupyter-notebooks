{
 "cells": [
  {
   "cell_type": "code",
   "execution_count": 5,
   "metadata": {},
   "outputs": [
    {
     "name": "stdout",
     "output_type": "stream",
     "text": [
      "12\n",
      "0 1\n",
      "1 2\n",
      "3 2\n",
      "1 3\n",
      "0 2\n",
      "3 1\n",
      "2 1\n",
      "2 0\n",
      "2 3\n",
      "2 2\n",
      "1 0\n",
      "1 1\n"
     ]
    }
   ],
   "source": [
    "from math import sqrt\n",
    "\n",
    "def solve(n):\n",
    "    # 2*x*(x+1) = n for some x\n",
    "    # x**2+x-(n/2) = 0\n",
    "    # a=1,b=1,c=-n/2\n",
    "    # x = (-1 + sqrt(1-n**2/4))/2\n",
    "    k = (-1 + sqrt(1+2*n))/2\n",
    "    assert(round(k) == k)\n",
    "    k = 1\n",
    "    cur_n = 2 * k * (k+1)\n",
    "    cells = {(0, 1),\n",
    "     (0, 2),\n",
    "     (1, 0),\n",
    "     (1, 1),\n",
    "     (1, 2),\n",
    "     (1, 3),\n",
    "     (2, 0),\n",
    "     (2, 1),\n",
    "     (2, 2),\n",
    "     (2, 3),\n",
    "     (3, 1),\n",
    "     (3, 2)\n",
    "    }\n",
    "    edge = {(0, 1),\n",
    "     (0, 2),\n",
    "     (1, 0),\n",
    "     (1, 1),\n",
    "     (1, 2),\n",
    "     (1, 3),\n",
    "     (2, 0),\n",
    "     (2, 1),\n",
    "     (2, 2),\n",
    "     (2, 3),\n",
    "     (3, 1),\n",
    "     (3, 2)\n",
    "    }\n",
    "    while cur_n < n:\n",
    "        # expand edge\n",
    "        next_edge = set()\n",
    "        for (x,y) in edge:\n",
    "#             print(x,y)\n",
    "            if not ((x-1,y) in cells):\n",
    "                next_edge.add((x-1,y))\n",
    "            if not ((x+1,y) in cells):\n",
    "                next_edge.add((x+1,y))\n",
    "            if not ((x,y-1) in cells):\n",
    "                next_edge.add((x,y-1))\n",
    "            if not ((x,y+1) in cells):\n",
    "                next_edge.add((x,y+1))\n",
    "        edge = next_edge\n",
    "        # update n\n",
    "        k += 1\n",
    "        cur_n = 2 * k * (k+1)\n",
    "        # update cells\n",
    "        for (x,y) in edge:\n",
    "            cells.add((x,y))\n",
    "    assert(cur_n == n)\n",
    "#     print(k,cur_n,n)\n",
    "    print(len(cells))\n",
    "    for (x,y) in cells:\n",
    "        print(\"%d %d\" % (x,y))\n",
    "\n",
    "# solve(4)"
   ]
  },
  {
   "cell_type": "code",
   "execution_count": 6,
   "metadata": {},
   "outputs": [],
   "source": [
    "def main():\n",
    "    n = int(input())\n",
    "    solve(n)"
   ]
  },
  {
   "cell_type": "code",
   "execution_count": 8,
   "metadata": {},
   "outputs": [
    {
     "name": "stdout",
     "output_type": "stream",
     "text": [
      "12\n",
      "24\n",
      "1 3\n",
      "3 0\n",
      "2 1\n",
      "0 3\n",
      "1 -1\n",
      "2 4\n",
      "1 2\n",
      "-1 1\n",
      "3 3\n",
      "2 2\n",
      "4 1\n",
      "1 1\n",
      "3 2\n",
      "0 0\n",
      "-1 2\n",
      "2 -1\n",
      "1 4\n",
      "2 3\n",
      "4 2\n",
      "1 0\n",
      "0 1\n",
      "3 1\n",
      "2 0\n",
      "0 2\n"
     ]
    }
   ],
   "source": [
    "main()"
   ]
  },
  {
   "cell_type": "code",
   "execution_count": null,
   "metadata": {},
   "outputs": [],
   "source": []
  }
 ],
 "metadata": {
  "kernelspec": {
   "display_name": "Python 3",
   "language": "python",
   "name": "python3"
  },
  "language_info": {
   "codemirror_mode": {
    "name": "ipython",
    "version": 3
   },
   "file_extension": ".py",
   "mimetype": "text/x-python",
   "name": "python",
   "nbconvert_exporter": "python",
   "pygments_lexer": "ipython3",
   "version": "3.7.6"
  }
 },
 "nbformat": 4,
 "nbformat_minor": 4
}
