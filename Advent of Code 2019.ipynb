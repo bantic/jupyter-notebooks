{
 "cells": [
  {
   "cell_type": "code",
   "execution_count": 1,
   "metadata": {},
   "outputs": [],
   "source": [
    "data = \"\"\"\n",
    "101005\n",
    "139223\n",
    "112833\n",
    "70247\n",
    "131775\n",
    "106730\n",
    "118388\n",
    "138683\n",
    "80439\n",
    "71060\n",
    "120862\n",
    "67201\n",
    "70617\n",
    "79783\n",
    "114813\n",
    "77907\n",
    "78814\n",
    "107515\n",
    "113507\n",
    "81865\n",
    "88130\n",
    "75120\n",
    "66588\n",
    "56023\n",
    "98080\n",
    "128472\n",
    "96031\n",
    "118960\n",
    "54069\n",
    "112000\n",
    "62979\n",
    "105518\n",
    "73342\n",
    "52270\n",
    "128841\n",
    "68267\n",
    "70789\n",
    "94792\n",
    "100738\n",
    "102331\n",
    "83082\n",
    "77124\n",
    "97360\n",
    "86165\n",
    "66120\n",
    "139042\n",
    "50390\n",
    "105308\n",
    "94607\n",
    "58225\n",
    "77894\n",
    "118906\n",
    "127277\n",
    "101446\n",
    "58897\n",
    "93876\n",
    "53312\n",
    "117154\n",
    "77448\n",
    "62041\n",
    "99069\n",
    "87375\n",
    "134854\n",
    "108561\n",
    "126406\n",
    "53809\n",
    "90760\n",
    "121650\n",
    "79573\n",
    "134734\n",
    "148021\n",
    "84263\n",
    "54390\n",
    "132706\n",
    "148794\n",
    "67302\n",
    "146885\n",
    "76108\n",
    "76270\n",
    "54548\n",
    "146920\n",
    "145282\n",
    "129509\n",
    "144139\n",
    "141713\n",
    "62547\n",
    "149898\n",
    "96746\n",
    "83583\n",
    "107758\n",
    "63912\n",
    "142036\n",
    "112281\n",
    "91775\n",
    "75809\n",
    "82250\n",
    "144667\n",
    "140140\n",
    "98276\n",
    "103479\n",
    "\"\"\""
   ]
  },
  {
   "cell_type": "code",
   "execution_count": 6,
   "metadata": {},
   "outputs": [
    {
     "data": {
      "text/plain": [
       "3256794"
      ]
     },
     "execution_count": 6,
     "metadata": {},
     "output_type": "execute_result"
    }
   ],
   "source": [
    "sum([x//3-2 for x in map(int, data.strip().split('\\n'))])"
   ]
  },
  {
   "cell_type": "code",
   "execution_count": 7,
   "metadata": {},
   "outputs": [],
   "source": [
    "def neededFuel(mass):\n",
    "    if mass <= 0:\n",
    "        return 0\n",
    "    needed = mass // 3 - 2\n",
    "    if needed <= 0:\n",
    "        return 0\n",
    "    else:\n",
    "        return needed + neededFuel(needed)"
   ]
  },
  {
   "cell_type": "code",
   "execution_count": 8,
   "metadata": {},
   "outputs": [
    {
     "data": {
      "text/plain": [
       "4882337"
      ]
     },
     "execution_count": 8,
     "metadata": {},
     "output_type": "execute_result"
    }
   ],
   "source": [
    "sum([neededFuel(x) for x in map(int, data.strip().split('\\n'))])"
   ]
  },
  {
   "cell_type": "code",
   "execution_count": null,
   "metadata": {},
   "outputs": [],
   "source": []
  }
 ],
 "metadata": {
  "kernelspec": {
   "display_name": "Python 3",
   "language": "python",
   "name": "python3"
  },
  "language_info": {
   "codemirror_mode": {
    "name": "ipython",
    "version": 3
   },
   "file_extension": ".py",
   "mimetype": "text/x-python",
   "name": "python",
   "nbconvert_exporter": "python",
   "pygments_lexer": "ipython3",
   "version": "3.7.3"
  }
 },
 "nbformat": 4,
 "nbformat_minor": 2
}
