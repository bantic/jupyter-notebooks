{
 "cells": [
  {
   "cell_type": "markdown",
   "metadata": {},
   "source": [
    "# Forming a Magic Square\n",
    "[link](https://www.hackerrank.com/challenges/magic-square-forming/problem)"
   ]
  },
  {
   "cell_type": "raw",
   "metadata": {},
   "source": [
    "def validateSquare(s):\n",
    "    digits = set([d for row in s for d in row])\n",
    "    assert len(digits) == 9, \"9 unique values\"\n",
    "    assert all([d in digits for d in range(1,10)]), \"1-9 all in square\"\n",
    "    assert all([sum(row) == 15 for row in s]), \"all rows sum to 15\"\n",
    "    cols = [[s[i][j] for i in range(3)] for j in range(3)]\n",
    "    assert all([sum(col) == 15 for col in cols]), \"all cols sum to 15\"\n",
    "    diags = []\n",
    "    diags.append([ s[0][0], s[1][1], s[2][2] ])\n",
    "    diags.append([ s[2][0], s[1][1], s[0][2] ])\n",
    "    assert all([sum(diag) == 15 for diag in diags]), \"all diags sum to 15\"\n",
    "    return True\n",
    "\n",
    "def toSquare(line):\n",
    "    return [list(map(int, group)) for group in line.split(' ')]\n",
    "\n",
    "for s in squares:\n",
    "    validateSquare(s)\n",
    "\n",
    "VALID_SQUARES = list(map(toSquare, [\n",
    "  \"294 753 618\",\n",
    "  \"672 159 834\",\n",
    "  \"816 357 492\",\n",
    "  \"438 951 276\",\n",
    "  \"492 357 816\",\n",
    "  \"834 159 672\",\n",
    "  \"618 753 294\",\n",
    "  \"276 951 438\"\n",
    "]))\n",
    "VALID_SQUARES"
   ]
  },
  {
   "cell_type": "code",
   "execution_count": 118,
   "metadata": {},
   "outputs": [],
   "source": [
    "def editDistance(s1, s2):\n",
    "    # flatten\n",
    "    s1 = [d for row in s1 for d in row]\n",
    "    s2 = [d for row in s2 for d in row]\n",
    "    assert len(s1) == len(s2), \"both equal lens\"\n",
    "    return sum([abs(s1[i]-s2[i]) for i in range(len(s1))])\n",
    "\n",
    "assert editDistance(toSquare(\"294 753 618\"), toSquare(\"294 753 618\"))==0\n",
    "assert editDistance(toSquare(\"194 753 618\"), toSquare(\"294 753 618\"))==1\n",
    "assert editDistance(toSquare(\"194 751 318\"), toSquare(\"294 753 618\"))==6"
   ]
  },
  {
   "cell_type": "code",
   "execution_count": 119,
   "metadata": {},
   "outputs": [
    {
     "data": {
      "text/plain": [
       "1"
      ]
     },
     "execution_count": 119,
     "metadata": {},
     "output_type": "execute_result"
    }
   ],
   "source": [
    "min([1,2,1,2,1,3])"
   ]
  },
  {
   "cell_type": "code",
   "execution_count": null,
   "metadata": {},
   "outputs": [],
   "source": []
  }
 ],
 "metadata": {
  "kernelspec": {
   "display_name": "Python 3",
   "language": "python",
   "name": "python3"
  },
  "language_info": {
   "codemirror_mode": {
    "name": "ipython",
    "version": 3
   },
   "file_extension": ".py",
   "mimetype": "text/x-python",
   "name": "python",
   "nbconvert_exporter": "python",
   "pygments_lexer": "ipython3",
   "version": "3.7.3"
  }
 },
 "nbformat": 4,
 "nbformat_minor": 4
}
