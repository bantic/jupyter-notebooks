{
 "cells": [
  {
   "cell_type": "markdown",
   "metadata": {},
   "source": [
    "# Fill Or Bust Simulation\n",
    "\n",
    "Simulate different strategies for playing the game Fill Or Bust\n",
    "\n",
    "Directions at http://www.noppenair.at/alt/images/2005/images/img/Bust/5.pdf\n",
    "\n",
    "### Dice Rolling\n",
    "\n",
    "Each roll has potential scoring options:\n",
    "  * straight (123456) -> 1500 points\n",
    "  * 3-of-a-kind: 100 * value for 2,3,4,6. 500 for 3 5s or 1000 for 3 1s\n",
    "  * 1 or 5: 100 for each one (except for triple bonus), 50 for each 5 (except for tripe bonus)\n",
    "  * bust: no score, turn is over\n",
    "  \n",
    "`def options` (WIP) returns a list of the possible actions after a given roll in the form of:\n",
    "\n",
    "  `{'n': number of dice to remove, 'score': score of those dice}`"
   ]
  },
  {
   "cell_type": "code",
   "execution_count": 33,
   "metadata": {},
   "outputs": [],
   "source": [
    "import random\n",
    "def roll_dice(n=6):\n",
    "    return \"\".join(str(i) for i in sorted([random.randint(1,6) for _ in range(n)]))\n",
    "\n",
    "def is_straight(roll):\n",
    "    return roll == \"123456\"\n",
    "\n",
    "def triples(roll):\n",
    "    return [i for i in range(1,7) if roll.count(str(i)) == 3]\n",
    "\n",
    "assert triples(\"111223\") == [1]\n",
    "assert triples(\"1333\") == [3]\n",
    "\n",
    "    \n",
    "def triple_score(num):\n",
    "    if num == 1:\n",
    "        return 1000\n",
    "    else:\n",
    "        return num*100\n",
    "    \n",
    "def fives(roll):\n",
    "    return roll.count(\"5\")\n",
    "\n",
    "def ones(roll):\n",
    "    return roll.count(\"1\")\n",
    "\n",
    "def options(roll):\n",
    "    opts = []\n",
    "    if is_straight(roll):\n",
    "        opts.append({'n': 6, 'score': 1500})\n",
    "        \n",
    "    if fives(roll) > 0:\n",
    "        cnt = fives(roll)\n",
    "        for cnt in range(1, fives(roll)+1):\n",
    "            if cnt == 3:\n",
    "                score = 500\n",
    "            elif cnt == 6:\n",
    "                score = 1000\n",
    "            else:\n",
    "                score = 50 * cnt\n",
    "            opts.append({'n': cnt, 'score': score})\n",
    "    if ones(roll) > 0:\n",
    "        for cnt in range(1, ones(roll)+1):\n",
    "            if cnt == 3:\n",
    "                score = 1000\n",
    "            elif cnt == 6:\n",
    "                score = 2000\n",
    "            else:\n",
    "                if cnt > 3:\n",
    "                    score = 1000 + (cnt-3)*100\n",
    "                else:\n",
    "                    score = cnt * 100\n",
    "            opts.append({'n': cnt, 'score': score})\n",
    "                \n",
    "    ts = triples(roll)\n",
    "    if len(ts) == 2:\n",
    "        t1 = ts[0]\n",
    "        t2 = ts[1]\n",
    "        opts.append({'n': 6, 'score': triple_score(t1) + triple_score(t2) })\n",
    "        opts.append({'n': 3, 'score': triple_score(t1) })\n",
    "        opts.append({'n': 3, 'score': triple_score(t2) })\n",
    "    else:\n",
    "        opts.append({'n': 3, 'score': triple_score(ts[0])})\n",
    "        \n",
    "    if fives(roll) > 0:\n",
    "        for cnt in range(fives(roll)):\n",
    "            if cnt == 3 or cnt == 6:\n",
    "                pass # already covered by triples\n",
    "            \n",
    "            \n",
    "        \n",
    "assert is_scoring(\"1\")\n",
    "assert is_scoring(\"123\")\n",
    "assert is_scoring(\"2223\")\n",
    "assert is_scoring(\"2345\")\n",
    "assert is_scoring(\"123456\")\n",
    "assert not is_scoring(\"346\")\n",
    "assert not is_scoring(\"233466\")\n",
    "\n",
    "def greedy(actions):\n",
    "    pass\n",
    "\n",
    "def play_roll(n=6, strategy=greedy):\n",
    "    roll = roll_dice(n)\n",
    "    if not is_scoring(roll):\n",
    "        return None\n",
    "    \n",
    "    "
   ]
  },
  {
   "cell_type": "code",
   "execution_count": null,
   "metadata": {},
   "outputs": [],
   "source": []
  },
  {
   "cell_type": "code",
   "execution_count": 3,
   "metadata": {},
   "outputs": [
    {
     "data": {
      "text/plain": [
       "False"
      ]
     },
     "execution_count": 3,
     "metadata": {},
     "output_type": "execute_result"
    }
   ],
   "source": [
    "x = 2\n",
    "1 < x < 2"
   ]
  },
  {
   "cell_type": "code",
   "execution_count": null,
   "metadata": {},
   "outputs": [],
   "source": []
  }
 ],
 "metadata": {
  "kernelspec": {
   "display_name": "Python 3",
   "language": "python",
   "name": "python3"
  },
  "language_info": {
   "codemirror_mode": {
    "name": "ipython",
    "version": 3
   },
   "file_extension": ".py",
   "mimetype": "text/x-python",
   "name": "python",
   "nbconvert_exporter": "python",
   "pygments_lexer": "ipython3",
   "version": "3.8.5"
  }
 },
 "nbformat": 4,
 "nbformat_minor": 5
}
