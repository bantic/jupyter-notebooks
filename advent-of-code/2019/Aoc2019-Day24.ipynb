{
 "cells": [
  {
   "cell_type": "code",
   "execution_count": 22,
   "metadata": {},
   "outputs": [
    {
     "name": "stdout",
     "output_type": "stream",
     "text": [
      "The autoreload extension is already loaded. To reload it, use:\n",
      "  %reload_ext autoreload\n"
     ]
    }
   ],
   "source": [
    "# The following taken from 2021 notebook\n",
    "\n",
    "# allows editing aoc_utils \"live\" without restarting kernel\n",
    "# see https://ipython.org/ipython-doc/stable/config/extensions/autoreload.html\n",
    "# and https://stackoverflow.com/a/17551284\n",
    "%load_ext autoreload\n",
    "%autoreload 2\n",
    "\n",
    "# Add the aoc_utils path\n",
    "import os\n",
    "import sys\n",
    "module_path = os.path.abspath(os.path.join('..'))\n",
    "if module_path not in sys.path:\n",
    "    sys.path.append(module_path)\n",
    "\n",
    "import aoc_utils\n",
    "get_input = aoc_utils.get_input\n",
    "print = aoc_utils.debug_print\n",
    "\n",
    "# Useful imports\n",
    "import re\n",
    "from collections import defaultdict, deque\n",
    "import heapq\n",
    "import functools\n",
    "import queue\n",
    "import itertools\n",
    "import math\n",
    "import random\n",
    "from collections import Counter\n",
    "import statistics\n",
    "import parse\n",
    "import operator\n",
    "from functools import reduce\n",
    "\n",
    "# aliases from utils\n",
    "getnums = aoc_utils.getnums\n",
    "\n",
    "# from norvig's pytudes\n",
    "cat = ''.join"
   ]
  },
  {
   "cell_type": "code",
   "execution_count": 45,
   "metadata": {},
   "outputs": [],
   "source": [
    "def parse(data):\n",
    "  G = defaultdict(int)\n",
    "  ymax = len(data)\n",
    "  xmax = len(data[0])\n",
    "  for y,line in enumerate(data):\n",
    "    for x,c in enumerate(line):\n",
    "      G[(x,y)] = 1 if c == '#' else 0\n",
    "  return xmax,ymax,G\n",
    "\n",
    "def hash(g,xmax,ymax):\n",
    "  v = 0\n",
    "  idx = 0\n",
    "  for y in range(xmax):\n",
    "    for x in range(ymax):\n",
    "      if g[(x,y)] == 1: v += 2**idx\n",
    "      idx += 1\n",
    "  return v\n",
    "\n",
    "ex = \"\"\".....\n",
    ".....\n",
    ".....\n",
    "#....\n",
    ".#...\"\"\".split('\\n')\n",
    "\n",
    "xmax,ymax,g = parse(ex)\n",
    "assert hash(g,xmax,ymax) == 2129920"
   ]
  },
  {
   "cell_type": "code",
   "execution_count": 46,
   "metadata": {},
   "outputs": [],
   "source": [
    "def go():\n",
    "  data = get_input(24,2019)\n",
    "  xmax,ymax,G = parse(data)\n",
    "\n",
    "  def tick(g):\n",
    "    g2 = defaultdict(int)\n",
    "    for pos in itertools.product(range(xmax),range(ymax)):\n",
    "      adj = len([n for n in aoc_utils.neighbors4(pos) if g[n] == 1])\n",
    "      v = g[pos]\n",
    "      v2 = None\n",
    "      if v == 1:\n",
    "        v2 = 1 if adj == 1 else 0\n",
    "      elif v == 0:\n",
    "        v2 = 1 if adj in [1,2] else 0\n",
    "      else:\n",
    "        assert False\n",
    "      g2[pos] = v2\n",
    "    return g2\n",
    "\n",
    "  seen = set([hash(G,xmax,ymax)])\n",
    "  cnt = 0\n",
    "  while cnt < 10000:\n",
    "    cnt += 1\n",
    "    G = tick(G)\n",
    "    h = hash(G,xmax,ymax)\n",
    "    if h in seen:\n",
    "      return h\n",
    "    seen.add(h)\n",
    "\n",
    "assert go() == 25719471"
   ]
  }
 ],
 "metadata": {
  "kernelspec": {
   "display_name": "Python 3",
   "language": "python",
   "name": "python3"
  },
  "language_info": {
   "codemirror_mode": {
    "name": "ipython",
    "version": 3
   },
   "file_extension": ".py",
   "mimetype": "text/x-python",
   "name": "python",
   "nbconvert_exporter": "python",
   "pygments_lexer": "ipython3",
   "version": "3.10.0"
  }
 },
 "nbformat": 4,
 "nbformat_minor": 2
}
