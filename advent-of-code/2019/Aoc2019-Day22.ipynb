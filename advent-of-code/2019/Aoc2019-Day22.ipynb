{
 "cells": [
  {
   "cell_type": "code",
   "execution_count": 1,
   "metadata": {},
   "outputs": [],
   "source": [
    "# The following taken from 2021 notebook\n",
    "\n",
    "# allows editing aoc_utils \"live\" without restarting kernel\n",
    "# see https://ipython.org/ipython-doc/stable/config/extensions/autoreload.html\n",
    "# and https://stackoverflow.com/a/17551284\n",
    "%load_ext autoreload\n",
    "%autoreload 2\n",
    "\n",
    "# Add the aoc_utils path\n",
    "import os\n",
    "import sys\n",
    "module_path = os.path.abspath(os.path.join('..'))\n",
    "if module_path not in sys.path:\n",
    "    sys.path.append(module_path)\n",
    "\n",
    "import aoc_utils\n",
    "get_input = aoc_utils.get_input\n",
    "print = aoc_utils.debug_print\n",
    "\n",
    "# Useful imports\n",
    "import re\n",
    "from collections import defaultdict, deque\n",
    "import heapq\n",
    "import functools\n",
    "import queue\n",
    "import itertools\n",
    "import math\n",
    "import random\n",
    "from collections import Counter\n",
    "import statistics\n",
    "import parse\n",
    "import operator\n",
    "from functools import reduce\n",
    "\n",
    "# aliases from utils\n",
    "getnums = aoc_utils.getnums\n",
    "\n",
    "# from norvig's pytudes\n",
    "cat = ''.join"
   ]
  },
  {
   "cell_type": "code",
   "execution_count": 32,
   "metadata": {},
   "outputs": [],
   "source": [
    "def deal(num):\n",
    "  return lambda x,N: x*num\n",
    "\n",
    "def cut(num):\n",
    "  return lambda x,N: x + (N-num)\n",
    "\n",
    "def rev():\n",
    "  return lambda x,N: N-x-1\n",
    "\n",
    "def parse(data):\n",
    "  ops = []\n",
    "  for line in data:\n",
    "    nums = aoc_utils.getnums(line)\n",
    "    if 'deal with increment' in line:\n",
    "      ops.append(deal(nums[0]))\n",
    "    elif 'cut' in line:\n",
    "      ops.append(cut(nums[0]))\n",
    "    elif 'deal into new stack' in line:\n",
    "      ops.append(rev())\n",
    "    else:\n",
    "      assert False\n",
    "  return ops\n",
    "\n",
    "def apply_ops(ops, idx, N):\n",
    "  for op in ops:\n",
    "    idx = op(idx, N) % N\n",
    "  return idx\n",
    "\n",
    "def process(data, N):\n",
    "  ops = parse(data)\n",
    "  outmap = {}\n",
    "  for idx in range(N):\n",
    "    out_idx = apply_ops(ops, idx, N)\n",
    "    assert out_idx not in outmap\n",
    "    outmap[out_idx] = idx\n",
    "  return [outmap[idx] for idx in range(N)]\n",
    "\n",
    "ex = \"\"\"deal with increment 7\n",
    "deal into new stack\n",
    "deal into new stack\"\"\".split(\"\\n\")\n",
    "ex2 = \"\"\"cut 6\n",
    "deal with increment 7\n",
    "deal into new stack\"\"\".split(\"\\n\")\n",
    "ex3 = \"\"\"deal with increment 7\n",
    "deal with increment 9\n",
    "cut -2\"\"\".split(\"\\n\")\n",
    "assert process(ex, 10) == [0, 3, 6, 9, 2, 5, 8, 1, 4, 7]\n",
    "\n",
    "\n",
    "ex4 = \"\"\"deal into new stack\n",
    "cut -2\n",
    "deal with increment 7\n",
    "cut 8\n",
    "cut -4\n",
    "deal with increment 7\n",
    "cut 3\n",
    "deal with increment 9\n",
    "deal with increment 3\n",
    "cut -1\"\"\".split(\"\\n\")\n",
    "assert process(ex4, 10) == [9,2,5,8,1,4,7,0,3,6]\n",
    "assert process(ex2, 10) == [3,0,7,4,1,8,5,2,9,6]\n",
    "assert process(ex3, 10) == [6,3,0,7,4,1,8,5,2,9]\n"
   ]
  },
  {
   "cell_type": "code",
   "execution_count": 37,
   "metadata": {},
   "outputs": [],
   "source": [
    "def part1():\n",
    "  for idx,num in enumerate(process(get_input(22,2019), 10007)):\n",
    "    if num == 2019: return idx\n",
    "\n",
    "assert part1() == 6289"
   ]
  },
  {
   "cell_type": "code",
   "execution_count": 4,
   "metadata": {},
   "outputs": [
    {
     "data": {
      "text/plain": [
       "108506422313517"
      ]
     },
     "execution_count": 4,
     "metadata": {},
     "output_type": "execute_result"
    }
   ],
   "source": [
    "pow(2020, -1, 119315717514047)"
   ]
  },
  {
   "cell_type": "code",
   "execution_count": 6,
   "metadata": {},
   "outputs": [
    {
     "data": {
      "text/plain": [
       "1"
      ]
     },
     "execution_count": 6,
     "metadata": {},
     "output_type": "execute_result"
    }
   ],
   "source": [
    "(2020*108506422313517)%119315717514047"
   ]
  },
  {
   "cell_type": "code",
   "execution_count": null,
   "metadata": {},
   "outputs": [],
   "source": []
  }
 ],
 "metadata": {
  "kernelspec": {
   "display_name": "Python 3",
   "language": "python",
   "name": "python3"
  },
  "language_info": {
   "codemirror_mode": {
    "name": "ipython",
    "version": 3
   },
   "file_extension": ".py",
   "mimetype": "text/x-python",
   "name": "python",
   "nbconvert_exporter": "python",
   "pygments_lexer": "ipython3",
   "version": "3.10.0"
  }
 },
 "nbformat": 4,
 "nbformat_minor": 2
}
