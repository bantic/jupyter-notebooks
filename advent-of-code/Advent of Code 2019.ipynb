{
 "cells": [
  {
   "cell_type": "code",
   "execution_count": 1,
   "metadata": {},
   "outputs": [],
   "source": [
    "data = \"\"\"\n",
    "101005\n",
    "139223\n",
    "112833\n",
    "70247\n",
    "131775\n",
    "106730\n",
    "118388\n",
    "138683\n",
    "80439\n",
    "71060\n",
    "120862\n",
    "67201\n",
    "70617\n",
    "79783\n",
    "114813\n",
    "77907\n",
    "78814\n",
    "107515\n",
    "113507\n",
    "81865\n",
    "88130\n",
    "75120\n",
    "66588\n",
    "56023\n",
    "98080\n",
    "128472\n",
    "96031\n",
    "118960\n",
    "54069\n",
    "112000\n",
    "62979\n",
    "105518\n",
    "73342\n",
    "52270\n",
    "128841\n",
    "68267\n",
    "70789\n",
    "94792\n",
    "100738\n",
    "102331\n",
    "83082\n",
    "77124\n",
    "97360\n",
    "86165\n",
    "66120\n",
    "139042\n",
    "50390\n",
    "105308\n",
    "94607\n",
    "58225\n",
    "77894\n",
    "118906\n",
    "127277\n",
    "101446\n",
    "58897\n",
    "93876\n",
    "53312\n",
    "117154\n",
    "77448\n",
    "62041\n",
    "99069\n",
    "87375\n",
    "134854\n",
    "108561\n",
    "126406\n",
    "53809\n",
    "90760\n",
    "121650\n",
    "79573\n",
    "134734\n",
    "148021\n",
    "84263\n",
    "54390\n",
    "132706\n",
    "148794\n",
    "67302\n",
    "146885\n",
    "76108\n",
    "76270\n",
    "54548\n",
    "146920\n",
    "145282\n",
    "129509\n",
    "144139\n",
    "141713\n",
    "62547\n",
    "149898\n",
    "96746\n",
    "83583\n",
    "107758\n",
    "63912\n",
    "142036\n",
    "112281\n",
    "91775\n",
    "75809\n",
    "82250\n",
    "144667\n",
    "140140\n",
    "98276\n",
    "103479\n",
    "\"\"\""
   ]
  },
  {
   "cell_type": "code",
   "execution_count": 6,
   "metadata": {},
   "outputs": [
    {
     "data": {
      "text/plain": [
       "3256794"
      ]
     },
     "execution_count": 6,
     "metadata": {},
     "output_type": "execute_result"
    }
   ],
   "source": [
    "sum([x//3-2 for x in map(int, data.strip().split('\\n'))])"
   ]
  },
  {
   "cell_type": "code",
   "execution_count": 7,
   "metadata": {},
   "outputs": [],
   "source": [
    "def neededFuel(mass):\n",
    "    if mass <= 0:\n",
    "        return 0\n",
    "    needed = mass // 3 - 2\n",
    "    if needed <= 0:\n",
    "        return 0\n",
    "    else:\n",
    "        return needed + neededFuel(needed)"
   ]
  },
  {
   "cell_type": "code",
   "execution_count": 8,
   "metadata": {},
   "outputs": [
    {
     "data": {
      "text/plain": [
       "4882337"
      ]
     },
     "execution_count": 8,
     "metadata": {},
     "output_type": "execute_result"
    }
   ],
   "source": [
    "sum([neededFuel(x) for x in map(int, data.strip().split('\\n'))])"
   ]
  },
  {
   "cell_type": "markdown",
   "metadata": {},
   "source": [
    "# [Day 2](https://adventofcode.com/2019/day/2)\n"
   ]
  },
  {
   "cell_type": "code",
   "execution_count": 12,
   "metadata": {},
   "outputs": [],
   "source": [
    "text = \"1,0,0,3,1,1,2,3,1,3,4,3,1,5,0,3,2,1,6,19,1,9,19,23,1,6,23,27,1,10,27,31,1,5,31,35,2,6,35,39,1,5,39,43,1,5,43,47,2,47,6,51,1,51,5,55,1,13,55,59,2,9,59,63,1,5,63,67,2,67,9,71,1,5,71,75,2,10,75,79,1,6,79,83,1,13,83,87,1,10,87,91,1,91,5,95,2,95,10,99,2,9,99,103,1,103,6,107,1,107,10,111,2,111,10,115,1,115,6,119,2,119,9,123,1,123,6,127,2,127,10,131,1,131,6,135,2,6,135,139,1,139,5,143,1,9,143,147,1,13,147,151,1,2,151,155,1,10,155,0,99,2,14,0,0\""
   ]
  },
  {
   "cell_type": "code",
   "execution_count": 29,
   "metadata": {
    "scrolled": true
   },
   "outputs": [
    {
     "name": "stdout",
     "output_type": "stream",
     "text": [
      "6087827 5379\n"
     ]
    }
   ],
   "source": [
    "class Day2:\n",
    "    def solve(self, text, noun=12, verb=2):\n",
    "        ip = 0\n",
    "        done = False\n",
    "        data = list(map(int, text.split(\",\")))\n",
    "        \n",
    "        # prepare data\n",
    "        data[1] = noun\n",
    "        data[2] = verb\n",
    "        \n",
    "        while not done:\n",
    "            op = data[ip]\n",
    "            if op == 1 or op == 2:\n",
    "                dest = data[ip+3]\n",
    "                operands = [data[data[ip+1]], data[data[ip+2]]]\n",
    "                value = None\n",
    "                if op == 1:\n",
    "                    value = operands[0]+operands[1]\n",
    "                else:\n",
    "                    value = operands[0]*operands[1]\n",
    "                data[dest] = value\n",
    "                ip += 4\n",
    "            elif op == 99:\n",
    "                done = True\n",
    "            else:\n",
    "                raise \"Unknown opcode {}\".format(op)\n",
    "\n",
    "        return data[0]\n",
    "    def solveB(self, text):\n",
    "        target = 19690720\n",
    "        for noun in range(100):\n",
    "            for verb in range(100):\n",
    "                try:\n",
    "                    result = self.solve(text, noun, verb)\n",
    "                    if result == target:\n",
    "                        return noun*100+verb\n",
    "                except:\n",
    "                    next\n",
    "            \n",
    "        \n",
    "print(Day2().solve(text), Day2().solveB(text))"
   ]
  },
  {
   "cell_type": "markdown",
   "metadata": {},
   "source": [
    "# [Day 3](https://adventofcode.com/2019/day/3)"
   ]
  },
  {
   "cell_type": "code",
   "execution_count": 1,
   "metadata": {},
   "outputs": [],
   "source": [
    "text = \"\"\"R1001,D915,R511,D336,L647,D844,R97,D579,L336,U536,L645,D448,R915,D473,L742,D470,R230,D558,R214,D463,L374,D450,R68,U625,L937,D135,L860,U406,L526,U555,R842,D988,R819,U995,R585,U218,L516,D756,L438,U921,R144,D62,R238,U144,R286,U934,L682,U13,L287,D588,L880,U630,L882,D892,R559,D696,L329,D872,L946,U219,R593,U536,R402,U946,L866,U690,L341,U729,R84,U997,L579,D609,R407,D846,R225,U953,R590,U79,R590,U725,L890,D384,L442,D364,R600,D114,R39,D962,R413,U698,R762,U520,L180,D557,R35,U902,L476,U95,R830,U858,L312,U879,L85,U620,R505,U248,L341,U81,L323,U296,L53,U532,R963,D30,L380,D60,L590,U699,R967,U88,L725,D730,R706,D337,L248,D46,R131,U541,L313,U508,R120,D719,R28,U342,R555,U780,R397,D523,L619,D820,R865,D4,L790,D544,L873,D249,L220,U343,R818,U803,R309,D576,R811,D717,L800,D171,R523,U630,L854,U265,R207,U147,R518,U237,R822,D672,L140,U580,R408,D739,L519,U759,R664,D61,R258,D313,R472,U437,R975,U828,L54,D892,L370,U509,L80,U593,L268,U856,L177,U950,L266,U29,R493,D228,L110,U390,L92,U8,L288,U732,R459,D422,R287,D359,R915,U295,R959,U215,R82,D357,L970,D782,L653,U399,L50,D720,R788,D396,L562,D560,R798,D196,R79,D732,R332,D957,L106,D199,R756,U379,R716,U282,R812,U346,R592,D416,L454,U612,L160,U884,R373,U306,R55,D492,R175,D233,L249,D616,L342,D650,L181,U868,L761,D170,L976,U711,R377,D113,L548,U39,R62,D99,R853,U249,L951,U617,R257,U457,R430,D355,L541,U595,L176,D987,R365,D77,L181,D192,L688,D942,R617,U484,R247,U180,R771,D392,R184,U597,L682,U454,R856,U616,R174,U629,L607,U41,L970,D602,R402,D208,R826\n",
    "L994,U238,R605,U233,L509,U81,R907,U880,R666,D86,R6,U249,R345,D492,L912,U770,L827,D107,R988,D525,L471,U706,R31,U485,R835,D778,R419,D461,L937,D740,R559,U309,L379,U385,R828,D698,R276,U914,L911,U969,R282,D365,L43,D911,R256,D592,L451,U162,L829,D564,R349,U279,R19,D110,R259,D551,L172,D899,L924,D819,R532,U737,L794,U995,R168,D359,R847,U426,R224,U984,L929,D531,L797,U292,L332,D280,R317,D648,R776,D52,R916,U363,R919,U890,R583,U961,L89,D680,L894,D226,L83,U68,R551,U413,R259,D468,L702,U453,L128,U986,R238,U805,R431,U546,R944,D142,R677,D783,R336,D220,R40,U391,R5,D760,L963,D764,R653,U932,R473,U311,L189,D883,R216,U391,L634,U275,L691,U975,R130,D543,L163,U736,R964,U729,R752,D531,R90,D471,R687,D341,R441,U562,R570,U278,R570,U177,L232,U781,L874,U258,R180,D28,R916,D395,R96,U954,L222,U578,L394,U775,L851,D18,L681,D912,L761,U945,L866,D12,R420,D168,R490,U679,R521,D91,L782,U583,L823,U656,L365,D517,R319,U725,L824,D531,L747,U822,R893,D162,L11,D913,L295,D65,L393,D351,L432,U828,L131,D384,R311,U381,L26,D635,L180,D395,L576,D836,R548,D820,L219,U749,L64,D2,L992,U104,L501,U247,R693,D862,R16,U346,R332,U618,R387,U4,L206,U943,R734,D164,R771,U17,L511,D475,L75,U965,R116,D627,R243,D77,R765,D831,L51,U879,R207,D500,R289,U749,R206,D850,R832,U407,L985,U514,R290,U617,L697,U812,L633,U936,R214,D447,R509,D585,R787,D500,R305,D598,R866,U781,L771,D350,R558,U669,R284,D686,L231,U574,L539,D337,L135,D751,R315,D344,L694,D947,R118,U377,R50,U181,L96,U904,L776,D268,L283,U233,L757,U536,L161,D881,R724,D572,R322\"\"\""
   ]
  },
  {
   "cell_type": "code",
   "execution_count": 2,
   "metadata": {},
   "outputs": [],
   "source": [
    "def toInstruction(text):\n",
    "    return (text[0], int(text[1:]))\n",
    "\n",
    "def toWire(text):\n",
    "    return map(toInstruction, text.split(\",\"))\n",
    "\n",
    "class Day3:\n",
    "    def solveA(self, text):\n",
    "        wireA = toWire(text.split('\\n')[0])\n",
    "        wireB = toWire(text.split('\\n')[1])\n",
    "        grid = {}\n",
    "        curPoint = (0,0) # lower-left\n",
    "        for (d, dist) in wireA:\n",
    "            (curX, curY) = curPoint\n",
    "            (nextX, nextY) = (curX, curY)\n",
    "            if d == 'U':\n",
    "                nextY += dist\n",
    "            elif d == 'D':\n",
    "                nextY -= dist\n",
    "            elif d == 'R':\n",
    "                nextX += dist\n",
    "            elif d == 'L':\n",
    "                nextX -= dist\n",
    "            for x in range(curX, nextX+1):\n",
    "                grid[(x,nextY)] = True\n",
    "            for y in range(curY, nextY+1):\n",
    "                grid[(nextX,y)] = True\n",
    "        #for (d, dist) in wireB:\n",
    "    \n",
    "Day3().solveA(\"\"\"R8,U5,L5,D3\n",
    "U7,R6,D4,L4\"\"\")"
   ]
  },
  {
   "cell_type": "code",
   "execution_count": null,
   "metadata": {},
   "outputs": [],
   "source": []
  }
 ],
 "metadata": {
  "kernelspec": {
   "display_name": "Python 3",
   "language": "python",
   "name": "python3"
  },
  "language_info": {
   "codemirror_mode": {
    "name": "ipython",
    "version": 3
   },
   "file_extension": ".py",
   "mimetype": "text/x-python",
   "name": "python",
   "nbconvert_exporter": "python",
   "pygments_lexer": "ipython3",
   "version": "3.7.3"
  }
 },
 "nbformat": 4,
 "nbformat_minor": 2
}
