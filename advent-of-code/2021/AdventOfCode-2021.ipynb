{
 "cells": [
  {
   "cell_type": "code",
   "execution_count": 1,
   "metadata": {},
   "outputs": [],
   "source": [
    "# allows editing aoc_utils \"live\" without restarting kernel\n",
    "# see https://ipython.org/ipython-doc/stable/config/extensions/autoreload.html\n",
    "# and https://stackoverflow.com/a/17551284\n",
    "%load_ext autoreload\n",
    "%autoreload 2\n",
    "\n",
    "# Add the aoc_utils path\n",
    "import os\n",
    "import sys\n",
    "module_path = os.path.abspath(os.path.join('..'))\n",
    "if module_path not in sys.path:\n",
    "    sys.path.append(module_path)\n",
    "\n",
    "import aoc_utils\n",
    "get_input = aoc_utils.get_input\n",
    "print = aoc_utils.debug_print\n",
    "\n",
    "timer = aoc_utils.start_timer()"
   ]
  },
  {
   "cell_type": "code",
   "execution_count": 2,
   "metadata": {},
   "outputs": [],
   "source": [
    "# Useful imports\n",
    "import re\n",
    "from collections import defaultdict, deque\n",
    "import heapq\n",
    "import functools\n",
    "import queue\n",
    "import itertools\n",
    "import math\n",
    "import random"
   ]
  },
  {
   "cell_type": "code",
   "execution_count": 21,
   "metadata": {},
   "outputs": [],
   "source": [
    "def Day1(data=get_input(1, 2021)):\n",
    "  nums = list(map(int, data))\n",
    "  def p1():\n",
    "    return len([i for i in range(1, len(nums)) if nums[i] > nums[i-1]])\n",
    "  def p2():\n",
    "    sums = [sum(nums[i:i+3]) for i in range(len(nums) - 2)]\n",
    "    return len([i for i in range(1, len(sums)) if sums[i] > sums[i-1]])\n",
    "  return p1(),p2()\n",
    "\n",
    "assert Day1() == (1548, 1589)"
   ]
  }
 ],
 "metadata": {
  "kernelspec": {
   "display_name": "Python 3",
   "language": "python",
   "name": "python3"
  },
  "language_info": {
   "codemirror_mode": {
    "name": "ipython",
    "version": 3
   },
   "file_extension": ".py",
   "mimetype": "text/x-python",
   "name": "python",
   "nbconvert_exporter": "python",
   "pygments_lexer": "ipython3",
   "version": "3.9.8"
  }
 },
 "nbformat": 4,
 "nbformat_minor": 4
}
