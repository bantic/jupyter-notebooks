{
 "cells": [
  {
   "cell_type": "code",
   "execution_count": 48,
   "metadata": {},
   "outputs": [
    {
     "name": "stdout",
     "output_type": "stream",
     "text": [
      "The autoreload extension is already loaded. To reload it, use:\n",
      "  %reload_ext autoreload\n"
     ]
    }
   ],
   "source": [
    "# allows editing aoc_utils \"live\" without restarting kernel\n",
    "# see https://ipython.org/ipython-doc/stable/config/extensions/autoreload.html\n",
    "# and https://stackoverflow.com/a/17551284\n",
    "%load_ext autoreload\n",
    "%autoreload 2\n",
    "\n",
    "# Add the aoc_utils path\n",
    "import os\n",
    "import sys\n",
    "module_path = os.path.abspath(os.path.join('..'))\n",
    "if module_path not in sys.path:\n",
    "    sys.path.append(module_path)\n",
    "\n",
    "import aoc_utils\n",
    "get_input = aoc_utils.get_input\n",
    "print = aoc_utils.debug_print\n",
    "\n",
    "timer = aoc_utils.start_timer()"
   ]
  },
  {
   "cell_type": "code",
   "execution_count": 49,
   "metadata": {},
   "outputs": [],
   "source": [
    "# Useful imports\n",
    "import re\n",
    "from collections import defaultdict, deque\n",
    "import heapq\n",
    "import functools\n",
    "import queue\n",
    "import itertools\n",
    "import math\n",
    "import random"
   ]
  },
  {
   "cell_type": "code",
   "execution_count": 50,
   "metadata": {},
   "outputs": [],
   "source": [
    "# aliases from utils\n",
    "getnums = aoc_utils.getnums"
   ]
  },
  {
   "cell_type": "code",
   "execution_count": 51,
   "metadata": {},
   "outputs": [],
   "source": [
    "def Day1(data=get_input(1, 2021)):\n",
    "  nums = list(map(int, data))\n",
    "  def p1():\n",
    "    return len([i for i in range(1, len(nums)) if nums[i] > nums[i-1]])\n",
    "  def p2():\n",
    "    sums = [sum(nums[i:i+3]) for i in range(len(nums) - 2)]\n",
    "    return len([i for i in range(1, len(sums)) if sums[i] > sums[i-1]])\n",
    "    \n",
    "  return p1(),p2()\n",
    "\n",
    "assert Day1() == (1548, 1589)"
   ]
  },
  {
   "cell_type": "code",
   "execution_count": 52,
   "metadata": {},
   "outputs": [],
   "source": [
    "def Day2(data=get_input(2,2021)):\n",
    "  def p1():\n",
    "    h,d=0,0\n",
    "    for line in data:\n",
    "      n = getnums(line)[0]\n",
    "      if 'forward' in line:\n",
    "        h += n\n",
    "      elif 'down' in line:\n",
    "        d += n\n",
    "      else:\n",
    "        d -= n\n",
    "    return d * h\n",
    "  def p2():\n",
    "    h,d,aim=0,0,0\n",
    "    for line in data:\n",
    "      n = getnums(line)[0]\n",
    "      if 'forward' in line:\n",
    "        h += n\n",
    "        d += aim * n\n",
    "      elif 'down' in line:\n",
    "        aim += n\n",
    "      else:\n",
    "        aim -= n\n",
    "    return d * h\n",
    "  return p1(),p2()\n",
    "\n",
    "assert Day2() == (1694130, 1698850445),Day2()"
   ]
  },
  {
   "cell_type": "code",
   "execution_count": 106,
   "metadata": {},
   "outputs": [],
   "source": [
    "from collections import Counter\n",
    "\n",
    "def Day3(data = get_input(3,2021)):\n",
    "  b2d = aoc_utils.bin_to_decimal\n",
    "\n",
    "  def p1():\n",
    "    cnts = [Counter() for _ in range(12)]\n",
    "    for line in data:\n",
    "      for idx,c in enumerate(line):\n",
    "        cnts[idx].update(c)\n",
    "    a = b2d(''.join([cnt.most_common()[0][0] for cnt in cnts]))\n",
    "    b = b2d(''.join([cnt.most_common()[-1][0] for cnt in cnts]))\n",
    "    return a*b\n",
    "\n",
    "  def p2():\n",
    "    def winnow(arr, most_com=True):\n",
    "      for idx in range(len(arr[0])):\n",
    "        cnt = Counter()\n",
    "        for l in arr:\n",
    "          cnt.update(l[idx])\n",
    "        v = None\n",
    "        if most_com:\n",
    "          v = '0' if cnt['0'] > cnt['1'] else '1'\n",
    "        else:\n",
    "          v = '1' if cnt['1'] < cnt['0'] else '0'\n",
    "        arr = [l for l in arr if l[idx] == v]\n",
    "        if len(arr) == 1:\n",
    "          return arr[0]\n",
    "\n",
    "    O = winnow(data, most_com=True)\n",
    "    C  = winnow(data, most_com=False)\n",
    "    return b2d(O)*b2d(C)\n",
    "  return p1(),p2()\n",
    "\n",
    "assert Day3() == (1540244, 4203981)"
   ]
  },
  {
   "cell_type": "code",
   "execution_count": 107,
   "metadata": {},
   "outputs": [],
   "source": [
    "def Day4(data=get_input(4,2021)):\n",
    "  nums = getnums(data[0])\n",
    "  boards = list(aoc_utils.split_list(data[2:]))\n",
    "  grids = []\n",
    "  for board in boards:\n",
    "    grid = {}\n",
    "    for y,line in enumerate(board):\n",
    "      for x,num in enumerate(getnums(line)):\n",
    "        grid[(x,y)] = num\n",
    "    grids.append(grid)\n",
    "\n",
    "  def boardsum(g, seen):\n",
    "    unmarked = []\n",
    "    for x in range(5):\n",
    "      for y in range(5):\n",
    "        n = g[(x,y)]\n",
    "        if n not in seen:\n",
    "          unmarked.append(n)\n",
    "    return sum(unmarked)\n",
    "\n",
    "  def winner(grid, seen):\n",
    "    for x in range(5):\n",
    "      if all(grid[(x,y)] in seen for y in range(5)):\n",
    "        return True\n",
    "    for y in range(5):\n",
    "      if all(grid[(x,y)] in seen for x in range(5)):\n",
    "        return True\n",
    "    return False\n",
    "\n",
    "  def p1():\n",
    "    seen = set()\n",
    "    for n in nums:\n",
    "      seen.add(n)\n",
    "      for g in grids:\n",
    "        if winner(g, seen):\n",
    "          return boardsum(g,seen)*n\n",
    "  def p2():\n",
    "    seen = set()\n",
    "    winners = []\n",
    "    remaining = grids\n",
    "    for n in nums:\n",
    "      seen.add(n)\n",
    "      for g in remaining:\n",
    "        if winner(g, seen):\n",
    "          winners.append(g)\n",
    "        if len(winners) == len(grids):\n",
    "          return boardsum(g,seen)*n\n",
    "      remaining = [_g for _g in remaining if _g not in winners]\n",
    "  return p1(),p2()\n",
    "assert Day4() == (71708, 34726)"
   ]
  },
  {
   "cell_type": "markdown",
   "metadata": {},
   "source": []
  }
 ],
 "metadata": {
  "kernelspec": {
   "display_name": "Python 3",
   "language": "python",
   "name": "python3"
  },
  "language_info": {
   "codemirror_mode": {
    "name": "ipython",
    "version": 3
   },
   "file_extension": ".py",
   "mimetype": "text/x-python",
   "name": "python",
   "nbconvert_exporter": "python",
   "pygments_lexer": "ipython3",
   "version": "3.10.0"
  }
 },
 "nbformat": 4,
 "nbformat_minor": 4
}
