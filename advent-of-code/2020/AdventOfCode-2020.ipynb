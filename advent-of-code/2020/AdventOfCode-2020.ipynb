{
 "cells": [
  {
   "cell_type": "code",
   "execution_count": 4,
   "metadata": {},
   "outputs": [],
   "source": [
    "import subprocess"
   ]
  },
  {
   "cell_type": "code",
   "execution_count": 50,
   "metadata": {},
   "outputs": [],
   "source": [
    "import os\n",
    "import subprocess\n",
    "\n",
    "def get_input(dayNum):\n",
    "    data_file = f\"./data/day-{dayNum}.input\"\n",
    "    if not os.path.exists(data_file):\n",
    "        download_input(dayNum) \n",
    "    return [line.strip() for line in open(data_file).readlines()]\n",
    "\n",
    "def download_input(dayNum):\n",
    "    SESSION_COOKIE = open('./session_cookie.secret').readlines()[0].strip()\n",
    "    url = f\"https://adventofcode.com/2020/day/{dayNum}/input\"\n",
    "    cmd = f\"curl -H 'Cookie: session={SESSION_COOKIE}' {url} > ./data/day-{dayNum}.input\"\n",
    "    subprocess.run(cmd, capture_output=True, shell=True)"
   ]
  }
 ],
 "metadata": {
  "kernelspec": {
   "display_name": "Python 3",
   "language": "python",
   "name": "python3"
  },
  "language_info": {
   "codemirror_mode": {
    "name": "ipython",
    "version": 3
   },
   "file_extension": ".py",
   "mimetype": "text/x-python",
   "name": "python",
   "nbconvert_exporter": "python",
   "pygments_lexer": "ipython3",
   "version": "3.8.5"
  }
 },
 "nbformat": 4,
 "nbformat_minor": 4
}
