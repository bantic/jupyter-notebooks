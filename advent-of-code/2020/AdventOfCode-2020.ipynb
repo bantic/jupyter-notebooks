{
 "cells": [
  {
   "cell_type": "code",
   "execution_count": 1,
   "metadata": {},
   "outputs": [],
   "source": [
    "import subprocess"
   ]
  },
  {
   "cell_type": "code",
   "execution_count": 2,
   "metadata": {},
   "outputs": [],
   "source": [
    "import os\n",
    "import subprocess\n",
    "\n",
    "def get_input(dayNum):\n",
    "    data_file = f\"./data/day-{dayNum}.input\"\n",
    "    if not os.path.exists(data_file):\n",
    "        download_input(dayNum) \n",
    "    return [line.strip() for line in open(data_file).readlines()]\n",
    "\n",
    "def download_input(dayNum):\n",
    "    SESSION_COOKIE = open('./session_cookie.secret').readlines()[0].strip()\n",
    "    url = f\"https://adventofcode.com/2020/day/{dayNum}/input\"\n",
    "    cmd = f\"curl -H 'Cookie: session={SESSION_COOKIE}' {url} > ./data/day-{dayNum}.input\"\n",
    "    subprocess.run(cmd, capture_output=True, shell=True)"
   ]
  },
  {
   "cell_type": "code",
   "execution_count": 3,
   "metadata": {},
   "outputs": [],
   "source": [
    "data = get_input(4)"
   ]
  },
  {
   "cell_type": "code",
   "execution_count": 43,
   "metadata": {},
   "outputs": [
    {
     "data": {
      "text/plain": [
       "190"
      ]
     },
     "execution_count": 43,
     "metadata": {},
     "output_type": "execute_result"
    }
   ],
   "source": [
    "def day4():\n",
    "    passports = []\n",
    "    lines = get_input(4)\n",
    "    cur_passport = {}\n",
    "    for line in lines:\n",
    "        if line == \"\":\n",
    "            if cur_passport:\n",
    "                passports.append(cur_passport)\n",
    "            cur_passport = {}\n",
    "        field_pairs = line.split()\n",
    "        for pair in field_pairs:\n",
    "            [key,val] = pair.split(':')\n",
    "            cur_passport[key] = val\n",
    "    passports.append(cur_passport)\n",
    "\n",
    "\n",
    "    def valid(passport):\n",
    "        required_fields = ['byr', 'iyr', 'eyr', 'hgt', 'hcl', 'ecl', 'pid']\n",
    "        return all([key in passport for key in required_fields])\n",
    "\n",
    "    return len([p for p in passports if valid(p)])\n",
    "\n",
    "day4()"
   ]
  },
  {
   "cell_type": "code",
   "execution_count": 73,
   "metadata": {},
   "outputs": [
    {
     "data": {
      "text/plain": [
       "121"
      ]
     },
     "execution_count": 73,
     "metadata": {},
     "output_type": "execute_result"
    }
   ],
   "source": [
    "import re\n",
    "def day4part2():\n",
    "    passports = []\n",
    "    lines = get_input(4)\n",
    "    cur_passport = {}\n",
    "    for line in lines:\n",
    "        if line == \"\":\n",
    "            if cur_passport:\n",
    "                passports.append(cur_passport)\n",
    "            cur_passport = {}\n",
    "        field_pairs = line.split()\n",
    "        for pair in field_pairs:\n",
    "            [key,val] = pair.split(':')\n",
    "            cur_passport[key] = val\n",
    "    passports.append(cur_passport)\n",
    "\n",
    "\n",
    "    def valid(passport):\n",
    "        required_fields = ['byr', 'iyr', 'eyr', 'hgt', 'hcl', 'ecl', 'pid']\n",
    "        if not all([key in passport for key in required_fields]):\n",
    "            return False\n",
    "        def validate_height(x):\n",
    "            match = re.match(\"(\\d+)(cm|in)\", x)\n",
    "            if match is None:\n",
    "                return False\n",
    "            [hgt,unit] = match.groups()\n",
    "            hgt = int(hgt)\n",
    "            if unit == 'cm':\n",
    "                return hgt >= 150 and hgt <= 193\n",
    "            elif unit == 'in':\n",
    "                return hgt >= 59 and hgt <= 76\n",
    "            else:\n",
    "                raise f\"Unexpected value for hgt {hgt} unit {unit}\"\n",
    "        validations = {\n",
    "            'byr': lambda x: int(x) >= 1920 and int(x) <= 2002,\n",
    "            'iyr': lambda x: int(x) >= 2010 and int(x) <= 2020,\n",
    "            'eyr': lambda x: int(x) >= 2020 and int(x) <= 2030,\n",
    "            'hgt': validate_height,\n",
    "            'hcl': lambda x: re.match(\"^#[0-9a-f]{6}$\",x) is not None,\n",
    "            'ecl': lambda x: x in 'amb blu brn gry grn hzl oth'.split(' '),\n",
    "            'pid': lambda x: re.match(\"^[0-9]{9}$\",x) is not None,\n",
    "        }\n",
    "        for field in passport:\n",
    "            if field in validations:\n",
    "                if not validations[field](passport[field]):\n",
    "                    return False\n",
    "        return True\n",
    "\n",
    "    return len([p for p in passports if valid(p)])\n",
    "day4part2()"
   ]
  }
 ],
 "metadata": {
  "kernelspec": {
   "display_name": "Python 3",
   "language": "python",
   "name": "python3"
  },
  "language_info": {
   "codemirror_mode": {
    "name": "ipython",
    "version": 3
   },
   "file_extension": ".py",
   "mimetype": "text/x-python",
   "name": "python",
   "nbconvert_exporter": "python",
   "pygments_lexer": "ipython3",
   "version": "3.8.5"
  }
 },
 "nbformat": 4,
 "nbformat_minor": 4
}
