{
 "cells": [
  {
   "cell_type": "code",
   "execution_count": 2,
   "metadata": {},
   "outputs": [],
   "source": [
    "# allows editing aoc_utils \"live\" without restarting kernel\n",
    "# see https://ipython.org/ipython-doc/stable/config/extensions/autoreload.html\n",
    "# and https://stackoverflow.com/a/17551284\n",
    "%load_ext autoreload\n",
    "%autoreload 2\n",
    "\n",
    "# Add the aoc_utils path\n",
    "import os\n",
    "import sys\n",
    "module_path = os.path.abspath(os.path.join('..'))\n",
    "if module_path not in sys.path:\n",
    "    sys.path.append(module_path)\n",
    "\n",
    "import aoc_utils\n",
    "get_input = aoc_utils.get_input\n",
    "print = aoc_utils.debug_print\n",
    "\n",
    "timer = aoc_utils.start_timer()"
   ]
  },
  {
   "cell_type": "code",
   "execution_count": 3,
   "metadata": {},
   "outputs": [],
   "source": [
    "# Useful imports\n",
    "import re\n",
    "from collections import defaultdict, deque\n",
    "import heapq\n",
    "import functools\n",
    "import queue\n",
    "import itertools\n",
    "import math\n"
   ]
  },
  {
   "cell_type": "code",
   "execution_count": 4,
   "metadata": {},
   "outputs": [
    {
     "name": "stdout",
     "output_type": "stream",
     "text": [
      "p1 280, p2 1797\n"
     ]
    }
   ],
   "source": [
    "data = aoc_utils.get_input(1, 2015)[0]\n",
    "level = 0\n",
    "p2 = None\n",
    "for idx,c in enumerate(data):\n",
    "  if c == '(':\n",
    "    level += 1\n",
    "  elif c == ')':\n",
    "    level -= 1\n",
    "  if level == -1 and p2 is None:\n",
    "    p2 = idx + 1\n",
    "p1 = level\n",
    "print(f\"p1 {p1}, p2 {p2}\")"
   ]
  },
  {
   "cell_type": "code",
   "execution_count": 92,
   "metadata": {},
   "outputs": [
    {
     "data": {
      "text/plain": [
       "(1586300, 3737498)"
      ]
     },
     "execution_count": 92,
     "metadata": {},
     "output_type": "execute_result"
    }
   ],
   "source": [
    "data = aoc_utils.get_input(2, 2015)\n",
    "print = aoc_utils.debug_print\n",
    "print = aoc_utils.noop\n",
    "p1 = 0\n",
    "p2 = 0\n",
    "for line in data:\n",
    "  l,w,h = aoc_utils.mapints(line)\n",
    "  sides = [l*w, l*h, h*w]\n",
    "  faces = [2*x for x in [l,w,h]]\n",
    "  areas = [2*side for side in sides]\n",
    "  area = sum(areas)\n",
    "  vol = l*w*h\n",
    "  p1 += area + min(sides)\n",
    "  print(vol, faces, sorted(faces)[:2])\n",
    "  p2 += vol + sum(sorted(faces)[:2])\n",
    "p1,p2\n"
   ]
  },
  {
   "cell_type": "code",
   "execution_count": 93,
   "metadata": {},
   "outputs": [
    {
     "data": {
      "text/plain": [
       "(2572, 2631)"
      ]
     },
     "execution_count": 93,
     "metadata": {},
     "output_type": "execute_result"
    }
   ],
   "source": [
    "data = aoc_utils.get_input(3,2015)\n",
    "G = defaultdict(lambda:0)\n",
    "G2 = defaultdict(lambda:0)\n",
    "G3 = defaultdict(lambda:0)\n",
    "deltas = {\n",
    "  '>': (1,0),\n",
    "  '<': (-1,0),\n",
    "  '^': (0,1),\n",
    "  'v': (0,-1)\n",
    "}\n",
    "pos = (0,0)\n",
    "G[pos] += 1\n",
    "g2pos = (0,0)\n",
    "g3pos = (0,0)\n",
    "G2[g2pos] += 1\n",
    "G2[g3pos] += 1\n",
    "for line in data:\n",
    "  for idx,ch in enumerate(line):\n",
    "    delta = deltas[ch]\n",
    "    pos = (pos[0] + delta[0], pos[1]+delta[1])\n",
    "    G[pos] += 1\n",
    "    if idx % 2 == 0:\n",
    "      g2pos = (g2pos[0] + delta[0], g2pos[1]+delta[1])\n",
    "      G2[g2pos] += 1\n",
    "    else:\n",
    "      g3pos = (g3pos[0] + delta[0], g3pos[1]+delta[1])\n",
    "      G2[g3pos] += 1\n",
    "p1 = len(G.keys())\n",
    "p2 = len(G2.keys())\n",
    "p1,p2\n",
    "\n"
   ]
  },
  {
   "cell_type": "code",
   "execution_count": 94,
   "metadata": {},
   "outputs": [
    {
     "data": {
      "text/plain": [
       "(282749, 9962624)"
      ]
     },
     "execution_count": 94,
     "metadata": {},
     "output_type": "execute_result"
    }
   ],
   "source": [
    "data = aoc_utils.get_input(4, 2015)[0]\n",
    "def check_num(prefix,num,len=5):\n",
    "  return aoc_utils.md5(f\"{prefix}{num}\").startswith('0'*len)\n",
    "p1 = 0\n",
    "p2 = 0\n",
    "while not check_num(data,p1):\n",
    "  p1 += 1\n",
    "while not check_num(data,p2,len=6):\n",
    "  p2 += 1\n",
    "p1,p2\n"
   ]
  },
  {
   "cell_type": "code",
   "execution_count": 95,
   "metadata": {},
   "outputs": [
    {
     "data": {
      "text/plain": [
       "(236, 51)"
      ]
     },
     "execution_count": 95,
     "metadata": {},
     "output_type": "execute_result"
    }
   ],
   "source": [
    "from itertools import pairwise\n",
    "\n",
    "\n",
    "print = aoc_utils.noop\n",
    "\n",
    "data = aoc_utils.get_input(5,2015)\n",
    "p1 = 0\n",
    "p2 = 0\n",
    "vowels = 'aeiou'\n",
    "avoid = ['ab', 'cd', 'pq', 'xy']\n",
    "def triplewise(iterable):\n",
    "  for (a,b), (_,c) in pairwise(pairwise(iterable)):\n",
    "    yield (a,b,c)\n",
    "for line in data:\n",
    "  vowel_count = len([ch for ch in line if ch in vowels])\n",
    "  has_dupe = any(line[i] == line[i+1] for i in range(len(line)-1))\n",
    "  has_avoid = any(x in line for x in avoid)\n",
    "  if vowel_count >= 3 and has_dupe and not has_avoid:\n",
    "    p1 += 1\n",
    "\n",
    "  has_dupe_2 = any(line[idx:idx+2] in line[idx+2:] for idx in range(len(line)-2))\n",
    "  has_trio = any(a==c for (a,b,c) in triplewise(line))\n",
    "  if has_dupe_2 and has_trio:\n",
    "    print(line)\n",
    "    p2 += 1\n",
    "  \n",
    "\n",
    "p1,p2"
   ]
  },
  {
   "cell_type": "code",
   "execution_count": 101,
   "metadata": {},
   "outputs": [
    {
     "data": {
      "text/plain": [
       "(569999, 17836115)"
      ]
     },
     "execution_count": 101,
     "metadata": {},
     "output_type": "execute_result"
    }
   ],
   "source": [
    "from aoc_utils import mapints\n",
    "\n",
    "\n",
    "data = aoc_utils.get_input(6, 2015)\n",
    "\n",
    "G = defaultdict(int)\n",
    "G2 = defaultdict(int)\n",
    "ON = lambda x:1\n",
    "OFF = lambda x:0\n",
    "TOGGLE = lambda x:1-x\n",
    "ON2 = lambda x:x+1\n",
    "OFF2 = lambda x:max(x-1,0)\n",
    "TOGGLE2 = lambda x:x+2 \n",
    "for line in data:\n",
    "  inst = ON if 'on' in line else OFF if 'off' in line else TOGGLE\n",
    "  inst2 = ON2 if 'on' in line else OFF2 if 'off' in line else TOGGLE2\n",
    "  x1,y1,x2,y2 = mapints(line)\n",
    "  assert(x1 <= x2 and y1 <= y2)\n",
    "  for x in range(x1,x2+1):\n",
    "    for y in range(y1,y2+1):\n",
    "      G[(x,y)] = inst(G[(x,y)])\n",
    "      G2[(x,y)] = inst2(G2[(x,y)])\n",
    "p1 = sum(G.values())\n",
    "p2 = sum(G2.values())\n",
    "p1,p2\n"
   ]
  },
  {
   "cell_type": "code",
   "execution_count": 7,
   "metadata": {},
   "outputs": [
    {
     "data": {
      "text/plain": [
       "(16076, 2797)"
      ]
     },
     "execution_count": 7,
     "metadata": {},
     "output_type": "execute_result"
    }
   ],
   "source": [
    "print = aoc_utils.debug_print\n",
    "print = aoc_utils.noop\n",
    "data = aoc_utils.get_input(7,2015)\n",
    "data\n",
    "G = {}\n",
    "\n",
    "def isint(s):\n",
    "  try:\n",
    "    int(s)\n",
    "    return True\n",
    "  except ValueError:\n",
    "    return False\n",
    "def tryint(s):\n",
    "  try:\n",
    "    return int(s)\n",
    "  except ValueError:\n",
    "    return s\n",
    "\n",
    "op_fns = {\n",
    "  'AND': lambda x,y: x&y,\n",
    "  'RSHIFT': lambda x,y: x >> y,\n",
    "  'LSHIFT': lambda x,y: x << y,\n",
    "  'OR': lambda x,y: x | y\n",
    "}\n",
    "\n",
    "def myeval(expr, G):\n",
    "  print(expr)\n",
    "  if isinstance(expr, int):\n",
    "    return expr\n",
    "  elif isinstance(expr, str):\n",
    "    assert expr in G\n",
    "    retval = myeval(G[expr], G)\n",
    "    G[expr] = retval\n",
    "    return retval\n",
    "  else:\n",
    "    op, *operands = expr\n",
    "    if op is None:\n",
    "      assert len(operands) == 1\n",
    "      return myeval(operands[0], G)\n",
    "    elif op == \"NOT\":\n",
    "      assert len(operands) == 1\n",
    "      return ~myeval(operands[0], G)\n",
    "    else:\n",
    "      assert(op in ['AND','RSHIFT','OR','LSHIFT'])\n",
    "      assert(len(operands) == 2)\n",
    "      fn = op_fns[op]\n",
    "      lhs,rhs = operands\n",
    "      return myeval( fn(myeval(lhs, G), myeval(rhs, G)), G )\n",
    "\n",
    "for line in data:\n",
    "  _in,wire = line.split(' -> ')\n",
    "  assert(not isint(wire))\n",
    "  if any([op in _in for op in ['AND','RSHIFT','OR', 'LSHIFT']]):\n",
    "    lhs,op,rhs = _in.split(' ')\n",
    "    G[wire] = (op, tryint(lhs),tryint(rhs))\n",
    "  elif 'NOT' in _in:\n",
    "    op, rhs = _in.split(' ')\n",
    "    assert(op == \"NOT\")\n",
    "    G[wire] = (op, tryint(rhs))\n",
    "  else:\n",
    "    G[wire] = (None, tryint(_in))\n",
    "\n",
    "p1 = myeval('a', G)\n",
    "\n",
    "G = {}\n",
    "\n",
    "for line in data:\n",
    "  _in,wire = line.split(' -> ')\n",
    "  assert(not isint(wire))\n",
    "  if any([op in _in for op in ['AND','RSHIFT','OR', 'LSHIFT']]):\n",
    "    lhs,op,rhs = _in.split(' ')\n",
    "    G[wire] = (op, tryint(lhs),tryint(rhs))\n",
    "  elif 'NOT' in _in:\n",
    "    op, rhs = _in.split(' ')\n",
    "    assert(op == \"NOT\")\n",
    "    G[wire] = (op, tryint(rhs))\n",
    "  else:\n",
    "    G[wire] = (None, tryint(_in))\n",
    "\n",
    "G['b'] = p1\n",
    "p2 = myeval('a', G)\n",
    "p1,p2\n"
   ]
  },
  {
   "cell_type": "code",
   "execution_count": 60,
   "metadata": {},
   "outputs": [
    {
     "data": {
      "text/plain": [
       "(1371, 2117)"
      ]
     },
     "execution_count": 60,
     "metadata": {},
     "output_type": "execute_result"
    }
   ],
   "source": [
    "print = aoc_utils.debug_print\n",
    "data = aoc_utils.get_input(8,2015)\n",
    "def calc_str_len(s):\n",
    "  l = 0\n",
    "  idx = 0\n",
    "  while idx < len(s):\n",
    "    b = s[idx]\n",
    "    if chr(b) == \"\\\\\":\n",
    "      idx += 1\n",
    "      next_b = s[idx]\n",
    "      if chr(next_b) == \"\\\\\": # \\\\ -> \\\n",
    "        idx += 1\n",
    "        l += 1\n",
    "      elif chr(next_b) == '\"': # \\\" -> \"\n",
    "        idx += 1\n",
    "        l += 1\n",
    "      elif chr(next_b) == \"x\": # \\xab -> 1\n",
    "        idx += 3\n",
    "        l += 1\n",
    "      else:\n",
    "        print(b,next_b,idx,s)\n",
    "        assert False\n",
    "    else:\n",
    "      idx += 1\n",
    "      l += 1\n",
    "\n",
    "  return l\n",
    "\n",
    "def expand_s(s):\n",
    "  return 2 + sum(expand_b(b) for b in s.encode())\n",
    "\n",
    "def expand_b(b):\n",
    "  if chr(b) == \"\\\"\":\n",
    "    return 2\n",
    "  elif chr(b) == \"\\\\\":\n",
    "    return 2\n",
    "  else:\n",
    "    return 1\n",
    "\n",
    "\n",
    "len_mem = 0\n",
    "len_str = 0\n",
    "for line in data:\n",
    "  len_mem += len(line)\n",
    "  len_str += calc_str_len( line[1:-1].encode() )\n",
    "\n",
    "p1 = len_mem-len_str\n",
    "p1\n",
    "\n",
    "len_mem = 0\n",
    "len_mem_expanded = 0\n",
    "for line in data:\n",
    "  len_mem += len(line)\n",
    "  len_mem_expanded += expand_s(line)\n",
    "\n",
    "p2 = len_mem_expanded-len_mem\n",
    "\n",
    "p1,p2\n"
   ]
  },
  {
   "cell_type": "code",
   "execution_count": 70,
   "metadata": {},
   "outputs": [
    {
     "data": {
      "text/plain": [
       "(207, 804)"
      ]
     },
     "execution_count": 70,
     "metadata": {},
     "output_type": "execute_result"
    }
   ],
   "source": [
    "data = aoc_utils.get_input(9, 2015)\n",
    "data\n",
    "\n",
    "G = defaultdict(lambda: {})\n",
    "for line in data:\n",
    "  lhs,rhs = line.split(' to ')\n",
    "  rhs,d = rhs.split(' = ')\n",
    "  d = int(d)\n",
    "  G[lhs][rhs] = d\n",
    "  G[rhs][lhs] = d\n",
    "\n",
    "def dist_tour(tour, G):\n",
    "  return sum(G[a][b] for a,b in itertools.pairwise(tour))\n",
    "\n",
    "cities = list(set(G.keys()))\n",
    "p1 = min([dist_tour(tour, G) for tour in itertools.permutations(cities, len(cities))])\n",
    "p2 = max([dist_tour(tour, G) for tour in itertools.permutations(cities, len(cities))])\n",
    "p1,p2"
   ]
  },
  {
   "cell_type": "code",
   "execution_count": 83,
   "metadata": {},
   "outputs": [
    {
     "data": {
      "text/plain": [
       "(329356, 4666278)"
      ]
     },
     "execution_count": 83,
     "metadata": {},
     "output_type": "execute_result"
    }
   ],
   "source": [
    "x = \"1121\"\n",
    "\n",
    "def make_groups(x):\n",
    "  groups = []\n",
    "  group = (1, x[0])\n",
    "  idx = 1\n",
    "  while idx < len(x):\n",
    "    if x[idx] == group[1]:\n",
    "      group = (group[0] + 1, group[1])\n",
    "    else:\n",
    "      groups.append(group)\n",
    "      group = (1, x[idx])\n",
    "    idx += 1\n",
    "  groups.append(group)\n",
    "  return groups\n",
    "\n",
    "def expand(s):\n",
    "  groups = make_groups(s)\n",
    "  return \"\".join(f\"{group[0]}{group[1]}\" for group in groups)\n",
    "\n",
    "expand(\"111221\")\n",
    "\n",
    "data = aoc_utils.get_input(10, 2015)[0]\n",
    "\n",
    "for idx in range(50):\n",
    "  data = expand(data)\n",
    "  if idx == 39:\n",
    "    p1 = len(data)\n",
    "\n",
    "p2 = len(data)\n",
    "p1,p2\n",
    "\n"
   ]
  },
  {
   "cell_type": "code",
   "execution_count": 129,
   "metadata": {},
   "outputs": [
    {
     "data": {
      "text/plain": [
       "('vzbxxyzz', 'vzcaabcc')"
      ]
     },
     "execution_count": 129,
     "metadata": {},
     "output_type": "execute_result"
    }
   ],
   "source": [
    "data = aoc_utils.get_input(11, 2015)[0]\n",
    "\n",
    "import string\n",
    "INVALID_CHARS = ['i','o','l']\n",
    "INVALID_NUMS = [string.ascii_lowercase.find(c) for c in INVALID_CHARS]\n",
    "\n",
    "def inc_enc_at(p, idx):\n",
    "  max_v = len(string.ascii_lowercase) - 1\n",
    "  if p[idx] == max_v:\n",
    "    return inc_enc_at(p, idx - 1)\n",
    "  return p[:idx] + [p[idx] + 1] + [0] * (len(p) - idx - 1)\n",
    "\n",
    "def inc_enc(p):\n",
    "  try:\n",
    "    bad_idx = next(idx for idx,v in enumerate(p) if v in INVALID_NUMS)\n",
    "    return inc_enc_at(p, bad_idx)\n",
    "  except StopIteration:\n",
    "    return inc_enc_at(p, len(p) - 1)\n",
    "\n",
    "import itertools\n",
    "pairwise = itertools.pairwise\n",
    "\n",
    "def triplewise(iter):\n",
    "  import itertools\n",
    "  pairwise = itertools.pairwise\n",
    "  for (a,_),(b,c) in pairwise(pairwise(iter)):\n",
    "    yield (a,b,c)\n",
    "\n",
    "def is_valid_enc(p):\n",
    "  has_invalid_num = any(n in p for n in INVALID_NUMS)\n",
    "  if has_invalid_num: return False\n",
    "  has_3 = any( a + 1 == b and b + 1 == c for (a,b,c) in triplewise(p))\n",
    "  if not has_3: return False\n",
    "  has_2 = len(set((a,b) for (a,b) in pairwise(p) if a == b)) > 1\n",
    "  return has_2 and has_3 and not has_invalid_num\n",
    "\n",
    "\n",
    "def encode_pass(p):\n",
    "  import string\n",
    "  return [string.ascii_lowercase.index(c) for c in p]\n",
    "\n",
    "def decode_pass(p):\n",
    "  import string\n",
    "  return ''.join([string.ascii_lowercase[idx] for idx in p])\n",
    "\n",
    "assert decode_pass(encode_pass(data)) == data\n",
    "assert is_valid_enc(encode_pass('abcdffaa'))\n",
    "assert is_valid_enc(encode_pass('ghjaabcc'))\n",
    "assert not is_valid_enc(encode_pass('hijklmmn'))\n",
    "assert not is_valid_enc(encode_pass('abbceffg'))\n",
    "assert not is_valid_enc(encode_pass('abbcegjk'))\n",
    "\n",
    "p1 = None\n",
    "p  = encode_pass(data)\n",
    "for _ in itertools.count():\n",
    "  if is_valid_enc(p):\n",
    "    p1 = decode_pass(p)\n",
    "    break\n",
    "  p = inc_enc(p)\n",
    "\n",
    "p = inc_enc(p)\n",
    "for _ in itertools.count():\n",
    "  if is_valid_enc(p):\n",
    "    p2 = decode_pass(p)\n",
    "    break\n",
    "  p = inc_enc(p)\n",
    "\n",
    "p1,p2\n",
    "\n"
   ]
  },
  {
   "cell_type": "code",
   "execution_count": 140,
   "metadata": {},
   "outputs": [
    {
     "data": {
      "text/plain": [
       "(119433, 68466)"
      ]
     },
     "execution_count": 140,
     "metadata": {},
     "output_type": "execute_result"
    }
   ],
   "source": [
    "data = aoc_utils.get_input(12, 2015)[0]\n",
    "\n",
    "p1 = sum(aoc_utils.mapints(data))\n",
    "p1\n",
    "\n",
    "def sum_list(arr):\n",
    "  return sum(sum_item(i) for i in arr)\n",
    "\n",
    "def sum_dict(obj):\n",
    "  if any(v == \"red\" for v in obj.values()): return 0\n",
    "  return sum(sum_item(v) for v in obj.values())\n",
    "\n",
    "def sum_item(i):\n",
    "  if isinstance(i, list):\n",
    "    return sum_list(i)\n",
    "  elif isinstance(i, dict):\n",
    "    return sum_dict(i)\n",
    "  elif isinstance(i, int):\n",
    "    return i\n",
    "  elif isinstance(i, str):\n",
    "    return 0\n",
    "  else:\n",
    "    print(i)\n",
    "    assert False\n",
    "\n",
    "import json\n",
    "p2 = sum_item(json.loads(data))\n",
    "\n",
    "p1,p2"
   ]
  },
  {
   "cell_type": "code",
   "execution_count": null,
   "metadata": {},
   "outputs": [],
   "source": []
  }
 ],
 "metadata": {
  "kernelspec": {
   "display_name": "Python 3.10.6 64-bit",
   "language": "python",
   "name": "python3"
  },
  "language_info": {
   "codemirror_mode": {
    "name": "ipython",
    "version": 3
   },
   "file_extension": ".py",
   "mimetype": "text/x-python",
   "name": "python",
   "nbconvert_exporter": "python",
   "pygments_lexer": "ipython3",
   "version": "3.10.6"
  },
  "orig_nbformat": 4,
  "vscode": {
   "interpreter": {
    "hash": "b0fa6594d8f4cbf19f97940f81e996739fb7646882a419484c72d19e05852a7e"
   }
  }
 },
 "nbformat": 4,
 "nbformat_minor": 2
}
