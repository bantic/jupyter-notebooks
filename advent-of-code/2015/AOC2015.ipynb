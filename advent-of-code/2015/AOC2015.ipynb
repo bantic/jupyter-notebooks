{
 "cells": [
  {
   "cell_type": "code",
   "execution_count": 2,
   "metadata": {},
   "outputs": [],
   "source": [
    "# allows editing aoc_utils \"live\" without restarting kernel\n",
    "# see https://ipython.org/ipython-doc/stable/config/extensions/autoreload.html\n",
    "# and https://stackoverflow.com/a/17551284\n",
    "%load_ext autoreload\n",
    "%autoreload 2\n",
    "\n",
    "# Add the aoc_utils path\n",
    "import os\n",
    "import sys\n",
    "module_path = os.path.abspath(os.path.join('..'))\n",
    "if module_path not in sys.path:\n",
    "    sys.path.append(module_path)\n",
    "\n",
    "import aoc_utils\n",
    "get_input = aoc_utils.get_input\n",
    "print = aoc_utils.debug_print\n",
    "\n",
    "timer = aoc_utils.start_timer()"
   ]
  },
  {
   "cell_type": "code",
   "execution_count": 3,
   "metadata": {},
   "outputs": [],
   "source": [
    "# Useful imports\n",
    "import re\n",
    "from collections import defaultdict, deque\n",
    "import heapq\n",
    "import functools\n",
    "import queue\n",
    "import itertools\n",
    "import math\n"
   ]
  },
  {
   "cell_type": "code",
   "execution_count": 4,
   "metadata": {},
   "outputs": [
    {
     "name": "stdout",
     "output_type": "stream",
     "text": [
      "p1 280, p2 1797\n"
     ]
    }
   ],
   "source": [
    "data = aoc_utils.get_input(1, 2015)[0]\n",
    "level = 0\n",
    "p2 = None\n",
    "for idx,c in enumerate(data):\n",
    "  if c == '(':\n",
    "    level += 1\n",
    "  elif c == ')':\n",
    "    level -= 1\n",
    "  if level == -1 and p2 is None:\n",
    "    p2 = idx + 1\n",
    "p1 = level\n",
    "print(f\"p1 {p1}, p2 {p2}\")"
   ]
  },
  {
   "cell_type": "code",
   "execution_count": 5,
   "metadata": {},
   "outputs": [
    {
     "data": {
      "text/plain": [
       "(1586300, 3737498)"
      ]
     },
     "execution_count": 5,
     "metadata": {},
     "output_type": "execute_result"
    }
   ],
   "source": [
    "data = aoc_utils.get_input(2, 2015)\n",
    "print = aoc_utils.debug_print\n",
    "print = aoc_utils.noop\n",
    "p1 = 0\n",
    "p2 = 0\n",
    "for line in data:\n",
    "  l,w,h = aoc_utils.mapints(line)\n",
    "  sides = [l*w, l*h, h*w]\n",
    "  faces = [2*x for x in [l,w,h]]\n",
    "  areas = [2*side for side in sides]\n",
    "  area = sum(areas)\n",
    "  vol = l*w*h\n",
    "  p1 += area + min(sides)\n",
    "  print(vol, faces, sorted(faces)[:2])\n",
    "  p2 += vol + sum(sorted(faces)[:2])\n",
    "p1,p2\n"
   ]
  },
  {
   "cell_type": "code",
   "execution_count": 6,
   "metadata": {},
   "outputs": [
    {
     "data": {
      "text/plain": [
       "(2572, 2631)"
      ]
     },
     "execution_count": 6,
     "metadata": {},
     "output_type": "execute_result"
    }
   ],
   "source": [
    "data = aoc_utils.get_input(3,2015)\n",
    "G = defaultdict(lambda:0)\n",
    "G2 = defaultdict(lambda:0)\n",
    "G3 = defaultdict(lambda:0)\n",
    "deltas = {\n",
    "  '>': (1,0),\n",
    "  '<': (-1,0),\n",
    "  '^': (0,1),\n",
    "  'v': (0,-1)\n",
    "}\n",
    "pos = (0,0)\n",
    "G[pos] += 1\n",
    "g2pos = (0,0)\n",
    "g3pos = (0,0)\n",
    "G2[g2pos] += 1\n",
    "G2[g3pos] += 1\n",
    "for line in data:\n",
    "  for idx,ch in enumerate(line):\n",
    "    delta = deltas[ch]\n",
    "    pos = (pos[0] + delta[0], pos[1]+delta[1])\n",
    "    G[pos] += 1\n",
    "    if idx % 2 == 0:\n",
    "      g2pos = (g2pos[0] + delta[0], g2pos[1]+delta[1])\n",
    "      G2[g2pos] += 1\n",
    "    else:\n",
    "      g3pos = (g3pos[0] + delta[0], g3pos[1]+delta[1])\n",
    "      G2[g3pos] += 1\n",
    "p1 = len(G.keys())\n",
    "p2 = len(G2.keys())\n",
    "p1,p2\n",
    "\n"
   ]
  },
  {
   "cell_type": "code",
   "execution_count": 94,
   "metadata": {},
   "outputs": [
    {
     "data": {
      "text/plain": [
       "(282749, 9962624)"
      ]
     },
     "execution_count": 94,
     "metadata": {},
     "output_type": "execute_result"
    }
   ],
   "source": [
    "data = aoc_utils.get_input(4, 2015)[0]\n",
    "def check_num(prefix,num,len=5):\n",
    "  return aoc_utils.md5(f\"{prefix}{num}\").startswith('0'*len)\n",
    "p1 = 0\n",
    "p2 = 0\n",
    "while not check_num(data,p1):\n",
    "  p1 += 1\n",
    "while not check_num(data,p2,len=6):\n",
    "  p2 += 1\n",
    "p1,p2\n"
   ]
  },
  {
   "cell_type": "code",
   "execution_count": 95,
   "metadata": {},
   "outputs": [
    {
     "data": {
      "text/plain": [
       "(236, 51)"
      ]
     },
     "execution_count": 95,
     "metadata": {},
     "output_type": "execute_result"
    }
   ],
   "source": [
    "from itertools import pairwise\n",
    "\n",
    "\n",
    "print = aoc_utils.noop\n",
    "\n",
    "data = aoc_utils.get_input(5,2015)\n",
    "p1 = 0\n",
    "p2 = 0\n",
    "vowels = 'aeiou'\n",
    "avoid = ['ab', 'cd', 'pq', 'xy']\n",
    "def triplewise(iterable):\n",
    "  for (a,b), (_,c) in pairwise(pairwise(iterable)):\n",
    "    yield (a,b,c)\n",
    "for line in data:\n",
    "  vowel_count = len([ch for ch in line if ch in vowels])\n",
    "  has_dupe = any(line[i] == line[i+1] for i in range(len(line)-1))\n",
    "  has_avoid = any(x in line for x in avoid)\n",
    "  if vowel_count >= 3 and has_dupe and not has_avoid:\n",
    "    p1 += 1\n",
    "\n",
    "  has_dupe_2 = any(line[idx:idx+2] in line[idx+2:] for idx in range(len(line)-2))\n",
    "  has_trio = any(a==c for (a,b,c) in triplewise(line))\n",
    "  if has_dupe_2 and has_trio:\n",
    "    print(line)\n",
    "    p2 += 1\n",
    "  \n",
    "\n",
    "p1,p2"
   ]
  },
  {
   "cell_type": "code",
   "execution_count": 101,
   "metadata": {},
   "outputs": [
    {
     "data": {
      "text/plain": [
       "(569999, 17836115)"
      ]
     },
     "execution_count": 101,
     "metadata": {},
     "output_type": "execute_result"
    }
   ],
   "source": [
    "from aoc_utils import mapints\n",
    "\n",
    "\n",
    "data = aoc_utils.get_input(6, 2015)\n",
    "\n",
    "G = defaultdict(int)\n",
    "G2 = defaultdict(int)\n",
    "ON = lambda x:1\n",
    "OFF = lambda x:0\n",
    "TOGGLE = lambda x:1-x\n",
    "ON2 = lambda x:x+1\n",
    "OFF2 = lambda x:max(x-1,0)\n",
    "TOGGLE2 = lambda x:x+2 \n",
    "for line in data:\n",
    "  inst = ON if 'on' in line else OFF if 'off' in line else TOGGLE\n",
    "  inst2 = ON2 if 'on' in line else OFF2 if 'off' in line else TOGGLE2\n",
    "  x1,y1,x2,y2 = mapints(line)\n",
    "  assert(x1 <= x2 and y1 <= y2)\n",
    "  for x in range(x1,x2+1):\n",
    "    for y in range(y1,y2+1):\n",
    "      G[(x,y)] = inst(G[(x,y)])\n",
    "      G2[(x,y)] = inst2(G2[(x,y)])\n",
    "p1 = sum(G.values())\n",
    "p2 = sum(G2.values())\n",
    "p1,p2\n"
   ]
  },
  {
   "cell_type": "code",
   "execution_count": 7,
   "metadata": {},
   "outputs": [
    {
     "data": {
      "text/plain": [
       "(16076, 2797)"
      ]
     },
     "execution_count": 7,
     "metadata": {},
     "output_type": "execute_result"
    }
   ],
   "source": [
    "print = aoc_utils.debug_print\n",
    "print = aoc_utils.noop\n",
    "data = aoc_utils.get_input(7,2015)\n",
    "data\n",
    "G = {}\n",
    "\n",
    "def isint(s):\n",
    "  try:\n",
    "    int(s)\n",
    "    return True\n",
    "  except ValueError:\n",
    "    return False\n",
    "def tryint(s):\n",
    "  try:\n",
    "    return int(s)\n",
    "  except ValueError:\n",
    "    return s\n",
    "\n",
    "op_fns = {\n",
    "  'AND': lambda x,y: x&y,\n",
    "  'RSHIFT': lambda x,y: x >> y,\n",
    "  'LSHIFT': lambda x,y: x << y,\n",
    "  'OR': lambda x,y: x | y\n",
    "}\n",
    "\n",
    "def myeval(expr, G):\n",
    "  print(expr)\n",
    "  if isinstance(expr, int):\n",
    "    return expr\n",
    "  elif isinstance(expr, str):\n",
    "    assert expr in G\n",
    "    retval = myeval(G[expr], G)\n",
    "    G[expr] = retval\n",
    "    return retval\n",
    "  else:\n",
    "    op, *operands = expr\n",
    "    if op is None:\n",
    "      assert len(operands) == 1\n",
    "      return myeval(operands[0], G)\n",
    "    elif op == \"NOT\":\n",
    "      assert len(operands) == 1\n",
    "      return ~myeval(operands[0], G)\n",
    "    else:\n",
    "      assert(op in ['AND','RSHIFT','OR','LSHIFT'])\n",
    "      assert(len(operands) == 2)\n",
    "      fn = op_fns[op]\n",
    "      lhs,rhs = operands\n",
    "      return myeval( fn(myeval(lhs, G), myeval(rhs, G)), G )\n",
    "\n",
    "for line in data:\n",
    "  _in,wire = line.split(' -> ')\n",
    "  assert(not isint(wire))\n",
    "  if any([op in _in for op in ['AND','RSHIFT','OR', 'LSHIFT']]):\n",
    "    lhs,op,rhs = _in.split(' ')\n",
    "    G[wire] = (op, tryint(lhs),tryint(rhs))\n",
    "  elif 'NOT' in _in:\n",
    "    op, rhs = _in.split(' ')\n",
    "    assert(op == \"NOT\")\n",
    "    G[wire] = (op, tryint(rhs))\n",
    "  else:\n",
    "    G[wire] = (None, tryint(_in))\n",
    "\n",
    "p1 = myeval('a', G)\n",
    "\n",
    "G = {}\n",
    "\n",
    "for line in data:\n",
    "  _in,wire = line.split(' -> ')\n",
    "  assert(not isint(wire))\n",
    "  if any([op in _in for op in ['AND','RSHIFT','OR', 'LSHIFT']]):\n",
    "    lhs,op,rhs = _in.split(' ')\n",
    "    G[wire] = (op, tryint(lhs),tryint(rhs))\n",
    "  elif 'NOT' in _in:\n",
    "    op, rhs = _in.split(' ')\n",
    "    assert(op == \"NOT\")\n",
    "    G[wire] = (op, tryint(rhs))\n",
    "  else:\n",
    "    G[wire] = (None, tryint(_in))\n",
    "\n",
    "G['b'] = p1\n",
    "p2 = myeval('a', G)\n",
    "p1,p2\n"
   ]
  },
  {
   "cell_type": "code",
   "execution_count": 60,
   "metadata": {},
   "outputs": [
    {
     "data": {
      "text/plain": [
       "(1371, 2117)"
      ]
     },
     "execution_count": 60,
     "metadata": {},
     "output_type": "execute_result"
    }
   ],
   "source": [
    "print = aoc_utils.debug_print\n",
    "data = aoc_utils.get_input(8,2015)\n",
    "def calc_str_len(s):\n",
    "  l = 0\n",
    "  idx = 0\n",
    "  while idx < len(s):\n",
    "    b = s[idx]\n",
    "    if chr(b) == \"\\\\\":\n",
    "      idx += 1\n",
    "      next_b = s[idx]\n",
    "      if chr(next_b) == \"\\\\\": # \\\\ -> \\\n",
    "        idx += 1\n",
    "        l += 1\n",
    "      elif chr(next_b) == '\"': # \\\" -> \"\n",
    "        idx += 1\n",
    "        l += 1\n",
    "      elif chr(next_b) == \"x\": # \\xab -> 1\n",
    "        idx += 3\n",
    "        l += 1\n",
    "      else:\n",
    "        print(b,next_b,idx,s)\n",
    "        assert False\n",
    "    else:\n",
    "      idx += 1\n",
    "      l += 1\n",
    "\n",
    "  return l\n",
    "\n",
    "def expand_s(s):\n",
    "  return 2 + sum(expand_b(b) for b in s.encode())\n",
    "\n",
    "def expand_b(b):\n",
    "  if chr(b) == \"\\\"\":\n",
    "    return 2\n",
    "  elif chr(b) == \"\\\\\":\n",
    "    return 2\n",
    "  else:\n",
    "    return 1\n",
    "\n",
    "\n",
    "len_mem = 0\n",
    "len_str = 0\n",
    "for line in data:\n",
    "  len_mem += len(line)\n",
    "  len_str += calc_str_len( line[1:-1].encode() )\n",
    "\n",
    "p1 = len_mem-len_str\n",
    "p1\n",
    "\n",
    "len_mem = 0\n",
    "len_mem_expanded = 0\n",
    "for line in data:\n",
    "  len_mem += len(line)\n",
    "  len_mem_expanded += expand_s(line)\n",
    "\n",
    "p2 = len_mem_expanded-len_mem\n",
    "\n",
    "p1,p2\n"
   ]
  },
  {
   "cell_type": "code",
   "execution_count": 70,
   "metadata": {},
   "outputs": [
    {
     "data": {
      "text/plain": [
       "(207, 804)"
      ]
     },
     "execution_count": 70,
     "metadata": {},
     "output_type": "execute_result"
    }
   ],
   "source": [
    "data = aoc_utils.get_input(9, 2015)\n",
    "data\n",
    "\n",
    "G = defaultdict(lambda: {})\n",
    "for line in data:\n",
    "  lhs,rhs = line.split(' to ')\n",
    "  rhs,d = rhs.split(' = ')\n",
    "  d = int(d)\n",
    "  G[lhs][rhs] = d\n",
    "  G[rhs][lhs] = d\n",
    "\n",
    "def dist_tour(tour, G):\n",
    "  return sum(G[a][b] for a,b in itertools.pairwise(tour))\n",
    "\n",
    "cities = list(set(G.keys()))\n",
    "p1 = min([dist_tour(tour, G) for tour in itertools.permutations(cities, len(cities))])\n",
    "p2 = max([dist_tour(tour, G) for tour in itertools.permutations(cities, len(cities))])\n",
    "p1,p2"
   ]
  },
  {
   "cell_type": "code",
   "execution_count": 83,
   "metadata": {},
   "outputs": [
    {
     "data": {
      "text/plain": [
       "(329356, 4666278)"
      ]
     },
     "execution_count": 83,
     "metadata": {},
     "output_type": "execute_result"
    }
   ],
   "source": [
    "x = \"1121\"\n",
    "\n",
    "def make_groups(x):\n",
    "  groups = []\n",
    "  group = (1, x[0])\n",
    "  idx = 1\n",
    "  while idx < len(x):\n",
    "    if x[idx] == group[1]:\n",
    "      group = (group[0] + 1, group[1])\n",
    "    else:\n",
    "      groups.append(group)\n",
    "      group = (1, x[idx])\n",
    "    idx += 1\n",
    "  groups.append(group)\n",
    "  return groups\n",
    "\n",
    "def expand(s):\n",
    "  groups = make_groups(s)\n",
    "  return \"\".join(f\"{group[0]}{group[1]}\" for group in groups)\n",
    "\n",
    "expand(\"111221\")\n",
    "\n",
    "data = aoc_utils.get_input(10, 2015)[0]\n",
    "\n",
    "for idx in range(50):\n",
    "  data = expand(data)\n",
    "  if idx == 39:\n",
    "    p1 = len(data)\n",
    "\n",
    "p2 = len(data)\n",
    "p1,p2\n",
    "\n"
   ]
  },
  {
   "cell_type": "code",
   "execution_count": 129,
   "metadata": {},
   "outputs": [
    {
     "data": {
      "text/plain": [
       "('vzbxxyzz', 'vzcaabcc')"
      ]
     },
     "execution_count": 129,
     "metadata": {},
     "output_type": "execute_result"
    }
   ],
   "source": [
    "data = aoc_utils.get_input(11, 2015)[0]\n",
    "\n",
    "import string\n",
    "INVALID_CHARS = ['i','o','l']\n",
    "INVALID_NUMS = [string.ascii_lowercase.find(c) for c in INVALID_CHARS]\n",
    "\n",
    "def inc_enc_at(p, idx):\n",
    "  max_v = len(string.ascii_lowercase) - 1\n",
    "  if p[idx] == max_v:\n",
    "    return inc_enc_at(p, idx - 1)\n",
    "  return p[:idx] + [p[idx] + 1] + [0] * (len(p) - idx - 1)\n",
    "\n",
    "def inc_enc(p):\n",
    "  try:\n",
    "    bad_idx = next(idx for idx,v in enumerate(p) if v in INVALID_NUMS)\n",
    "    return inc_enc_at(p, bad_idx)\n",
    "  except StopIteration:\n",
    "    return inc_enc_at(p, len(p) - 1)\n",
    "\n",
    "import itertools\n",
    "pairwise = itertools.pairwise\n",
    "\n",
    "def triplewise(iter):\n",
    "  import itertools\n",
    "  pairwise = itertools.pairwise\n",
    "  for (a,_),(b,c) in pairwise(pairwise(iter)):\n",
    "    yield (a,b,c)\n",
    "\n",
    "def is_valid_enc(p):\n",
    "  has_invalid_num = any(n in p for n in INVALID_NUMS)\n",
    "  if has_invalid_num: return False\n",
    "  has_3 = any( a + 1 == b and b + 1 == c for (a,b,c) in triplewise(p))\n",
    "  if not has_3: return False\n",
    "  has_2 = len(set((a,b) for (a,b) in pairwise(p) if a == b)) > 1\n",
    "  return has_2 and has_3 and not has_invalid_num\n",
    "\n",
    "\n",
    "def encode_pass(p):\n",
    "  import string\n",
    "  return [string.ascii_lowercase.index(c) for c in p]\n",
    "\n",
    "def decode_pass(p):\n",
    "  import string\n",
    "  return ''.join([string.ascii_lowercase[idx] for idx in p])\n",
    "\n",
    "assert decode_pass(encode_pass(data)) == data\n",
    "assert is_valid_enc(encode_pass('abcdffaa'))\n",
    "assert is_valid_enc(encode_pass('ghjaabcc'))\n",
    "assert not is_valid_enc(encode_pass('hijklmmn'))\n",
    "assert not is_valid_enc(encode_pass('abbceffg'))\n",
    "assert not is_valid_enc(encode_pass('abbcegjk'))\n",
    "\n",
    "p1 = None\n",
    "p  = encode_pass(data)\n",
    "for _ in itertools.count():\n",
    "  if is_valid_enc(p):\n",
    "    p1 = decode_pass(p)\n",
    "    break\n",
    "  p = inc_enc(p)\n",
    "\n",
    "p = inc_enc(p)\n",
    "for _ in itertools.count():\n",
    "  if is_valid_enc(p):\n",
    "    p2 = decode_pass(p)\n",
    "    break\n",
    "  p = inc_enc(p)\n",
    "\n",
    "p1,p2\n",
    "\n"
   ]
  },
  {
   "cell_type": "code",
   "execution_count": 140,
   "metadata": {},
   "outputs": [
    {
     "data": {
      "text/plain": [
       "(119433, 68466)"
      ]
     },
     "execution_count": 140,
     "metadata": {},
     "output_type": "execute_result"
    }
   ],
   "source": [
    "data = aoc_utils.get_input(12, 2015)[0]\n",
    "\n",
    "p1 = sum(aoc_utils.mapints(data))\n",
    "p1\n",
    "\n",
    "def sum_list(arr):\n",
    "  return sum(sum_item(i) for i in arr)\n",
    "\n",
    "def sum_dict(obj):\n",
    "  if any(v == \"red\" for v in obj.values()): return 0\n",
    "  return sum(sum_item(v) for v in obj.values())\n",
    "\n",
    "def sum_item(i):\n",
    "  if isinstance(i, list):\n",
    "    return sum_list(i)\n",
    "  elif isinstance(i, dict):\n",
    "    return sum_dict(i)\n",
    "  elif isinstance(i, int):\n",
    "    return i\n",
    "  elif isinstance(i, str):\n",
    "    return 0\n",
    "  else:\n",
    "    print(i)\n",
    "    assert False\n",
    "\n",
    "import json\n",
    "p2 = sum_item(json.loads(data))\n",
    "\n",
    "p1,p2"
   ]
  },
  {
   "cell_type": "code",
   "execution_count": 147,
   "metadata": {},
   "outputs": [
    {
     "data": {
      "text/plain": [
       "(709, 668)"
      ]
     },
     "execution_count": 147,
     "metadata": {},
     "output_type": "execute_result"
    }
   ],
   "source": [
    "data =aoc_utils.get_input(13, 2015)\n",
    "data\n",
    "\n",
    "G = defaultdict(dict)\n",
    "ppl = set()\n",
    "for line in data:\n",
    "  lhs,_ = line.split(' would ')\n",
    "  _,rhs = line.split('next to ')\n",
    "  rhs,_ = rhs.split('.')\n",
    "  v = aoc_utils.mapints(line)[0]\n",
    "  if 'lose' in line: v *= -1\n",
    "  ppl.add(lhs)\n",
    "  ppl.add(rhs)\n",
    "  G[lhs][rhs] = v\n",
    "\n",
    "from itertools import pairwise, permutations\n",
    "\n",
    "totals = []\n",
    "for perm in permutations(ppl):\n",
    "  totals.append(\n",
    "    sum(G[lhs][rhs] + G[rhs][lhs] for lhs,rhs in pairwise(perm)) +\n",
    "    G[perm[-1]][perm[0]] +\n",
    "    G[perm[0]][perm[-1]]\n",
    "  )\n",
    "\n",
    "p1 = max(totals)\n",
    "\n",
    "for person in ppl:\n",
    "  G[person]['me'] = 0\n",
    "  G['me'][person] = 0\n",
    "\n",
    "ppl.add('me')\n",
    "totals = []\n",
    "for perm in permutations(ppl):\n",
    "  totals.append(\n",
    "    sum(G[lhs][rhs] + G[rhs][lhs] for lhs,rhs in pairwise(perm)) +\n",
    "    G[perm[-1]][perm[0]] +\n",
    "    G[perm[0]][perm[-1]]\n",
    "  )\n",
    "p2 = max(totals)\n",
    "\n",
    "p1,p2"
   ]
  },
  {
   "cell_type": "code",
   "execution_count": 161,
   "metadata": {},
   "outputs": [
    {
     "data": {
      "text/plain": [
       "(2640, 1102)"
      ]
     },
     "execution_count": 161,
     "metadata": {},
     "output_type": "execute_result"
    }
   ],
   "source": [
    "data = aoc_utils.get_input(14, 2015)\n",
    "data\n",
    "\n",
    "init = {}\n",
    "state = {}\n",
    "\n",
    "for line in data:\n",
    "  v,vt,rt = aoc_utils.mapints(line)\n",
    "  r,*_ = line.split(' ')\n",
    "  init[r] = (0,v,vt,rt)\n",
    "  state[r] = (0,v,vt,rt,0) # distance, velocity, velocity_time, rest_time, pts\n",
    "\n",
    "def tick(state):\n",
    "  next_state = {}\n",
    "  for r,(d,v,vt,rt,pts) in state.items():\n",
    "    if vt > 0:\n",
    "      vt -= 1\n",
    "      d += v\n",
    "      if vt == 0:\n",
    "        rt = init[r][3]\n",
    "    else:\n",
    "      assert vt == 0\n",
    "      if rt > 0:\n",
    "        rt -= 1\n",
    "      if rt == 0:\n",
    "        vt = init[r][2]\n",
    "    next_state[r] = (d,v,vt,rt,pts)\n",
    "  leader_d = max(d for (d,v,vt,rt,pts) in next_state.values())\n",
    "  leader_rs = []\n",
    "  for r,(d,v,vt,rt,pts) in next_state.items():\n",
    "    if d == leader_d:\n",
    "      leader_rs.append(r)\n",
    "  assert len(leader_rs) > 0\n",
    "  for leader_r in leader_rs:\n",
    "    (d,v,vt,rt,pts) = next_state[leader_r]\n",
    "    next_state[leader_r] = (d,v,vt,rt,pts+1)\n",
    "\n",
    "  return next_state\n",
    "\n",
    "for _ in range(2503):\n",
    "  state = tick(state)\n",
    "\n",
    "p1 = max(d for (d,*_) in state.values())\n",
    "p2 = max(pts for (d,v,vt,rt,pts) in state.values())\n",
    "\n",
    "p1,p2\n",
    "\n",
    "\n"
   ]
  },
  {
   "cell_type": "code",
   "execution_count": 132,
   "metadata": {},
   "outputs": [
    {
     "data": {
      "text/plain": [
       "(13882464, 11171160)"
      ]
     },
     "execution_count": 132,
     "metadata": {},
     "output_type": "execute_result"
    }
   ],
   "source": [
    "from itertools import combinations, combinations_with_replacement, product\n",
    "from functools import cache\n",
    "\n",
    "\n",
    "data = aoc_utils.get_input(15, 2015)\n",
    "data\n",
    "\n",
    "\n",
    "data = \"\"\"Butterscotch: capacity -1, durability -2, flavor 6, texture 3, calories 8\n",
    "Cinnamon: capacity 2, durability 3, flavor -2, texture -1, calories 3\"\"\".split('\\n')\n",
    "\n",
    "data = aoc_utils.get_input(15, 2015)\n",
    "\n",
    "print = aoc_utils.debug_print\n",
    "\n",
    "ings = {}\n",
    "prop_names = set()\n",
    "ing_names = set()\n",
    "for line in data:\n",
    "  name,rest = line.split(': ')\n",
    "  props = rest.split(', ')\n",
    "  props = [prop.split(' ') for prop in props]\n",
    "  ings[name] = {}\n",
    "  for prop,val in props:\n",
    "    ings[name][prop] = int(val)\n",
    "\n",
    "for ing_name,props in ings.items():  \n",
    "  ing_names.add(ing_name)\n",
    "  for prop_name,val in props.items():\n",
    "    prop_names.add(prop_name)\n",
    "prop_names = list(prop_names)\n",
    "ing_names = list(ing_names)\n",
    "\n",
    "@cache\n",
    "def score_cookie2(amts):\n",
    "  total = 1\n",
    "  for prop_name in prop_names:\n",
    "    if prop_name == 'calories': continue\n",
    "    subtotal = score_cookie_prop2(prop_name, amts)\n",
    "    if subtotal == 0: return 0\n",
    "    total *= subtotal\n",
    "  return total\n",
    "\n",
    "@cache\n",
    "def score_cookie_prop2(prop_name, amts):\n",
    "  subtotal = 0\n",
    "  prop_vals = [ings[name][prop_name] for name in ing_names]\n",
    "  subtotal = sum([amts[idx]*prop_vals[idx] for idx in range(len(amts))])\n",
    "  if subtotal <= 0: return 0\n",
    "  return subtotal\n",
    "\n",
    "def find_combos(target_sum=100, n=4):\n",
    "  from itertools import combinations_with_replacement,permutations\n",
    "  for tuple in combinations_with_replacement(range(target_sum+1), n):\n",
    "    if sum(tuple) == target_sum:\n",
    "      for tuple in permutations(tuple, len(tuple)):\n",
    "        yield tuple\n",
    "\n",
    "p1 = max(score_cookie2(combo) for combo in find_combos(100,len(ing_names)))\n",
    "p2 = max(score_cookie2(combo) for combo in find_combos(100,len(ing_names)) if score_cookie_prop2('calories', combo) == 500)\n",
    "\n",
    "p1,p2"
   ]
  },
  {
   "cell_type": "code",
   "execution_count": 15,
   "metadata": {},
   "outputs": [
    {
     "data": {
      "text/plain": [
       "(373, 260)"
      ]
     },
     "execution_count": 15,
     "metadata": {},
     "output_type": "execute_result"
    }
   ],
   "source": [
    "data = aoc_utils.get_input(16, 2015)\n",
    "data\n",
    "\n",
    "known = {\n",
    "  \"children\": 3,\n",
    "  \"cats\": 7,\n",
    "  \"samoyeds\": 2,\n",
    "  \"pomeranians\": 3,\n",
    "  \"akitas\": 0,\n",
    "  \"vizslas\": 0,\n",
    "  \"goldfish\": 5,\n",
    "  \"trees\": 3,\n",
    "  \"cars\": 2,\n",
    "  \"perfumes\": 1\n",
    "}\n",
    "\n",
    "sues = defaultdict(list)\n",
    "for line in data:\n",
    "  idx = aoc_utils.mapints(line)[0]\n",
    "  props = line[line.index(\": \") + 2:]\n",
    "  props = props.split(', ')\n",
    "  sues[idx] = {\n",
    "    prop.split(': ')[0]: int(prop.split(': ')[1])\n",
    "    for prop in props\n",
    "  }\n",
    "\n",
    "\n",
    "p1 = 0\n",
    "p2 = 0\n",
    "for sue,props in sues.items():\n",
    "  if all([known[name] == val for name,val in props.items()]):\n",
    "    p1 = sue\n",
    "\n",
    "def find_sue2(props):\n",
    "  for name,val in props.items():\n",
    "    if name in [\"cats\", \"trees\"] and val > known[name]: continue\n",
    "    if name in [\"pomeranians\", \"goldfish\"] and val < known[name]: continue\n",
    "    if known[name] == val: continue\n",
    "    return False\n",
    "  return True\n",
    "\n",
    "for sue, props in sues.items():\n",
    "  if sue == p1: continue\n",
    "  if find_sue2(props):\n",
    "    p2 = sue\n",
    "\n",
    "\n",
    "p1,p2"
   ]
  },
  {
   "cell_type": "code",
   "execution_count": 34,
   "metadata": {},
   "outputs": [
    {
     "data": {
      "text/plain": [
       "(654, 57)"
      ]
     },
     "execution_count": 34,
     "metadata": {},
     "output_type": "execute_result"
    }
   ],
   "source": [
    "data = aoc_utils.get_input(17, 2015)\n",
    "data = list(map(int, data))\n",
    "data = list(sorted(data))\n",
    "sum(data[:9])\n",
    "sum(data[-4:])\n",
    "p1 = 0\n",
    "ways = defaultdict(int)\n",
    "for i in range(4,10):\n",
    "  for combo in itertools.combinations(data, i):\n",
    "    if sum(combo) == 150:\n",
    "      ways[len(combo)] += 1\n",
    "\n",
    "p1 = sum(ways.values())\n",
    "p2 = ways[min(ways.keys())]\n",
    "p1,p2"
   ]
  },
  {
   "cell_type": "code",
   "execution_count": 43,
   "metadata": {},
   "outputs": [
    {
     "data": {
      "text/plain": [
       "(1061, 1006)"
      ]
     },
     "execution_count": 43,
     "metadata": {},
     "output_type": "execute_result"
    }
   ],
   "source": [
    "data = aoc_utils.get_input(18, 2015)\n",
    "data\n",
    "\n",
    "rowmax = len(data)-1\n",
    "colmax = len(data[0])-1\n",
    "corners = [\n",
    "  (0,0),\n",
    "  (0,rowmax),\n",
    "  (colmax, 0),\n",
    "  (colmax,rowmax)\n",
    "]\n",
    "\n",
    "def get_grid(data,is_p2=False):\n",
    "  G = {}\n",
    "  for row,line in enumerate(data):\n",
    "    for col,ch in enumerate(line):\n",
    "      G[(col,row)] = 1 if ch == '#' else 0\n",
    "  if is_p2:\n",
    "    for p in corners: G[p] = 1\n",
    "  return G\n",
    "\n",
    "def tick(G, is_p2=False):\n",
    "  G2 = {}\n",
    "  for p,val in G.items():\n",
    "    neighbors = [n for n in aoc_utils.neighbors8( p ) if n in G]\n",
    "    count = sum([G[n] for n in neighbors])\n",
    "    if val == 1:\n",
    "      G2[p] = 1 if count in [2,3] else 0\n",
    "    elif val == 0:\n",
    "      G2[p] = 1 if count == 3 else 0\n",
    "    else:\n",
    "      assert False\n",
    "  if is_p2:\n",
    "    for p in corners: G2[p] = 1\n",
    "\n",
    "  return G2\n",
    "\n",
    "G = get_grid(data)\n",
    "for _ in range(100):\n",
    "  G = tick(G)\n",
    "p1 = sum(G.values())\n",
    "\n",
    "G2 = get_grid(data, is_p2=True)\n",
    "for _ in range(100):\n",
    "  G2 = tick(G2, is_p2=True)\n",
    "p2 = sum(G2.values())\n",
    "\n",
    "p1,p2\n"
   ]
  },
  {
   "cell_type": "code",
   "execution_count": null,
   "metadata": {},
   "outputs": [],
   "source": []
  }
 ],
 "metadata": {
  "kernelspec": {
   "display_name": "Python 3.10.6 64-bit",
   "language": "python",
   "name": "python3"
  },
  "language_info": {
   "codemirror_mode": {
    "name": "ipython",
    "version": 3
   },
   "file_extension": ".py",
   "mimetype": "text/x-python",
   "name": "python",
   "nbconvert_exporter": "python",
   "pygments_lexer": "ipython3",
   "version": "3.10.6"
  },
  "orig_nbformat": 4,
  "vscode": {
   "interpreter": {
    "hash": "b0fa6594d8f4cbf19f97940f81e996739fb7646882a419484c72d19e05852a7e"
   }
  }
 },
 "nbformat": 4,
 "nbformat_minor": 2
}
