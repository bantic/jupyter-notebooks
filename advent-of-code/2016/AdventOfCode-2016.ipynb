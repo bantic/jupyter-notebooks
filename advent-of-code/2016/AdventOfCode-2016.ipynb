{
 "cells": [
  {
   "cell_type": "code",
   "execution_count": 33,
   "metadata": {},
   "outputs": [
    {
     "name": "stdout",
     "output_type": "stream",
     "text": [
      "The autoreload extension is already loaded. To reload it, use:\n",
      "  %reload_ext autoreload\n"
     ]
    }
   ],
   "source": [
    "# allows editing aoc_utils \"live\" without restarting kernel\n",
    "# see https://ipython.org/ipython-doc/stable/config/extensions/autoreload.html\n",
    "# and https://stackoverflow.com/a/17551284\n",
    "%load_ext autoreload\n",
    "%autoreload 2\n",
    "\n",
    "# Add the aoc_utils path\n",
    "import os\n",
    "import sys\n",
    "module_path = os.path.abspath(os.path.join('..'))\n",
    "if module_path not in sys.path:\n",
    "    sys.path.append(module_path)\n",
    "\n",
    "import aoc_utils\n",
    "get_input = aoc_utils.get_input\n",
    "print = aoc_utils.debug_print\n",
    "\n",
    "timer = aoc_utils.start_timer()"
   ]
  },
  {
   "cell_type": "code",
   "execution_count": 34,
   "metadata": {},
   "outputs": [
    {
     "data": {
      "text/plain": [
       "(291, 159)"
      ]
     },
     "execution_count": 34,
     "metadata": {},
     "output_type": "execute_result"
    }
   ],
   "source": [
    "def Day1(data=get_input(1, 2016)[0].split(', ')):\n",
    "  r_turns = ['N','E','S','W']\n",
    "  dirs = {\n",
    "    'N': (0,1),\n",
    "    'S': (0,-1),\n",
    "    'E': (1,0),\n",
    "    'W': (-1,0),\n",
    "  }\n",
    "  def cab_dist(coords):\n",
    "    return abs(coords[0]) + abs(coords[1])\n",
    "  def r_turn(dir):\n",
    "    return r_turns[ (r_turns.index(dir) + 1) % len(r_turns) ]\n",
    "  def l_turn(dir):\n",
    "    return r_turns[ (r_turns.index(dir) - 1) % len(r_turns) ]\n",
    "\n",
    "  def part1():\n",
    "    coords = (0,0)\n",
    "    dir = 'N'\n",
    "    for line in data:\n",
    "      turn_dir = line[0]\n",
    "      dist = int(line[1:])\n",
    "      if turn_dir == 'R':\n",
    "        dir = r_turn(dir)\n",
    "      elif turn_dir == 'L':\n",
    "        dir = l_turn(dir)\n",
    "      else:\n",
    "        raise \"error\"\n",
    "      (dx, dy) = dirs[dir]\n",
    "      coords = (coords[0] + dist*dx, coords[1] + dist*dy)\n",
    "    return cab_dist(coords)\n",
    "\n",
    "  def part2():\n",
    "    coords = (0,0)\n",
    "    dir = 'N'\n",
    "    seen = set()\n",
    "    for line in data:\n",
    "      turn_dir = line[0]\n",
    "      dist = int(line[1:])\n",
    "      if turn_dir == 'R':\n",
    "        dir = r_turn(dir)\n",
    "      elif turn_dir == 'L':\n",
    "        dir = l_turn(dir)\n",
    "      else:\n",
    "        raise \"error\"\n",
    "      (dx, dy) = dirs[dir]\n",
    "      while dist > 0:\n",
    "        coords = (coords[0] + dx, coords[1] + dy)\n",
    "        if coords in seen:\n",
    "          return cab_dist(coords)\n",
    "        else:\n",
    "          seen.add(coords)\n",
    "        dist -= 1\n",
    "\n",
    "  return part1(),part2()\n",
    "\n",
    "\n",
    "Day1()"
   ]
  },
  {
   "cell_type": "code",
   "execution_count": 35,
   "metadata": {},
   "outputs": [
    {
     "data": {
      "text/plain": [
       "('69642', '8CB23')"
      ]
     },
     "execution_count": 35,
     "metadata": {},
     "output_type": "execute_result"
    }
   ],
   "source": [
    "def Day2(data=get_input(2, 2016)):\n",
    "  keypad = {\n",
    "    (0,0): '1',\n",
    "    (0,1): '2',\n",
    "    (0,2): '3',\n",
    "    (1,0): '4',\n",
    "    (1,1): '5',\n",
    "    (1,2): '6',\n",
    "    (2,0): '7',\n",
    "    (2,1): '8',\n",
    "    (2,2): '9',\n",
    "  }\n",
    "  dirs = {\n",
    "    'U': (-1,0),\n",
    "    'D': (1,0),\n",
    "    'R': (0,1),\n",
    "    'L': (0,-1),\n",
    "  }\n",
    "  def move(coords, dir):\n",
    "    (x,y) = coords\n",
    "    (dx,dy) = dirs[dir]\n",
    "    x += dx\n",
    "    y += dy\n",
    "    if x < 0:\n",
    "      x = 0\n",
    "    if x > 2:\n",
    "      x = 2\n",
    "    if y < 0:\n",
    "      y = 0\n",
    "    if y > 2:\n",
    "      y = 2\n",
    "    return (x,y)\n",
    "  keypad2 = {\n",
    "    (0,2): '1',\n",
    "    (1,1): '2',\n",
    "    (1,2): '3',\n",
    "    (1,3): '4',\n",
    "    (2,0): '5',\n",
    "    (2,1): '6',\n",
    "    (2,2): '7',\n",
    "    (2,3): '8',\n",
    "    (2,4): '9',\n",
    "    (3,1): 'A',\n",
    "    (3,2): 'B',\n",
    "    (3,3): 'C',\n",
    "    (4,2): 'D',\n",
    "  }\n",
    "  def move2(coords, dir):\n",
    "    (x,y) = coords\n",
    "    (dx,dy) = dirs[dir]\n",
    "    next_coords = (x + dx, y + dy)\n",
    "    if next_coords in keypad2:\n",
    "      return next_coords\n",
    "    else:\n",
    "      return coords\n",
    "\n",
    "\n",
    "  def part1():\n",
    "    coords = (1,1)\n",
    "    code = ''\n",
    "    for line in data:\n",
    "      for dir in line:\n",
    "        coords = move(coords, dir)\n",
    "      code = f\"{code}{keypad[coords]}\"\n",
    "    return code\n",
    "\n",
    "\n",
    "  def part2():\n",
    "    coords = (2,0)\n",
    "    code = ''\n",
    "    for line in data:\n",
    "      for dir in line:\n",
    "        coords = move2(coords, dir)\n",
    "      code = f\"{code}{keypad2[coords]}\"\n",
    "    return code\n",
    "\n",
    "  return part1(),part2()\n",
    "\n",
    "Day2()"
   ]
  },
  {
   "cell_type": "code",
   "execution_count": 36,
   "metadata": {},
   "outputs": [
    {
     "data": {
      "text/plain": [
       "(1050, 1921)"
      ]
     },
     "execution_count": 36,
     "metadata": {},
     "output_type": "execute_result"
    }
   ],
   "source": [
    "import re\n",
    "def Day3(data=get_input(3,2016)):\n",
    "  def poss_tri(sides):\n",
    "    sides = sorted(sides)\n",
    "    return sides[0] + sides[1] > sides[2]\n",
    "\n",
    "  def part1():\n",
    "    count = 0\n",
    "    for line in data:\n",
    "      sides = [int(s) for s in re.split(r'\\s+', line)]\n",
    "      if poss_tri(sides):\n",
    "        count += 1\n",
    "    return count\n",
    "\n",
    "  def part2():\n",
    "    groups = []\n",
    "    pending_groups = [ [], [], [] ]\n",
    "    for line in data:\n",
    "      ints = [int(s) for s in re.split(r'\\s+', line)]\n",
    "      pending_groups[0].append(ints[0])\n",
    "      pending_groups[1].append(ints[1])\n",
    "      pending_groups[2].append(ints[2])\n",
    "      if len(pending_groups[0]) == 3:\n",
    "        groups.append(pending_groups[0])\n",
    "        groups.append(pending_groups[1])\n",
    "        groups.append(pending_groups[2])\n",
    "        pending_groups = [ [], [] , [] ]\n",
    "    count = 0\n",
    "    for sides in groups:\n",
    "      if poss_tri(sides):\n",
    "        count += 1\n",
    "    return count\n",
    "\n",
    "  return part1(),part2()\n",
    "Day3()"
   ]
  },
  {
   "cell_type": "code",
   "execution_count": 37,
   "metadata": {},
   "outputs": [
    {
     "data": {
      "text/plain": [
       "(173787, 548)"
      ]
     },
     "execution_count": 37,
     "metadata": {},
     "output_type": "execute_result"
    }
   ],
   "source": [
    "def Day4(data=get_input(4,2016)):\n",
    "  alpha = aoc_utils.ALPHABET.lower()\n",
    "  def sorted_letters(s):\n",
    "    from collections import Counter\n",
    "    from functools import cmp_to_key\n",
    "    c = Counter(s)\n",
    "    def cmp_fn(a,b):\n",
    "      if c[a] > c[b]:\n",
    "        return 1\n",
    "      elif c[b] > c[a]:\n",
    "        return -1\n",
    "      elif c[a] == c[b]:\n",
    "        return alpha.index(b) - alpha.index(a)\n",
    "      else:\n",
    "        raise \"Unexpected\"\n",
    "    return sorted(c, key=cmp_to_key(cmp_fn), reverse=True)\n",
    "\n",
    "  def part1():\n",
    "    count = 0\n",
    "    for line in data:\n",
    "      is_real = True\n",
    "      s,s1 = line.split('[')\n",
    "      s1 = s1[:-1]\n",
    "      id = int(''.join([c for c in s if c in aoc_utils.NUMERIC]))\n",
    "      s = [c for c in s if c in alpha]\n",
    "      _sorted = sorted_letters(s)\n",
    "      for idx,c in enumerate(s1):\n",
    "        if _sorted[idx] != c:\n",
    "          is_real = False\n",
    "      if is_real:\n",
    "        count += id\n",
    "    return count\n",
    "  def part2():\n",
    "    def shift(s, id):\n",
    "      out = []\n",
    "      for c in s:\n",
    "        if c == '-':\n",
    "          c = ' '\n",
    "        else:\n",
    "          idx = alpha.index(c)\n",
    "          next_idx = (idx + id) % len(alpha)\n",
    "          c = alpha[next_idx]\n",
    "        out.append(c)\n",
    "      return ''.join(out)\n",
    "\n",
    "    for line in data:\n",
    "      s,s1 = line.split('[')\n",
    "      s1 = s1[:-1]\n",
    "      id = int(''.join([c for c in s if c in aoc_utils.NUMERIC]))\n",
    "      s = [c for c in s if c not in aoc_utils.NUMERIC]\n",
    "      s = shift(s, id)\n",
    "      if s == \"northpole object storage \":\n",
    "        return id\n",
    "\n",
    "  return part1(),part2()\n",
    "\n",
    "Day4()"
   ]
  },
  {
   "cell_type": "code",
   "execution_count": 38,
   "metadata": {},
   "outputs": [
    {
     "name": "stdout",
     "output_type": "stream",
     "text": [
      "TOTAL TIME: 0.48254190699663013\n"
     ]
    }
   ],
   "source": [
    "print(f\"TOTAL TIME: {timer()}\")"
   ]
  },
  {
   "cell_type": "code",
   "execution_count": 39,
   "metadata": {},
   "outputs": [],
   "source": [
    "t = aoc_utils.start_timer()"
   ]
  },
  {
   "cell_type": "code",
   "execution_count": 40,
   "metadata": {},
   "outputs": [
    {
     "data": {
      "text/plain": [
       "('f97c354d', '863dde27')"
      ]
     },
     "execution_count": 40,
     "metadata": {},
     "output_type": "execute_result"
    }
   ],
   "source": [
    "def Day5(data=get_input(5,2016)):\n",
    "  md5 = aoc_utils.md5\n",
    "  id = data[0]\n",
    "\n",
    "  def part1():\n",
    "    out = \"\"\n",
    "    idx = -1 \n",
    "    while True:\n",
    "      idx += 1\n",
    "      code = f\"{id}{idx}\"\n",
    "      hash = md5(code)\n",
    "      if hash.startswith('0'*5):\n",
    "        out += hash[5]\n",
    "        if len(out) == 8:\n",
    "          return out\n",
    "\n",
    "  def part2():\n",
    "    out = [None]*8\n",
    "    found = 0\n",
    "    idx = -1\n",
    "    valid_idx_chars = '01234567'\n",
    "    while True:\n",
    "      idx += 1\n",
    "      code = f\"{id}{idx}\"\n",
    "      hash = md5(code)\n",
    "      if hash.startswith('0'*5) and hash[5] in valid_idx_chars and out[int(hash[5])] is None:\n",
    "        out[int(hash[5])] = hash[6]\n",
    "        found += 1\n",
    "        if found == 8:\n",
    "          return ''.join(out)\n",
    "  return part1(),part2()\n",
    "\n",
    "Day5()\n"
   ]
  },
  {
   "cell_type": "code",
   "execution_count": 47,
   "metadata": {},
   "outputs": [
    {
     "data": {
      "text/plain": [
       "('tzstqsua', 'myregdnr')"
      ]
     },
     "execution_count": 47,
     "metadata": {},
     "output_type": "execute_result"
    }
   ],
   "source": [
    "def Day6(data=get_input(6, 2016)):\n",
    "  from collections import Counter\n",
    "  def day1():\n",
    "    counters = [Counter() for i in range(8)]\n",
    "    for line in data:\n",
    "      for idx,c in enumerate(line):\n",
    "        counters[idx].update(c)\n",
    "    return ''.join([ctr.most_common()[0][0] for ctr in counters])\n",
    "  def day2():\n",
    "    counters = [Counter() for i in range(8)]\n",
    "    for line in data:\n",
    "      for idx,c in enumerate(line):\n",
    "        counters[idx].update(c)\n",
    "    return ''.join([ctr.most_common()[-1][0] for ctr in counters])\n",
    "\n",
    "  return day1(),day2()\n",
    "Day6()"
   ]
  },
  {
   "cell_type": "code",
   "execution_count": 51,
   "metadata": {},
   "outputs": [
    {
     "data": {
      "text/plain": [
       "datetime.datetime(2021, 11, 19, 12, 58, 23, 69759)"
      ]
     },
     "execution_count": 51,
     "metadata": {},
     "output_type": "execute_result"
    }
   ],
   "source": [
    "t = aoc_utils.start_timer()\n",
    "datetime.datetime.now()"
   ]
  },
  {
   "cell_type": "code",
   "execution_count": 79,
   "metadata": {},
   "outputs": [
    {
     "data": {
      "text/plain": [
       "(105, 258)"
      ]
     },
     "execution_count": 79,
     "metadata": {},
     "output_type": "execute_result"
    }
   ],
   "source": [
    "def Day7(data=get_input(7,2016)):\n",
    "  def is_abba(s):\n",
    "    return len(s) == 4 and s[0:2] == s[3:1:-1] and s[0] != s[1]\n",
    "  assert is_abba(\"abba\")\n",
    "  assert is_abba(\"acca\")\n",
    "  assert not is_abba(\"aaaa\")\n",
    "\n",
    "  def has_abba(s):\n",
    "    for i in range(0, len(s) - 3):\n",
    "      if is_abba(s[i:i+4]):\n",
    "        return True\n",
    "    return False\n",
    "  assert has_abba(\"asdflkjsgahdsflkjsdfxyyx\")\n",
    "  assert has_abba(\"abbasdflkjsgahdsflkjsdfxyyx\")\n",
    "\n",
    "  def is_aba(s):\n",
    "    return len(s) == 3 and s[0] == s[2] and s[0] != s[1]\n",
    "\n",
    "  def invert_aba(s):\n",
    "    assert is_aba(s)\n",
    "    return ''.join([ s[1], s[0], s[1] ])\n",
    "\n",
    "  def get_abas(s):\n",
    "    abas = []\n",
    "    for i in range(0, len(s) - 2):\n",
    "      if is_aba(s[i:i+3]):\n",
    "        abas.append(s[i:i+3])\n",
    "    return abas\n",
    "\n",
    "  assert is_aba('aba')\n",
    "  assert is_aba('cbc')\n",
    "  assert invert_aba('aba') == 'bab'\n",
    "  assert get_abas(\"sdfabab\") == [\"aba\",\"bab\"]\n",
    "\n",
    "  def part1():\n",
    "    count = 0\n",
    "    for line in data:\n",
    "      valid_parts = []\n",
    "      invalid_parts = []\n",
    "      in_brackets = False\n",
    "      cur_part = \"\"\n",
    "      for c in line:\n",
    "        if c == \"[\":\n",
    "          assert not in_brackets\n",
    "          in_brackets = True\n",
    "          valid_parts.append(cur_part)\n",
    "          cur_part = \"\"\n",
    "        elif c == \"]\":\n",
    "          assert in_brackets\n",
    "          in_brackets = False\n",
    "          invalid_parts.append(cur_part)\n",
    "          cur_part = \"\"\n",
    "        else:\n",
    "          cur_part = cur_part + c\n",
    "      if len(cur_part) > 0:\n",
    "        valid_parts.append(cur_part)\n",
    "      if any([has_abba(s) for s in valid_parts]):\n",
    "        if not any([has_abba(s) for s in invalid_parts]):\n",
    "          count += 1\n",
    "    return count\n",
    "  def part2(): #data=['aba[bab]xyz','xyx[xyx]xyx','aaa[kek]eke']):\n",
    "    count = 0\n",
    "    for line in data:\n",
    "      valid_parts = []\n",
    "      invalid_parts = []\n",
    "      in_brackets = False\n",
    "      cur_part = \"\"\n",
    "      for c in line:\n",
    "        if c == \"[\":\n",
    "          assert not in_brackets\n",
    "          in_brackets = True\n",
    "          valid_parts.append(cur_part)\n",
    "          cur_part = \"\"\n",
    "        elif c == \"]\":\n",
    "          assert in_brackets\n",
    "          in_brackets = False\n",
    "          invalid_parts.append(cur_part)\n",
    "          cur_part = \"\"\n",
    "        else:\n",
    "          cur_part = cur_part + c\n",
    "      if len(cur_part) > 0:\n",
    "        valid_parts.append(cur_part)\n",
    "      found = False\n",
    "      for s in valid_parts:\n",
    "        abas = get_abas(s)\n",
    "        for aba in abas:\n",
    "          inv = invert_aba(aba)\n",
    "          if any([inv in _s for _s in invalid_parts]):\n",
    "            found = True\n",
    "      if found:\n",
    "        count += 1\n",
    "    return count\n",
    "  return part1(),part2()\n",
    "Day7()\n"
   ]
  }
 ],
 "metadata": {
  "kernelspec": {
   "display_name": "Python 3",
   "language": "python",
   "name": "python3"
  },
  "language_info": {
   "codemirror_mode": {
    "name": "ipython",
    "version": 3
   },
   "file_extension": ".py",
   "mimetype": "text/x-python",
   "name": "python",
   "nbconvert_exporter": "python",
   "pygments_lexer": "ipython3",
   "version": "3.9.8"
  }
 },
 "nbformat": 4,
 "nbformat_minor": 4
}
