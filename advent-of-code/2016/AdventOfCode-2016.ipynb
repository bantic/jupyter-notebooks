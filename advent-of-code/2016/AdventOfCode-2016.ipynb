{
 "cells": [
  {
   "cell_type": "code",
   "execution_count": 2,
   "metadata": {},
   "outputs": [],
   "source": [
    "import time\n",
    "GLOBAL_TIME = time.perf_counter()"
   ]
  },
  {
   "cell_type": "code",
   "execution_count": 3,
   "metadata": {},
   "outputs": [],
   "source": [
    "import os\n",
    "import sys\n",
    "module_path = os.path.abspath(os.path.join('..'))\n",
    "if module_path not in sys.path:\n",
    "    sys.path.append(module_path)\n",
    "\n",
    "from aoc_utils import get_input"
   ]
  },
  {
   "cell_type": "code",
   "execution_count": 9,
   "metadata": {},
   "outputs": [
    {
     "data": {
      "text/plain": [
       "(291, 159)"
      ]
     },
     "execution_count": 9,
     "metadata": {},
     "output_type": "execute_result"
    }
   ],
   "source": [
    "def Day1(data=get_input(1, 2016)[0].split(', ')):\n",
    "  r_turns = ['N','E','S','W']\n",
    "  dirs = {\n",
    "    'N': (0,1),\n",
    "    'S': (0,-1),\n",
    "    'E': (1,0),\n",
    "    'W': (-1,0),\n",
    "  }\n",
    "  def cab_dist(coords):\n",
    "    return abs(coords[0]) + abs(coords[1])\n",
    "  def r_turn(dir):\n",
    "    return r_turns[ (r_turns.index(dir) + 1) % len(r_turns) ]\n",
    "  def l_turn(dir):\n",
    "    return r_turns[ (r_turns.index(dir) - 1) % len(r_turns) ]\n",
    "\n",
    "  def part1():\n",
    "    coords = (0,0)\n",
    "    dir = 'N'\n",
    "    for line in data:\n",
    "      turn_dir = line[0]\n",
    "      dist = int(line[1:])\n",
    "      if turn_dir == 'R':\n",
    "        dir = r_turn(dir)\n",
    "      elif turn_dir == 'L':\n",
    "        dir = l_turn(dir)\n",
    "      else:\n",
    "        raise \"error\"\n",
    "      (dx, dy) = dirs[dir]\n",
    "      coords = (coords[0] + dist*dx, coords[1] + dist*dy)\n",
    "    return cab_dist(coords)\n",
    "\n",
    "  def part2():\n",
    "    coords = (0,0)\n",
    "    dir = 'N'\n",
    "    seen = set()\n",
    "    for line in data:\n",
    "      turn_dir = line[0]\n",
    "      dist = int(line[1:])\n",
    "      if turn_dir == 'R':\n",
    "        dir = r_turn(dir)\n",
    "      elif turn_dir == 'L':\n",
    "        dir = l_turn(dir)\n",
    "      else:\n",
    "        raise \"error\"\n",
    "      (dx, dy) = dirs[dir]\n",
    "      while dist > 0:\n",
    "        coords = (coords[0] + dx, coords[1] + dy)\n",
    "        if coords in seen:\n",
    "          return cab_dist(coords)\n",
    "        else:\n",
    "          seen.add(coords)\n",
    "        dist -= 1\n",
    "\n",
    "  return part1(),part2()\n",
    "\n",
    "\n",
    "Day1()"
   ]
  },
  {
   "cell_type": "code",
   "execution_count": 29,
   "metadata": {},
   "outputs": [
    {
     "name": "stdout",
     "output_type": "stream",
     "text": [
      "TOTAL TIME: 198.835964152\n"
     ]
    }
   ],
   "source": [
    "print(f\"TOTAL TIME: {time.perf_counter() - GLOBAL_TIME}\")"
   ]
  }
 ],
 "metadata": {
  "kernelspec": {
   "display_name": "Python 3",
   "language": "python",
   "name": "python3"
  },
  "language_info": {
   "codemirror_mode": {
    "name": "ipython",
    "version": 3
   },
   "file_extension": ".py",
   "mimetype": "text/x-python",
   "name": "python",
   "nbconvert_exporter": "python",
   "pygments_lexer": "ipython3",
   "version": "3.9.8"
  }
 },
 "nbformat": 4,
 "nbformat_minor": 4
}
