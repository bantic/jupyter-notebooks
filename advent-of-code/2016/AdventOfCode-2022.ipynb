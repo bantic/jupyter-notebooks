{
  "cells": [
    {
      "cell_type": "code",
      "execution_count": 1,
      "metadata": {},
      "outputs": [],
      "source": [
        "# allows editing aoc_utils \"live\" without restarting kernel\n",
        "# see https://ipython.org/ipython-doc/stable/config/extensions/autoreload.html\n",
        "# and https://stackoverflow.com/a/17551284\n",
        "%load_ext autoreload\n",
        "%autoreload 2\n",
        "\n",
        "# Add the aoc_utils path\n",
        "import os\n",
        "import sys\n",
        "module_path = os.path.abspath(os.path.join('..'))\n",
        "if module_path not in sys.path:\n",
        "    sys.path.append(module_path)\n",
        "\n",
        "import aoc_utils\n",
        "get_input = aoc_utils.get_input\n",
        "print = aoc_utils.debug_print\n"
      ]
    },
    {
      "cell_type": "code",
      "execution_count": 2,
      "metadata": {},
      "outputs": [],
      "source": [
        "# Useful imports\n",
        "import re\n",
        "from collections import defaultdict, deque\n",
        "import heapq\n",
        "import functools\n",
        "import queue\n",
        "import itertools\n",
        "import math"
      ]
    },
    {
      "cell_type": "code",
      "execution_count": 15,
      "metadata": {},
      "outputs": [],
      "source": [
        "timer = aoc_utils.start_timer()\n",
        "data = get_input(1, 2022)\n",
        "data"
      ]
    },
    {
      "cell_type": "code",
      "execution_count": 17,
      "metadata": {},
      "outputs": [
        {
          "data": {
            "text/plain": [
              "4.65576466685161"
            ]
          },
          "execution_count": 17,
          "metadata": {},
          "output_type": "execute_result"
        }
      ],
      "source": [
        "print(\"time\", timer())\n",
        "#aoc_utils.submit(1, 2022, 1, p1)"
      ]
    },
    {
      "cell_type": "code",
      "execution_count": null,
      "metadata": {},
      "outputs": [],
      "source": []
    }
  ],
  "metadata": {
    "kernelspec": {
      "display_name": "Python 3.10.6 64-bit",
      "language": "python",
      "name": "python3"
    },
    "language_info": {
      "codemirror_mode": {
        "name": "ipython",
        "version": 3
      },
      "file_extension": ".py",
      "mimetype": "text/x-python",
      "name": "python",
      "nbconvert_exporter": "python",
      "pygments_lexer": "ipython3",
      "version": "3.10.8"
    },
    "vscode": {
      "interpreter": {
        "hash": "b0fa6594d8f4cbf19f97940f81e996739fb7646882a419484c72d19e05852a7e"
      }
    }
  },
  "nbformat": 4,
  "nbformat_minor": 4
}
