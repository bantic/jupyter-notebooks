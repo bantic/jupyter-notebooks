{
  "cells": [
    {
      "cell_type": "code",
      "execution_count": 20,
      "metadata": {},
      "outputs": [
        {
          "name": "stdout",
          "output_type": "stream",
          "text": [
            "The autoreload extension is already loaded. To reload it, use:\n",
            "  %reload_ext autoreload\n"
          ]
        }
      ],
      "source": [
        "# allows editing aoc_utils \"live\" without restarting kernel\n",
        "# see https://ipython.org/ipython-doc/stable/config/extensions/autoreload.html\n",
        "# and https://stackoverflow.com/a/17551284\n",
        "%load_ext autoreload\n",
        "%autoreload 2\n",
        "\n",
        "# Add the aoc_utils path\n",
        "import os\n",
        "import sys\n",
        "module_path = os.path.abspath(os.path.join('..'))\n",
        "if module_path not in sys.path:\n",
        "    sys.path.append(module_path)\n",
        "\n",
        "import aoc_utils\n",
        "get_input = aoc_utils.get_input\n",
        "print = aoc_utils.debug_print\n"
      ]
    },
    {
      "cell_type": "code",
      "execution_count": 21,
      "metadata": {},
      "outputs": [],
      "source": [
        "# Useful imports\n",
        "import re\n",
        "from collections import defaultdict, deque\n",
        "import heapq\n",
        "import functools\n",
        "import queue\n",
        "import itertools\n",
        "import math"
      ]
    },
    {
      "cell_type": "code",
      "execution_count": 22,
      "metadata": {},
      "outputs": [],
      "source": [
        "data = get_input(1, 2022)\n",
        "\n",
        "xs = [sum(map(int, grp)) for grp in list(aoc_utils.split_list(data))]\n",
        "p1 = max(xs)\n",
        "p2 = sum(list(reversed(sorted(xs)))[:3])\n",
        "assert p1,p2 == (66616, 199172)"
      ]
    },
    {
      "cell_type": "code",
      "execution_count": 43,
      "metadata": {},
      "outputs": [],
      "source": [
        "data = get_input(2, 2022)\n",
        "data\n",
        "\n",
        "TOWIN = {\n",
        "  'A': 'Y',\n",
        "  'B': 'Z',\n",
        "  'C': 'X',\n",
        "}\n",
        "TOLOSE = {\n",
        "  'A': 'Z',\n",
        "  'B': 'X',\n",
        "  'C': 'Y',\n",
        "}\n",
        "\n",
        "ELF = 'ABC'\n",
        "YOU = 'XYZ'\n",
        "\n",
        "p1 = 0\n",
        "for line in data:\n",
        "  lhs,rhs = line.split(' ')\n",
        "  p1 += 1 + YOU.find(rhs)\n",
        "  if ELF.index(lhs) == YOU.index(rhs): # draw\n",
        "    p1 += 3\n",
        "  else:\n",
        "    if TOWIN[lhs] == rhs:\n",
        "      p1 += 6\n",
        "    else:\n",
        "      p1 += 0\n",
        "\n",
        "p2 = 0\n",
        "for line in data:\n",
        "  l,r = line.split(\" \")\n",
        "  if r == 'X': #lose\n",
        "    shape = TOLOSE[l]\n",
        "    p2 += 0\n",
        "  elif r == 'Y': #draw\n",
        "    shape = YOU[ELF.find(l)]\n",
        "    p2 += 3\n",
        "  elif r == 'Z': # win\n",
        "    shape = TOWIN[l]\n",
        "    p2 += 6\n",
        "  p2 += 1 + YOU.find(shape)\n",
        "\n",
        "assert p1,p2 == (13682, 12881)"
      ]
    },
    {
      "cell_type": "code",
      "execution_count": 56,
      "metadata": {},
      "outputs": [],
      "source": [
        "data = get_input(3, 2022)\n",
        "data\n",
        "\n",
        "from string import ascii_letters\n",
        "\n",
        "p1 = 0\n",
        "for line in data:\n",
        "  l,r = line[:len(line)//2],line[len(line)//2:]\n",
        "  xs = set(l) & set(r)\n",
        "  assert len(xs) == 1\n",
        "  p1 += 1 + ascii_letters.index(list(xs)[0])\n",
        "p1\n",
        "\n",
        "p2 = 0\n",
        "for grp in aoc_utils.chunker(data, 3):\n",
        "  xs = set(grp[0]) & set(grp[1]) & set(grp[2])\n",
        "  assert len(xs) == 1\n",
        "  p2 += 1 + ascii_letters.index(list(xs)[0])\n",
        "assert (p1, p2) ==  (8233, 2821)"
      ]
    },
    {
      "cell_type": "code",
      "execution_count": 75,
      "metadata": {},
      "outputs": [],
      "source": [
        "data = get_input(4,2022)\n",
        "data\n",
        "\n",
        "mapints = aoc_utils.mapints\n",
        "\n",
        "p1 = p2 = 0\n",
        "for line in data:\n",
        "  a,b = [list(map(int, x.split('-'))) for x in line.split(',')]\n",
        "  p1 += any(x[0] >= y[0] and x[1] <= y[1] for x,y in [(a,b),(b,a)])\n",
        "  ra,rb = range(a[0],a[1]+1),range(b[0],b[1]+1)\n",
        "  p2 += any(x[0] in r and x[1] in r for x,r in [(a,rb),(b,ra)])\n",
        "\n",
        "assert p1,p2 == (515,883)"
      ]
    },
    {
      "cell_type": "code",
      "execution_count": null,
      "metadata": {},
      "outputs": [],
      "source": []
    }
  ],
  "metadata": {
    "kernelspec": {
      "display_name": "Python 3.10.6 64-bit",
      "language": "python",
      "name": "python3"
    },
    "language_info": {
      "codemirror_mode": {
        "name": "ipython",
        "version": 3
      },
      "file_extension": ".py",
      "mimetype": "text/x-python",
      "name": "python",
      "nbconvert_exporter": "python",
      "pygments_lexer": "ipython3",
      "version": "3.10.8"
    },
    "vscode": {
      "interpreter": {
        "hash": "b0fa6594d8f4cbf19f97940f81e996739fb7646882a419484c72d19e05852a7e"
      }
    }
  },
  "nbformat": 4,
  "nbformat_minor": 4
}
