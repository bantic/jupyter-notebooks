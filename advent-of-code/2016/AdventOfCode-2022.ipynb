{
  "cells": [
    {
      "cell_type": "code",
      "execution_count": 1,
      "metadata": {},
      "outputs": [],
      "source": [
        "# allows editing aoc_utils \"live\" without restarting kernel\n",
        "# see https://ipython.org/ipython-doc/stable/config/extensions/autoreload.html\n",
        "# and https://stackoverflow.com/a/17551284\n",
        "%load_ext autoreload\n",
        "%autoreload 2\n",
        "\n",
        "# Add the aoc_utils path\n",
        "import os\n",
        "import sys\n",
        "module_path = os.path.abspath(os.path.join('..'))\n",
        "if module_path not in sys.path:\n",
        "    sys.path.append(module_path)\n",
        "\n",
        "import aoc_utils\n",
        "get_input = aoc_utils.get_input\n",
        "print = aoc_utils.debug_print\n"
      ]
    },
    {
      "cell_type": "code",
      "execution_count": 2,
      "metadata": {},
      "outputs": [],
      "source": [
        "# Useful imports\n",
        "import re\n",
        "from collections import defaultdict, deque\n",
        "import heapq\n",
        "import functools\n",
        "import queue\n",
        "import itertools\n",
        "import math"
      ]
    },
    {
      "cell_type": "code",
      "execution_count": 19,
      "metadata": {},
      "outputs": [],
      "source": [
        "data = get_input(1, 2022)\n",
        "\n",
        "xs = [sum(map(int, grp)) for grp in list(aoc_utils.split_list(data))]\n",
        "p1 = max(xs)\n",
        "p2 = sum(list(reversed(sorted(xs)))[:3])\n",
        "assert p1,p2 == (66616, 199172)"
      ]
    },
    {
      "cell_type": "code",
      "execution_count": 21,
      "metadata": {},
      "outputs": [
        {
          "name": "stdout",
          "output_type": "stream",
          "text": [
            "<article><p>That's not the right answer; your answer is too low.  If you're stuck, make sure you're using the full input data; there are also some general tips on the <a href=\"/2019/about\">about page</a>, or you can ask for hints on the <a href=\"https://www.reddit.com/r/adventofcode/\" target=\"_blank\">subreddit</a>.  Please wait one minute before trying again. (You guessed <span style=\"white-space:nowrap;\"><code>153</code>.)</span> <a href=\"/2019/day/21\">[Return to Day 21]</a></p></article>\n",
            "\n"
          ]
        }
      ],
      "source": []
    },
    {
      "cell_type": "code",
      "execution_count": null,
      "metadata": {},
      "outputs": [],
      "source": []
    }
  ],
  "metadata": {
    "kernelspec": {
      "display_name": "Python 3.10.6 64-bit",
      "language": "python",
      "name": "python3"
    },
    "language_info": {
      "codemirror_mode": {
        "name": "ipython",
        "version": 3
      },
      "file_extension": ".py",
      "mimetype": "text/x-python",
      "name": "python",
      "nbconvert_exporter": "python",
      "pygments_lexer": "ipython3",
      "version": "3.10.8"
    },
    "vscode": {
      "interpreter": {
        "hash": "b0fa6594d8f4cbf19f97940f81e996739fb7646882a419484c72d19e05852a7e"
      }
    }
  },
  "nbformat": 4,
  "nbformat_minor": 4
}
