{
 "cells": [
  {
   "cell_type": "code",
   "execution_count": 1,
   "metadata": {},
   "outputs": [],
   "source": [
    "# allows editing aoc_utils \"live\" without restarting kernel\n",
    "# see https://ipython.org/ipython-doc/stable/config/extensions/autoreload.html\n",
    "# and https://stackoverflow.com/a/17551284\n",
    "%load_ext autoreload\n",
    "%autoreload 2\n",
    "\n",
    "# Add the aoc_utils path\n",
    "import os\n",
    "import sys\n",
    "module_path = os.path.abspath(os.path.join('..'))\n",
    "if module_path not in sys.path:\n",
    "    sys.path.append(module_path)\n",
    "\n",
    "import aoc_utils\n",
    "get_input = aoc_utils.get_input\n",
    "print = aoc_utils.debug_print\n",
    "\n",
    "timer = aoc_utils.start_timer()"
   ]
  },
  {
   "cell_type": "code",
   "execution_count": 2,
   "metadata": {},
   "outputs": [],
   "source": [
    "# Useful imports\n",
    "import re\n",
    "from collections import defaultdict, deque\n",
    "import heapq\n",
    "import functools\n",
    "import queue\n",
    "import itertools\n",
    "import math"
   ]
  },
  {
   "cell_type": "code",
   "execution_count": 29,
   "metadata": {},
   "outputs": [
    {
     "data": {
      "text/plain": [
       "(707, 1490)"
      ]
     },
     "execution_count": 29,
     "metadata": {},
     "output_type": "execute_result"
    }
   ],
   "source": [
    "data = get_input(11, 2017)[0].split(',')\n",
    "\n",
    "def move(pos, dir):\n",
    "  x,y = pos\n",
    "  if dir == 'n':\n",
    "    return (x, y-2)\n",
    "  elif dir == 's':\n",
    "    return (x, y+2)\n",
    "  elif dir == 'ne':\n",
    "    return (x+1,y-1)\n",
    "  elif dir == 'se':\n",
    "    return (x+1,y+1)\n",
    "  elif dir == 'sw':\n",
    "    return (x-1,y+1)\n",
    "  elif dir == 'nw':\n",
    "    return (x-1,y-1)\n",
    "\n",
    "def moves(pos, dirs):\n",
    "  for dir in dirs:\n",
    "    pos = move(pos, dir)\n",
    "  return pos\n",
    "\n",
    "assert moves((0,0), ['n','s']) == (0,0)\n",
    "assert moves((0,0), ['ne','sw']) == (0,0)\n",
    "assert moves((0,0), ['ne','nw', 's']) == (0,0)\n",
    "assert moves((0,0), ['ne','nw', 's']) == (0,0)\n",
    "assert moves((0,0), ['se','n', 'nw', 's']) == (0,0)\n",
    "assert moves((0,0), ['sw','n', 'se']) == (0,0)\n",
    "assert moves((0,0), ['sw','se', 'n']) == (0,0)\n",
    "\n",
    "def hex_dist(a,b):\n",
    "  x,y = a\n",
    "  x2,y2 = b\n",
    "  dy = abs(y2-y)\n",
    "  dx = abs(x2-x)\n",
    "  steps = 0\n",
    "\n",
    "  # go diag\n",
    "  while dx >= 1 and dy >= 1:\n",
    "    dx -= 1\n",
    "    dy -= 1\n",
    "    steps += 1\n",
    "\n",
    "  if dx == 0 and dy == 0: return steps\n",
    "\n",
    "  while not (dx == 0 and dy == 0):\n",
    "    if dx == 0:\n",
    "      assert dy >= 2\n",
    "      assert dy % 2 == 0\n",
    "      steps += dy // 2\n",
    "      return steps\n",
    "    if dy == 0:\n",
    "      steps += dx\n",
    "      return steps\n",
    "    assert False\n",
    "  assert False\n",
    "\n",
    "pos = moves( (0,0), data)\n",
    "pos\n",
    "\n",
    "p1 = hex_dist((0,0), pos)\n",
    "\n",
    "\n",
    "max_steps = 0\n",
    "pos = (0,0)\n",
    "for line in data:\n",
    "  pos = move(pos, line)\n",
    "  steps = hex_dist((0,0), pos)\n",
    "  if steps > max_steps:\n",
    "    max_steps = steps\n",
    "\n",
    "p2 = max_steps\n",
    "p1,p2\n"
   ]
  }
 ],
 "metadata": {
  "kernelspec": {
   "display_name": "Python 3.10.6 64-bit",
   "language": "python",
   "name": "python3"
  },
  "language_info": {
   "codemirror_mode": {
    "name": "ipython",
    "version": 3
   },
   "file_extension": ".py",
   "mimetype": "text/x-python",
   "name": "python",
   "nbconvert_exporter": "python",
   "pygments_lexer": "ipython3",
   "version": "3.10.8"
  },
  "vscode": {
   "interpreter": {
    "hash": "b0fa6594d8f4cbf19f97940f81e996739fb7646882a419484c72d19e05852a7e"
   }
  }
 },
 "nbformat": 4,
 "nbformat_minor": 4
}
