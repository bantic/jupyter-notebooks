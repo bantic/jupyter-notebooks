{
 "cells": [
  {
   "cell_type": "markdown",
   "metadata": {},
   "source": [
    "# Z3 Tutorial\n",
    "\n",
    "Following examples from https://sat-smt.codes/SAT_SMT_by_example.pdf"
   ]
  },
  {
   "cell_type": "code",
   "execution_count": 2,
   "metadata": {},
   "outputs": [],
   "source": [
    "from z3 import *"
   ]
  },
  {
   "cell_type": "code",
   "execution_count": 4,
   "metadata": {},
   "outputs": [
    {
     "data": {
      "text/plain": [
       "(sat, [y = -2, x = 1, z = -2])"
      ]
     },
     "execution_count": 4,
     "metadata": {},
     "output_type": "execute_result"
    }
   ],
   "source": [
    "x = Real('x')\n",
    "y = Real('y')\n",
    "z = Real('z')\n",
    "s = Solver()\n",
    "s.add(3*x + 2*y - z == 1)\n",
    "s.add(2*x - 2*y + 4*z == -2)\n",
    "s.add(-x + 0.5*y - z == 0)\n",
    "s.check(),s.model()"
   ]
  },
  {
   "cell_type": "code",
   "execution_count": 6,
   "metadata": {},
   "outputs": [
    {
     "data": {
      "text/plain": [
       "(sat, [circle = 5, square = 2, triangle = 1])"
      ]
     },
     "execution_count": 6,
     "metadata": {},
     "output_type": "execute_result"
    }
   ],
   "source": [
    "circle, square, triangle = Ints('circle square triangle')\n",
    "s = Solver()\n",
    "s.add(circle+circle == 10)\n",
    "s.add(circle*square+square==12)\n",
    "s.add(circle*square - triangle*circle == circle)\n",
    "s.check(),s.model()"
   ]
  },
  {
   "cell_type": "code",
   "execution_count": 37,
   "metadata": {},
   "outputs": [
    {
     "data": {
      "text/html": [
       "[d = 0, b = 0, a = 7, f = 0, c = 0, e = 0]"
      ],
      "text/plain": [
       "[d = 0, b = 0, a = 7, f = 0, c = 0, e = 0]"
      ]
     },
     "execution_count": 37,
     "metadata": {},
     "output_type": "execute_result"
    }
   ],
   "source": [
    "# https://xkcd.com/287/\n",
    "\n",
    "a,b,c,d,e,f= Ints('a b c d e f')\n",
    "s = Solver()\n",
    "s.add(a <= 10)\n",
    "s.add(a >= 0)\n",
    "s.add(b <= 10)\n",
    "s.add(b >= 0)\n",
    "s.add(c <= 10)\n",
    "s.add(c >= 0)\n",
    "s.add(d <= 10)\n",
    "s.add(d >= 0)\n",
    "s.add(e <= 10)\n",
    "s.add(e >= 0)\n",
    "s.add(f <= 10)\n",
    "s.add(f >= 0)\n",
    "s.add(a*215+b*275+c*335+d*355+e*420+f*580 == 1505)\n",
    "#s.add(z3.And(a != 7,b != 1))\n",
    "s.check()\n",
    "m=s.model()\n",
    "m\n",
    "# while s.check():\n",
    "#   m = s.model()\n",
    "#   print(m)\n",
    "#   s.add(z3.Not(z3.And(a==m[\"a\"], b==m[\"b\"], c==m[\"c\"], d==m[\"d\"], e==m[\"e\"], f==m[\"f\"])))"
   ]
  },
  {
   "cell_type": "code",
   "execution_count": 45,
   "metadata": {},
   "outputs": [
    {
     "name": "stdout",
     "output_type": "stream",
     "text": [
      "[d = 0, b = 0, a = 7, f = 0, c = 0, e = 0]\n",
      "[c = 0, d = 2, e = 0, f = 1, b = 0, a = 1]\n",
      "results total= 2\n"
     ]
    }
   ],
   "source": [
    "a,b,c,d,e,f = Ints('a b c d e f')\n",
    "s = Solver()\n",
    "s.add(215*a + 275*b + 335*c + 355*d + 420*e + 580*f == 1505, a>=0, b>=0, c>=0, d>=0, e>=0, f>=0)\n",
    "\n",
    "results=[]\n",
    "\n",
    "# enumerate all possible solutions:\n",
    "while True:\n",
    "    if s.check() == sat:\n",
    "        m = s.model()\n",
    "        print (m)\n",
    "        results.append(m)\n",
    "        block = []\n",
    "        for d in m:\n",
    "            c=d()\n",
    "            block.append(c != m[d])\n",
    "        s.add(Or(block))\n",
    "    else:\n",
    "        print (\"results total=\", len(results))\n",
    "        break"
   ]
  },
  {
   "cell_type": "code",
   "execution_count": 46,
   "metadata": {},
   "outputs": [
    {
     "data": {
      "text/plain": [
       "(sat,\n",
       " [cutC = 0,\n",
       "  cutB = 25,\n",
       "  cutD = 0,\n",
       "  outB = 400,\n",
       "  outA = 800,\n",
       "  cutA = 250])"
      ]
     },
     "execution_count": 46,
     "metadata": {},
     "output_type": "execute_result"
    }
   ],
   "source": [
    "s = Optimize()\n",
    "workpieces_total=Int('workpieces_total')\n",
    "cutA,cutB,cutC,cutD = Ints('cutA cutB cutC cutD')\n",
    "outA,outB=Ints('outA outB')\n",
    "s.add(cutA>=0)\n",
    "s.add(cutB>=0)\n",
    "s.add(cutC>=0)\n",
    "s.add(cutD>=0)\n",
    "s.add(outA==cutA*3+cutB*2+cutC*1)\n",
    "s.add(outB==cutA*1+cutB*6+cutC*9+cutD*13)\n",
    "s.add(outA==800)\n",
    "s.add(outB==400)\n",
    "s.minimize(workpieces_total)\n",
    "s.check(),s.model()"
   ]
  },
  {
   "cell_type": "code",
   "execution_count": 48,
   "metadata": {},
   "outputs": [
    {
     "data": {
      "text/plain": [
       "(sat, [rabbit = 3, dog = 17, cat = 7])"
      ]
     },
     "execution_count": 48,
     "metadata": {},
     "output_type": "execute_result"
    }
   ],
   "source": [
    "s = Solver()\n",
    "rabbit,cat,dog = Ints('rabbit cat dog')\n",
    "s.add(cat+rabbit==10)\n",
    "s.add(dog+rabbit==20)\n",
    "s.add(dog+cat==24)\n",
    "s.check(),s.model()"
   ]
  },
  {
   "cell_type": "code",
   "execution_count": 51,
   "metadata": {},
   "outputs": [
    {
     "data": {
      "text/plain": [
       "(sat, [var_0 = 0, var_1 = 1, var_2 = 1, var_3 = 1, var_4 = 0])"
      ]
     },
     "execution_count": 51,
     "metadata": {},
     "output_type": "execute_result"
    }
   ],
   "source": [
    "# Subset sum\n",
    "\n",
    "items = [-7,-3,-2,5,8]\n",
    "vars=[Int(f\"var_{i}\") for i in range(len(items))]\n",
    "s = Solver()\n",
    "rt = []\n",
    "for i in range(len(items)):\n",
    "  rt.append(vars[i]*items[i])\n",
    "  s.add(z3.Or(vars[i]==0,vars[i]==1))\n",
    "\n",
    "s.add(sum(rt)==0)\n",
    "s.add(sum(vars)>=1)\n",
    "s.check(),s.model()"
   ]
  },
  {
   "cell_type": "code",
   "execution_count": 61,
   "metadata": {},
   "outputs": [
    {
     "data": {
      "text/plain": [
       "([y = 1/3, x = 1], 4)"
      ]
     },
     "execution_count": 61,
     "metadata": {},
     "output_type": "execute_result"
    }
   ],
   "source": [
    "# The sum of two nonzero real numbers is 4 times their product.\n",
    "# What is the sum of the reciprocals of the two numbers?\n",
    "\n",
    "x,y=Reals('x y')\n",
    "s=Solver()\n",
    "s.add(x>0,y>0,x+y==4*x*y)\n",
    "s.check()\n",
    "m = s.model()\n",
    "(m,m.evaluate(1/x+1/y))"
   ]
  },
  {
   "cell_type": "code",
   "execution_count": 66,
   "metadata": {},
   "outputs": [
    {
     "data": {
      "text/html": [
       "2863311531"
      ],
      "text/plain": [
       "2863311531"
      ]
     },
     "execution_count": 66,
     "metadata": {},
     "output_type": "execute_result"
    }
   ],
   "source": [
    "m = BitVec('m', 32)\n",
    "s = Solver()\n",
    "divisor=3\n",
    "const=(0x1234567*divisor)\n",
    "s.add(const*m==const/divisor)\n",
    "s.check()\n",
    "s.model()[m]"
   ]
  },
  {
   "cell_type": "code",
   "execution_count": 68,
   "metadata": {},
   "outputs": [
    {
     "name": "stdout",
     "output_type": "stream",
     "text": [
      "WIDTH= 9 HEIGHT= 9\n",
      "row=1 col=3, unsat!\n",
      "row=6 col=2, unsat!\n",
      "row=6 col=3, unsat!\n",
      "row=7 col=4, unsat!\n",
      "row=7 col=9, unsat!\n",
      "row=8 col=9, unsat!\n"
     ]
    }
   ],
   "source": [
    "known=[\n",
    "\"01?10001?\",\n",
    "\"01?100011\",\n",
    "\"011100000\",\n",
    "\"000000000\",\n",
    "\"111110011\",\n",
    "\"????1001?\",\n",
    "\"????3101?\",\n",
    "\"?????211?\",\n",
    "\"?????????\"]\n",
    "\n",
    "WIDTH=len(known[0])\n",
    "HEIGHT=len(known)\n",
    "print (\"WIDTH=\", WIDTH , \"HEIGHT=\", HEIGHT)\n",
    "\n",
    "def chk_bomb(row, col):\n",
    "  s=Solver()\n",
    "  cells=[[Int('r%d_c%d' % (r,c)) for c in range(WIDTH+2)] for r in range(HEIGHT+2)]\n",
    "  # make border\n",
    "  for c in range(WIDTH+2):\n",
    "    s.add(cells[0][c]==0)\n",
    "    s.add(cells[HEIGHT+1][c]==0)\n",
    "  for r in range(HEIGHT+2):\n",
    "    s.add(cells[r][0]==0)\n",
    "    s.add(cells[r][WIDTH+1]==0)\n",
    "  for r in range(1,HEIGHT+1):\n",
    "    for c in range(1,WIDTH+1):\n",
    "      s.add(z3.Or(cells[r][c]==0, cells[r][c]==1))\n",
    "      t = known[r-1][c-1]\n",
    "      if t in \"012345678\":\n",
    "        s.add(cells[r][c]==0)\n",
    "        expr = cells[r-1][c-1] + cells[r-1][c] + cells[r-1][c+1] + cells[r][c-1] + cells[r][c+1] + cells[r+1][c-1] + cells[r+1][c] + cells[r +1][c+1]==int(t)\n",
    "        if False:\n",
    "          print(expr)\n",
    "        s.add(expr)\n",
    "\n",
    "  s.add(cells[row][col]==1)\n",
    "  if s.check() == unsat:\n",
    "    print(f\"row={row} col={col}, unsat!\")\n",
    "\n",
    "for r in range(1,HEIGHT+1):\n",
    "  for c in range(1,WIDTH+1):\n",
    "    if known[r-1][c-1]==\"?\":\n",
    "      chk_bomb(r,c)"
   ]
  },
  {
   "cell_type": "code",
   "execution_count": 80,
   "metadata": {},
   "outputs": [
    {
     "name": "stdout",
     "output_type": "stream",
     "text": [
      "factors of 123456: 24, 5144\n",
      "factors of 24: 12, 2\n",
      "factors of 12: 4, 3\n",
      "factors of 4: 2, 2\n",
      "2 is prime\n",
      "2 is prime\n",
      "3 is prime\n",
      "2 is prime\n",
      "factors of 5144: 8, 643\n",
      "factors of 8: 4, 2\n",
      "factors of 4: 2, 2\n",
      "2 is prime\n",
      "2 is prime\n",
      "2 is prime\n",
      "643 is prime\n"
     ]
    },
    {
     "data": {
      "text/plain": [
       "[2, 2, 3, 2, 2, 2, 2, 643]"
      ]
     },
     "execution_count": 80,
     "metadata": {},
     "output_type": "execute_result"
    }
   ],
   "source": [
    "def factor(n):\n",
    "  in1,in2,out=Ints('in1 in2 out')\n",
    "  s = Solver()\n",
    "  s.add(out==n, in1*in2==out ,in1>1,in2>1)\n",
    "  if s.check() == unsat:\n",
    "    print(f\"{n} is prime\")\n",
    "    return [n]\n",
    "  if s.check() ==unknown:\n",
    "    print(f\"{n} is probably prime\")\n",
    "    return [n]\n",
    "  m = s.model()\n",
    "  in1_n=m[in1]\n",
    "  in2_n=m[in2]\n",
    "  print(f\"factors of {n}: {in1_n}, {in2_n}\")\n",
    "  rt = list(factor(in1_n) + factor(in2_n))\n",
    "  return rt\n",
    "\n",
    "factor(123456)\n"
   ]
  },
  {
   "cell_type": "code",
   "execution_count": 4,
   "metadata": {},
   "outputs": [
    {
     "name": "stdout",
     "output_type": "stream",
     "text": [
      "[d6Off = 6,\n",
      " d3Init = 10,\n",
      " d1Size = 5,\n",
      " d5Off = 5,\n",
      " d2Init = 7,\n",
      " d6Size = 7,\n",
      " d4Off = 4,\n",
      " d1Init = 2,\n",
      " d5Size = 19,\n",
      " d3Off = 3,\n",
      " d6Init = 0,\n",
      " d4Size = 3,\n",
      " d2Off = 2,\n",
      " d5Init = 9,\n",
      " d3Size = 17,\n",
      " d1Off = 1,\n",
      " d4Init = 2,\n",
      " d2Size = 13,\n",
      " t = 148737]\n"
     ]
    },
    {
     "data": {
      "text/plain": [
       "(148737,)"
      ]
     },
     "execution_count": 4,
     "metadata": {},
     "output_type": "execute_result"
    }
   ],
   "source": [
    "# Advent of Code 2016 Day 15 https://adventofcode.com/2016/day/15\n",
    "def Day15Z3():\n",
    "  def solve(part2=False):\n",
    "    s = Solver()\n",
    "    t = Int('t')\n",
    "    d1Off,d1Size,d1Init = Ints('d1Off d1Size d1Init')\n",
    "    d2Off,d2Size,d2Init = Ints('d2Off d2Size d2Init')\n",
    "    d3Off,d3Size,d3Init = Ints('d3Off d3Size d3Init')\n",
    "    d4Off,d4Size,d4Init = Ints('d4Off d4Size d4Init')\n",
    "    d5Off,d5Size,d5Init = Ints('d5Off d5Size d5Init')\n",
    "    d6Off,d6Size,d6Init = Ints('d6Off d6Size d6Init')\n",
    "    if part2:\n",
    "      d7Off,d7Size,d7Init = Ints('d7Off d7Size d7Init')\n",
    "    s.add(d1Off == 1, d1Size == 5, d1Init == 2)\n",
    "    s.add(d2Off == 2, d2Size == 13, d2Init == 7)\n",
    "    s.add(d3Off == 3, d3Size == 17, d3Init == 10)\n",
    "    s.add(d4Off == 4, d4Size == 3, d4Init == 2)\n",
    "    s.add(d5Off == 5, d5Size == 19, d5Init == 9)\n",
    "    s.add(d6Off == 6, d6Size == 7, d6Init == 0)\n",
    "    if part2:\n",
    "      s.add(d7Off == 7, d7Size == 11, d7Init == 0)\n",
    "    s.add( (t + d1Off + d1Init) % d1Size == 0 )\n",
    "    s.add( (t + d2Off + d2Init) % d2Size == 0 )\n",
    "    s.add( (t + d3Off + d3Init) % d3Size == 0 )\n",
    "    s.add( (t + d4Off + d4Init) % d4Size == 0 )\n",
    "    s.add( (t + d5Off + d5Init) % d5Size == 0 )\n",
    "    s.add( (t + d6Off + d6Init) % d6Size == 0 )\n",
    "    if part2:\n",
    "      s.add( (t + d7Off + d7Init) % d7Size == 0 )\n",
    "    s.add(t > 0)\n",
    "    s.check()\n",
    "    model = s.model()\n",
    "    print(model)\n",
    "    return model[t]\n",
    "\n",
    "  return solve(part2=False), # part2 is too slow, take 15 minutes +\n",
    "\n",
    "Day15Z3()"
   ]
  },
  {
   "cell_type": "code",
   "execution_count": null,
   "metadata": {},
   "outputs": [],
   "source": []
  }
 ],
 "metadata": {
  "interpreter": {
   "hash": "aee8b7b246df8f9039afb4144a1f6fd8d2ca17a180786b69acc140d282b71a49"
  },
  "kernelspec": {
   "display_name": "Python 3.9.8 64-bit",
   "language": "python",
   "name": "python3"
  },
  "language_info": {
   "codemirror_mode": {
    "name": "ipython",
    "version": 3
   },
   "file_extension": ".py",
   "mimetype": "text/x-python",
   "name": "python",
   "nbconvert_exporter": "python",
   "pygments_lexer": "ipython3",
   "version": "3.9.8"
  },
  "orig_nbformat": 4
 },
 "nbformat": 4,
 "nbformat_minor": 2
}
