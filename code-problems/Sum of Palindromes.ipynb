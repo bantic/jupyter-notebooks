{
 "cells": [
  {
   "cell_type": "markdown",
   "metadata": {},
   "source": [
    "# Given a number n, find the sum of all n-digit palindromes.\n",
    "\n",
    "Example:\n",
    "\n",
    "```\n",
    "> nPalindromes(2)\n",
    "> 495 // 11 + 22 + 33 + 44 + 55 + 66 + 77 + 88 + 99\n",
    "```\n",
    "\n",
    "Source: Cassidoo interview question of the week for [January 13 2020](https://buttondown.email/cassidoo/archive/your-heart-is-full-of-fertile-seeds-waiting-to/)"
   ]
  },
  {
   "cell_type": "code",
   "execution_count": 2,
   "metadata": {},
   "outputs": [],
   "source": [
    "from math import ceil\n",
    "\n",
    "def unique_numbers_of_length(n):\n",
    "    assert n > 0\n",
    "    start = 10**(n-1)\n",
    "    end   = 10**n\n",
    "    return range(start, end)\n",
    "\n",
    "assert 11 in unique_numbers_of_length(2)\n",
    "assert 19 in unique_numbers_of_length(2)\n",
    "assert 192 in unique_numbers_of_length(3)\n",
    "assert all([\n",
    "    len(str(x)) == 3\n",
    "    for x in unique_numbers_of_length(3)\n",
    "])\n",
    "assert all([\n",
    "    len(str(x)) == 4\n",
    "    for x in unique_numbers_of_length(4)\n",
    "])\n",
    "\n",
    "def is_palindrome(n):\n",
    "    return str(n) == ''.join(reversed(str(n)))\n",
    "\n",
    "def palindromes(n):\n",
    "    return [\n",
    "        # left-half + right-half, which is the reversed string up to\n",
    "        #             the mid-point (n//2)-1\n",
    "        int(str(i) + str(i)[(n//2)-1::-1])\n",
    "        for i in unique_numbers_of_length(ceil(n/2))\n",
    "    ]\n",
    "\n",
    "assert 11 in palindromes(2)\n",
    "assert 99 in palindromes(2)\n",
    "assert 101 in palindromes(3)\n",
    "assert 102 not in palindromes(3)\n",
    "assert all([\n",
    "    len(str(x)) == 3\n",
    "    for x in palindromes(3)\n",
    "])\n",
    "assert all([\n",
    "    is_palindrome(x)\n",
    "    for x in palindromes(3)\n",
    "])\n",
    "\n",
    "def nPalindromes(n):\n",
    "    return sum(palindromes(n))\n",
    "\n",
    "assert nPalindromes(2) == 495\n"
   ]
  },
  {
   "cell_type": "markdown",
   "metadata": {},
   "source": [
    "# Scratch Work\n",
    "\n",
    "Working on an analytical solution"
   ]
  },
  {
   "cell_type": "code",
   "execution_count": 3,
   "metadata": {},
   "outputs": [
    {
     "data": {
      "text/plain": [
       "495"
      ]
     },
     "execution_count": 3,
     "metadata": {},
     "output_type": "execute_result"
    }
   ],
   "source": [
    "nPalindromes(2)"
   ]
  },
  {
   "cell_type": "code",
   "execution_count": 4,
   "metadata": {},
   "outputs": [
    {
     "data": {
      "text/plain": [
       "49500"
      ]
     },
     "execution_count": 4,
     "metadata": {},
     "output_type": "execute_result"
    }
   ],
   "source": [
    "a = range(1,10)\n",
    "b = range(10)\n",
    "\n",
    "ps = [\n",
    "    101*a+10*b for a in range(1,10) for b in range(10)\n",
    "]\n",
    "assert all(map(is_palindrome, ps))\n",
    "\n",
    "\n",
    "sum(a)*101*len(b)+sum(b)*10*len(a)\n"
   ]
  },
  {
   "cell_type": "code",
   "execution_count": 5,
   "metadata": {},
   "outputs": [
    {
     "data": {
      "text/plain": [
       "49500"
      ]
     },
     "execution_count": 5,
     "metadata": {},
     "output_type": "execute_result"
    }
   ],
   "source": [
    "nPalindromes(3)"
   ]
  },
  {
   "cell_type": "code",
   "execution_count": 6,
   "metadata": {},
   "outputs": [
    {
     "data": {
      "text/plain": [
       "495000"
      ]
     },
     "execution_count": 6,
     "metadata": {},
     "output_type": "execute_result"
    }
   ],
   "source": [
    "a = range(1,10)\n",
    "b = range(10)\n",
    "sum(a)*1001*len(b)+sum(b)*110*len(a)"
   ]
  },
  {
   "cell_type": "code",
   "execution_count": 7,
   "metadata": {},
   "outputs": [
    {
     "data": {
      "text/plain": [
       "495000"
      ]
     },
     "execution_count": 7,
     "metadata": {},
     "output_type": "execute_result"
    }
   ],
   "source": [
    "nPalindromes(4)"
   ]
  },
  {
   "cell_type": "code",
   "execution_count": 8,
   "metadata": {},
   "outputs": [
    {
     "data": {
      "text/plain": [
       "49500000"
      ]
     },
     "execution_count": 8,
     "metadata": {},
     "output_type": "execute_result"
    }
   ],
   "source": [
    "a = range(1,10)\n",
    "b = range(10)\n",
    "c = range(10)\n",
    "\n",
    "sum(a)*10001*len(b)*len(c) + \\\n",
    "    sum(b)*1010*len(a)*len(c) + \\\n",
    "    sum(c)*100*len(a)*len(b)\n"
   ]
  },
  {
   "cell_type": "code",
   "execution_count": 9,
   "metadata": {},
   "outputs": [
    {
     "data": {
      "text/plain": [
       "(49500000, 495000000, 49500000000, 495000000000, 49500000000000)"
      ]
     },
     "execution_count": 9,
     "metadata": {},
     "output_type": "execute_result"
    }
   ],
   "source": [
    "nPalindromes(5), nPalindromes(6), nPalindromes(7), nPalindromes(8), nPalindromes(9)"
   ]
  },
  {
   "cell_type": "code",
   "execution_count": 10,
   "metadata": {},
   "outputs": [
    {
     "data": {
      "text/plain": [
       "495"
      ]
     },
     "execution_count": 10,
     "metadata": {},
     "output_type": "execute_result"
    }
   ],
   "source": [
    "nPalindromes(2)"
   ]
  },
  {
   "cell_type": "code",
   "execution_count": 11,
   "metadata": {},
   "outputs": [
    {
     "name": "stdout",
     "output_type": "stream",
     "text": [
      "2 0.0\n",
      "3 2.0\n",
      "4 3.0\n",
      "5 5.0\n",
      "6 6.0\n",
      "7 8.0\n",
      "8 9.0\n",
      "9 11.0\n",
      "10 12.0\n",
      "11 14.0\n",
      "12 15.0\n"
     ]
    }
   ],
   "source": [
    "import math\n",
    "math.log10(nPalindromes(9)/495)\n",
    "\n",
    "for n in range(2,13):\n",
    "    print(n, math.log10(nPalindromes(n)/495))"
   ]
  },
  {
   "cell_type": "code",
   "execution_count": null,
   "metadata": {},
   "outputs": [],
   "source": []
  }
 ],
 "metadata": {
  "kernelspec": {
   "display_name": "Python 3",
   "language": "python",
   "name": "python3"
  },
  "language_info": {
   "codemirror_mode": {
    "name": "ipython",
    "version": 3
   },
   "file_extension": ".py",
   "mimetype": "text/x-python",
   "name": "python",
   "nbconvert_exporter": "python",
   "pygments_lexer": "ipython3",
   "version": "3.7.3"
  }
 },
 "nbformat": 4,
 "nbformat_minor": 2
}
