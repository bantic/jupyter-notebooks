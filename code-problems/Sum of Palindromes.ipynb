{
 "cells": [
  {
   "cell_type": "markdown",
   "metadata": {},
   "source": [
    "# Given a number n, find the sum of all n-digit palindromes.\n",
    "\n",
    "Example:\n",
    "\n",
    "```\n",
    "> nPalindromes(2)\n",
    "> 495 // 11 + 22 + 33 + 44 + 55 + 66 + 77 + 88 + 99\n",
    "```\n",
    "\n",
    "Source: Cassidoo interview question of the week for [January 13 2020](https://buttondown.email/cassidoo/archive/your-heart-is-full-of-fertile-seeds-waiting-to/)"
   ]
  },
  {
   "cell_type": "code",
   "execution_count": 73,
   "metadata": {},
   "outputs": [],
   "source": [
    "from math import ceil\n",
    "\n",
    "def unique_numbers_of_length(n):\n",
    "    assert n > 0\n",
    "    start = 10**(n-1)\n",
    "    end   = 10**n\n",
    "    return range(start, end)\n",
    "\n",
    "assert 11 in unique_numbers_of_length(2)\n",
    "assert 19 in unique_numbers_of_length(2)\n",
    "assert 192 in unique_numbers_of_length(3)\n",
    "assert all([\n",
    "    len(str(x)) == 3\n",
    "    for x in unique_numbers_of_length(3)\n",
    "])\n",
    "assert all([\n",
    "    len(str(x)) == 4\n",
    "    for x in unique_numbers_of_length(4)\n",
    "])\n",
    "\n",
    "\n",
    "def palindromes(n):\n",
    "    return [\n",
    "        # left-half + right-half, which is the reversed string up to\n",
    "        #             the mid-point (n//2)-1\n",
    "        int(str(i) + str(i)[(n//2)-1::-1])\n",
    "        for i in unique_numbers_of_length(ceil(n/2))\n",
    "    ]\n",
    "\n",
    "assert 11 in palindromes(2)\n",
    "assert 99 in palindromes(2)\n",
    "assert 101 in palindromes(3)\n",
    "assert 102 not in palindromes(3)\n",
    "assert all([\n",
    "    len(str(x)) == 3\n",
    "    for x in palindromes(3)\n",
    "])\n",
    "\n",
    "def nPalindromes(n):\n",
    "    return sum(palindromes(n))\n",
    "\n",
    "assert nPalindromes(2) == 495\n"
   ]
  }
 ],
 "metadata": {
  "kernelspec": {
   "display_name": "Python 3",
   "language": "python",
   "name": "python3"
  },
  "language_info": {
   "codemirror_mode": {
    "name": "ipython",
    "version": 3
   },
   "file_extension": ".py",
   "mimetype": "text/x-python",
   "name": "python",
   "nbconvert_exporter": "python",
   "pygments_lexer": "ipython3",
   "version": "3.7.3"
  }
 },
 "nbformat": 4,
 "nbformat_minor": 2
}
