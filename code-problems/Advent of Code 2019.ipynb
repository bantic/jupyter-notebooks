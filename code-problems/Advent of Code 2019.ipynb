{
 "cells": [
  {
   "cell_type": "code",
   "execution_count": 1,
   "metadata": {},
   "outputs": [],
   "source": [
    "data = \"\"\"\n",
    "101005\n",
    "139223\n",
    "112833\n",
    "70247\n",
    "131775\n",
    "106730\n",
    "118388\n",
    "138683\n",
    "80439\n",
    "71060\n",
    "120862\n",
    "67201\n",
    "70617\n",
    "79783\n",
    "114813\n",
    "77907\n",
    "78814\n",
    "107515\n",
    "113507\n",
    "81865\n",
    "88130\n",
    "75120\n",
    "66588\n",
    "56023\n",
    "98080\n",
    "128472\n",
    "96031\n",
    "118960\n",
    "54069\n",
    "112000\n",
    "62979\n",
    "105518\n",
    "73342\n",
    "52270\n",
    "128841\n",
    "68267\n",
    "70789\n",
    "94792\n",
    "100738\n",
    "102331\n",
    "83082\n",
    "77124\n",
    "97360\n",
    "86165\n",
    "66120\n",
    "139042\n",
    "50390\n",
    "105308\n",
    "94607\n",
    "58225\n",
    "77894\n",
    "118906\n",
    "127277\n",
    "101446\n",
    "58897\n",
    "93876\n",
    "53312\n",
    "117154\n",
    "77448\n",
    "62041\n",
    "99069\n",
    "87375\n",
    "134854\n",
    "108561\n",
    "126406\n",
    "53809\n",
    "90760\n",
    "121650\n",
    "79573\n",
    "134734\n",
    "148021\n",
    "84263\n",
    "54390\n",
    "132706\n",
    "148794\n",
    "67302\n",
    "146885\n",
    "76108\n",
    "76270\n",
    "54548\n",
    "146920\n",
    "145282\n",
    "129509\n",
    "144139\n",
    "141713\n",
    "62547\n",
    "149898\n",
    "96746\n",
    "83583\n",
    "107758\n",
    "63912\n",
    "142036\n",
    "112281\n",
    "91775\n",
    "75809\n",
    "82250\n",
    "144667\n",
    "140140\n",
    "98276\n",
    "103479\n",
    "\"\"\""
   ]
  },
  {
   "cell_type": "code",
   "execution_count": 6,
   "metadata": {},
   "outputs": [
    {
     "data": {
      "text/plain": [
       "3256794"
      ]
     },
     "execution_count": 6,
     "metadata": {},
     "output_type": "execute_result"
    }
   ],
   "source": [
    "sum([x//3-2 for x in map(int, data.strip().split('\\n'))])"
   ]
  },
  {
   "cell_type": "code",
   "execution_count": 7,
   "metadata": {},
   "outputs": [],
   "source": [
    "def neededFuel(mass):\n",
    "    if mass <= 0:\n",
    "        return 0\n",
    "    needed = mass // 3 - 2\n",
    "    if needed <= 0:\n",
    "        return 0\n",
    "    else:\n",
    "        return needed + neededFuel(needed)"
   ]
  },
  {
   "cell_type": "code",
   "execution_count": 8,
   "metadata": {},
   "outputs": [
    {
     "data": {
      "text/plain": [
       "4882337"
      ]
     },
     "execution_count": 8,
     "metadata": {},
     "output_type": "execute_result"
    }
   ],
   "source": [
    "sum([neededFuel(x) for x in map(int, data.strip().split('\\n'))])"
   ]
  },
  {
   "cell_type": "markdown",
   "metadata": {},
   "source": [
    "# [Day 2](https://adventofcode.com/2019/day/2)\n"
   ]
  },
  {
   "cell_type": "code",
   "execution_count": 12,
   "metadata": {},
   "outputs": [],
   "source": [
    "text = \"1,0,0,3,1,1,2,3,1,3,4,3,1,5,0,3,2,1,6,19,1,9,19,23,1,6,23,27,1,10,27,31,1,5,31,35,2,6,35,39,1,5,39,43,1,5,43,47,2,47,6,51,1,51,5,55,1,13,55,59,2,9,59,63,1,5,63,67,2,67,9,71,1,5,71,75,2,10,75,79,1,6,79,83,1,13,83,87,1,10,87,91,1,91,5,95,2,95,10,99,2,9,99,103,1,103,6,107,1,107,10,111,2,111,10,115,1,115,6,119,2,119,9,123,1,123,6,127,2,127,10,131,1,131,6,135,2,6,135,139,1,139,5,143,1,9,143,147,1,13,147,151,1,2,151,155,1,10,155,0,99,2,14,0,0\""
   ]
  },
  {
   "cell_type": "code",
   "execution_count": 29,
   "metadata": {
    "scrolled": true
   },
   "outputs": [
    {
     "name": "stdout",
     "output_type": "stream",
     "text": [
      "6087827 5379\n"
     ]
    }
   ],
   "source": [
    "class Day2:\n",
    "    def solve(self, text, noun=12, verb=2):\n",
    "        ip = 0\n",
    "        done = False\n",
    "        data = list(map(int, text.split(\",\")))\n",
    "        \n",
    "        # prepare data\n",
    "        data[1] = noun\n",
    "        data[2] = verb\n",
    "        \n",
    "        while not done:\n",
    "            op = data[ip]\n",
    "            if op == 1 or op == 2:\n",
    "                dest = data[ip+3]\n",
    "                operands = [data[data[ip+1]], data[data[ip+2]]]\n",
    "                value = None\n",
    "                if op == 1:\n",
    "                    value = operands[0]+operands[1]\n",
    "                else:\n",
    "                    value = operands[0]*operands[1]\n",
    "                data[dest] = value\n",
    "                ip += 4\n",
    "            elif op == 99:\n",
    "                done = True\n",
    "            else:\n",
    "                raise \"Unknown opcode {}\".format(op)\n",
    "\n",
    "        return data[0]\n",
    "    def solveB(self, text):\n",
    "        target = 19690720\n",
    "        for noun in range(100):\n",
    "            for verb in range(100):\n",
    "                try:\n",
    "                    result = self.solve(text, noun, verb)\n",
    "                    if result == target:\n",
    "                        return noun*100+verb\n",
    "                except:\n",
    "                    next\n",
    "            \n",
    "        \n",
    "print(Day2().solve(text), Day2().solveB(text))"
   ]
  },
  {
   "cell_type": "code",
   "execution_count": null,
   "metadata": {},
   "outputs": [],
   "source": []
  }
 ],
 "metadata": {
  "kernelspec": {
   "display_name": "Python 3",
   "language": "python",
   "name": "python3"
  },
  "language_info": {
   "codemirror_mode": {
    "name": "ipython",
    "version": 3
   },
   "file_extension": ".py",
   "mimetype": "text/x-python",
   "name": "python",
   "nbconvert_exporter": "python",
   "pygments_lexer": "ipython3",
   "version": "3.7.3"
  }
 },
 "nbformat": 4,
 "nbformat_minor": 2
}
