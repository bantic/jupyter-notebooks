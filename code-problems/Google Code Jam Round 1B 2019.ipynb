{
 "cells": [
  {
   "cell_type": "code",
   "execution_count": 28,
   "metadata": {},
   "outputs": [],
   "source": [
    "from collections import defaultdict\n",
    "def solve(P,Q,Ps):\n",
    "    assert len(Ps) == P\n",
    "    grid = defaultdict(lambda: 0)\n",
    "    for (x,y,d) in Ps:\n",
    "        populate_grid(Q,grid,x,y,d)\n",
    "        print_grid(Q,grid)\n",
    "    most = max(grid.values())\n",
    "    minX = Q\n",
    "    minY = Q\n",
    "    for (x,y),v in grid.items():\n",
    "        if v == most:\n",
    "            if x < minX:\n",
    "                minX = x\n",
    "                minY = y\n",
    "            elif x == minX and y < minY:\n",
    "                minY = y\n",
    "    return (minX,minY)\n",
    "\n",
    "def print_grid(Q,grid):\n",
    "    return\n",
    "    out = \"\"\n",
    "    for y in range(Q,-1,-1):\n",
    "        for x in range(0,Q+1):\n",
    "            out += f\" {grid[(x,y)]} \" \n",
    "        out += \"\\n\"\n",
    "    print(out)\n",
    "        \n",
    "def populate_grid(Q,grid,x1,y1,d):\n",
    "#     print(f\"pop grid {x1} {y1}->{d}\")\n",
    "    if d == 'N':\n",
    "        for y in range(y1+1,Q+1):\n",
    "            for x in range(0,Q+1):\n",
    "                grid[(x,y)] += 1\n",
    "    if d == 'E':\n",
    "        y = y1\n",
    "        for x in range(x1+1,Q+1):\n",
    "            for y in range(0,Q+1):\n",
    "                grid[(x,y)] += 1\n",
    "    if d == 'S':\n",
    "        x = x1\n",
    "        for y in range(y1-1,-1,-1):\n",
    "            for x in range(0,Q+1):\n",
    "                grid[(x,y)] += 1\n",
    "    if d == 'W':\n",
    "        y = y1\n",
    "        for x in range(x1-1,-1,-1):\n",
    "            for y in range(0,Q+1):\n",
    "                grid[(x,y)] += 1\n",
    "\n",
    "(N,E,W,S) = ('N','E','W','S')\n",
    "P = 4\n",
    "Q = 10\n",
    "Ps = [(2,4,N),(2,6,S),(1,5,E),(3,5,W)]\n",
    "# Ps = [(5,5,N)]\n",
    "assert solve(1,10,[(5,5,N)]) == (0,6)\n",
    "assert solve(4,10,[(2,4,N),(2,6,S),(1,5,E),(3,5,W)]) == (2,5)\n",
    "assert solve(8,10,[\n",
    "    (0,2,S),(0,3,N),(0,3,N),(0,4,N),(0,5,S),(0,5,S),(0,8,S),(1,5,W)\n",
    "]) == (0, 4)"
   ]
  },
  {
   "cell_type": "code",
   "execution_count": null,
   "metadata": {},
   "outputs": [
    {
     "name": "stdout",
     "output_type": "stream",
     "text": [
      "3\n",
      "1 10\n",
      "5 5 N\n",
      "1 10 [(5, 5, 'N')]\n",
      "Case #1: None\n"
     ]
    }
   ],
   "source": [
    "T = int(input())\n",
    "\n",
    "\n",
    "\n",
    "for case in range(T):\n",
    "    P,Q = list(map(int, input().split(' ')))\n",
    "    Ps = []\n",
    "    for _ in range(P):\n",
    "        X,Y,D = input().split(' ')\n",
    "        X = int(X)\n",
    "        Y = int(Y)\n",
    "        assert D in ['N','E','S','W']\n",
    "        Ps.append((X,Y,D))\n",
    "    solution = solve(P,Q,Ps)\n",
    "    print(f\"Case #{case+1}: {solution}\")\n",
    "    \n"
   ]
  },
  {
   "cell_type": "code",
   "execution_count": null,
   "metadata": {},
   "outputs": [],
   "source": []
  },
  {
   "cell_type": "code",
   "execution_count": null,
   "metadata": {},
   "outputs": [],
   "source": []
  }
 ],
 "metadata": {
  "kernelspec": {
   "display_name": "Python 3",
   "language": "python",
   "name": "python3"
  },
  "language_info": {
   "codemirror_mode": {
    "name": "ipython",
    "version": 3
   },
   "file_extension": ".py",
   "mimetype": "text/x-python",
   "name": "python",
   "nbconvert_exporter": "python",
   "pygments_lexer": "ipython3",
   "version": "3.7.3"
  }
 },
 "nbformat": 4,
 "nbformat_minor": 2
}
