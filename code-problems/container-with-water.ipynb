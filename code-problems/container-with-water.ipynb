{
 "cells": [
  {
   "cell_type": "markdown",
   "metadata": {},
   "source": [
    "# Container With Most Water\n",
    "\n",
    "From [leetcode](https://leetcode.com/problems/container-with-most-water/)"
   ]
  },
  {
   "cell_type": "code",
   "execution_count": 5,
   "metadata": {},
   "outputs": [],
   "source": [
    "# brute force: O(n^2)\n",
    "from typing import List\n",
    "class Solution:\n",
    "    def maxArea(self, height: List[int]) -> int:\n",
    "        _maxArea = 0\n",
    "        for lIdx,lBar in enumerate(height):\n",
    "            for rIdx,rBar in enumerate(height[lIdx+1:]):\n",
    "                rIdx += 1 + lIdx\n",
    "                area = min(lBar,rBar) * (rIdx-lIdx)\n",
    "                _maxArea = max(area, _maxArea)\n",
    "        return _maxArea \n",
    "    \n",
    "assert Solution().maxArea([1,8,6,2,5,4,8,3,7]) == 49"
   ]
  },
  {
   "cell_type": "code",
   "execution_count": 6,
   "metadata": {},
   "outputs": [],
   "source": [
    "# O(n), 2 pointers\n",
    "from typing import List\n",
    "class Solution:\n",
    "    def maxArea(self, height: List[int]) -> int:\n",
    "        lIdx = 0\n",
    "        rIdx = len(height) - 1\n",
    "        maxArea = -1\n",
    "        while lIdx < rIdx:\n",
    "            lHeight = height[lIdx]\n",
    "            rHeight = height[rIdx]\n",
    "            area = min(lHeight,rHeight)*(rIdx-lIdx)\n",
    "            maxArea = max(area, maxArea)\n",
    "            if lHeight < rHeight:\n",
    "                lIdx += 1\n",
    "            else:\n",
    "                rIdx -= 1\n",
    "        return maxArea\n",
    "    \n",
    "assert Solution().maxArea([1,8,6,2,5,4,8,3,7]) == 49\n"
   ]
  }
 ],
 "metadata": {
  "kernelspec": {
   "display_name": "Python 3",
   "language": "python",
   "name": "python3"
  },
  "language_info": {
   "codemirror_mode": {
    "name": "ipython",
    "version": 3
   },
   "file_extension": ".py",
   "mimetype": "text/x-python",
   "name": "python",
   "nbconvert_exporter": "python",
   "pygments_lexer": "ipython3",
   "version": "3.7.3"
  }
 },
 "nbformat": 4,
 "nbformat_minor": 2
}
